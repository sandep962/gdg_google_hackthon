{
 "cells": [
  {
   "cell_type": "code",
   "execution_count": 9,
   "id": "f3c6448a",
   "metadata": {
    "colab": {
     "base_uri": "https://localhost:8080/",
     "height": 834
    },
    "executionInfo": {
     "elapsed": 75,
     "status": "ok",
     "timestamp": 1743065424548,
     "user": {
      "displayName": "Sandeep D B",
      "userId": "10429814731141203484"
     },
     "user_tz": -330
    },
    "id": "f3c6448a",
    "outputId": "27478eec-00e0-47fc-d0d7-69600aa6c24f"
   },
   "outputs": [
    {
     "name": "stdout",
     "output_type": "stream",
     "text": [
      "<class 'pandas.core.frame.DataFrame'>\n",
      "RangeIndex: 1000 entries, 0 to 999\n",
      "Data columns (total 17 columns):\n",
      " #   Column                      Non-Null Count  Dtype \n",
      "---  ------                      --------------  ----- \n",
      " 0   Scam_Type                   1000 non-null   object\n",
      " 1   Scam_Description            1000 non-null   object\n",
      " 2   Medium_Used                 1000 non-null   object\n",
      " 3   Target_Actions              1000 non-null   object\n",
      " 4   Common_Phrases              1000 non-null   object\n",
      " 5   Threat_Emotional            1000 non-null   int64 \n",
      " 6   Threat_Financial            1000 non-null   int64 \n",
      " 7   Threat_Financial/Emotional  1000 non-null   int64 \n",
      " 8   Threat_Financial/Personal   1000 non-null   int64 \n",
      " 9   Threat_Legal                1000 non-null   int64 \n",
      " 10  Threat_Personal             1000 non-null   int64 \n",
      " 11  threat_type_encoded         1000 non-null   int64 \n",
      " 12  Threat_Type_1               1000 non-null   int64 \n",
      " 13  Threat_Type_2               1000 non-null   int64 \n",
      " 14  Threat_Type_3               1000 non-null   int64 \n",
      " 15  Threat_Type_4               1000 non-null   int64 \n",
      " 16  Threat_Type_5               1000 non-null   int64 \n",
      "dtypes: int64(12), object(5)\n",
      "memory usage: 132.9+ KB\n",
      "None\n"
     ]
    },
    {
     "data": {
      "application/vnd.google.colaboratory.intrinsic+json": {
       "summary": "{\n  \"name\": \"df\",\n  \"rows\": 1000,\n  \"fields\": [\n    {\n      \"column\": \"Scam_Type\",\n      \"properties\": {\n        \"dtype\": \"category\",\n        \"num_unique_values\": 10,\n        \"samples\": [\n          \"Investment Scams\",\n          \"Charity Scams\",\n          \"Extortion Scams\"\n        ],\n        \"semantic_type\": \"\",\n        \"description\": \"\"\n      }\n    },\n    {\n      \"column\": \"Scam_Description\",\n      \"properties\": {\n        \"dtype\": \"category\",\n        \"num_unique_values\": 10,\n        \"samples\": [\n          \"Exploits online relationships to demand money or gifts.\",\n          \"Claims the victim's device is infected with malware and demands payment.\",\n          \"Promotes fake investment opportunities to steal money.\"\n        ],\n        \"semantic_type\": \"\",\n        \"description\": \"\"\n      }\n    },\n    {\n      \"column\": \"Medium_Used\",\n      \"properties\": {\n        \"dtype\": \"category\",\n        \"num_unique_values\": 6,\n        \"samples\": [\n          \"Dating Apps\",\n          \"Pop-ups\",\n          \"SMS\"\n        ],\n        \"semantic_type\": \"\",\n        \"description\": \"\"\n      }\n    },\n    {\n      \"column\": \"Target_Actions\",\n      \"properties\": {\n        \"dtype\": \"category\",\n        \"num_unique_values\": 9,\n        \"samples\": [\n          \"Pay fine to avoid arrest\",\n          \"Donate to fake charity\",\n          \"Invest in fake opportunity\"\n        ],\n        \"semantic_type\": \"\",\n        \"description\": \"\"\n      }\n    },\n    {\n      \"column\": \"Common_Phrases\",\n      \"properties\": {\n        \"dtype\": \"category\",\n        \"num_unique_values\": 10,\n        \"samples\": [\n          \"irs pay avoid legal action\",\n          \"charity drive donate\",\n          \"account compromised act\"\n        ],\n        \"semantic_type\": \"\",\n        \"description\": \"\"\n      }\n    },\n    {\n      \"column\": \"Threat_Emotional\",\n      \"properties\": {\n        \"dtype\": \"number\",\n        \"std\": 0,\n        \"min\": 0,\n        \"max\": 1,\n        \"num_unique_values\": 2,\n        \"samples\": [\n          0,\n          1\n        ],\n        \"semantic_type\": \"\",\n        \"description\": \"\"\n      }\n    },\n    {\n      \"column\": \"Threat_Financial\",\n      \"properties\": {\n        \"dtype\": \"number\",\n        \"std\": 0,\n        \"min\": 0,\n        \"max\": 1,\n        \"num_unique_values\": 2,\n        \"samples\": [\n          1,\n          0\n        ],\n        \"semantic_type\": \"\",\n        \"description\": \"\"\n      }\n    },\n    {\n      \"column\": \"Threat_Financial/Emotional\",\n      \"properties\": {\n        \"dtype\": \"number\",\n        \"std\": 0,\n        \"min\": 0,\n        \"max\": 1,\n        \"num_unique_values\": 2,\n        \"samples\": [\n          1,\n          0\n        ],\n        \"semantic_type\": \"\",\n        \"description\": \"\"\n      }\n    },\n    {\n      \"column\": \"Threat_Financial/Personal\",\n      \"properties\": {\n        \"dtype\": \"number\",\n        \"std\": 0,\n        \"min\": 0,\n        \"max\": 1,\n        \"num_unique_values\": 2,\n        \"samples\": [\n          1,\n          0\n        ],\n        \"semantic_type\": \"\",\n        \"description\": \"\"\n      }\n    },\n    {\n      \"column\": \"Threat_Legal\",\n      \"properties\": {\n        \"dtype\": \"number\",\n        \"std\": 0,\n        \"min\": 0,\n        \"max\": 1,\n        \"num_unique_values\": 2,\n        \"samples\": [\n          1,\n          0\n        ],\n        \"semantic_type\": \"\",\n        \"description\": \"\"\n      }\n    },\n    {\n      \"column\": \"Threat_Personal\",\n      \"properties\": {\n        \"dtype\": \"number\",\n        \"std\": 0,\n        \"min\": 0,\n        \"max\": 1,\n        \"num_unique_values\": 2,\n        \"samples\": [\n          1,\n          0\n        ],\n        \"semantic_type\": \"\",\n        \"description\": \"\"\n      }\n    },\n    {\n      \"column\": \"threat_type_encoded\",\n      \"properties\": {\n        \"dtype\": \"number\",\n        \"std\": 1,\n        \"min\": 0,\n        \"max\": 5,\n        \"num_unique_values\": 6,\n        \"samples\": [\n          0,\n          4\n        ],\n        \"semantic_type\": \"\",\n        \"description\": \"\"\n      }\n    },\n    {\n      \"column\": \"Threat_Type_1\",\n      \"properties\": {\n        \"dtype\": \"number\",\n        \"std\": 0,\n        \"min\": 0,\n        \"max\": 1,\n        \"num_unique_values\": 2,\n        \"samples\": [\n          1,\n          0\n        ],\n        \"semantic_type\": \"\",\n        \"description\": \"\"\n      }\n    },\n    {\n      \"column\": \"Threat_Type_2\",\n      \"properties\": {\n        \"dtype\": \"number\",\n        \"std\": 0,\n        \"min\": 0,\n        \"max\": 1,\n        \"num_unique_values\": 2,\n        \"samples\": [\n          1,\n          0\n        ],\n        \"semantic_type\": \"\",\n        \"description\": \"\"\n      }\n    },\n    {\n      \"column\": \"Threat_Type_3\",\n      \"properties\": {\n        \"dtype\": \"number\",\n        \"std\": 0,\n        \"min\": 0,\n        \"max\": 1,\n        \"num_unique_values\": 2,\n        \"samples\": [\n          1,\n          0\n        ],\n        \"semantic_type\": \"\",\n        \"description\": \"\"\n      }\n    },\n    {\n      \"column\": \"Threat_Type_4\",\n      \"properties\": {\n        \"dtype\": \"number\",\n        \"std\": 0,\n        \"min\": 0,\n        \"max\": 1,\n        \"num_unique_values\": 2,\n        \"samples\": [\n          1,\n          0\n        ],\n        \"semantic_type\": \"\",\n        \"description\": \"\"\n      }\n    },\n    {\n      \"column\": \"Threat_Type_5\",\n      \"properties\": {\n        \"dtype\": \"number\",\n        \"std\": 0,\n        \"min\": 0,\n        \"max\": 1,\n        \"num_unique_values\": 2,\n        \"samples\": [\n          1,\n          0\n        ],\n        \"semantic_type\": \"\",\n        \"description\": \"\"\n      }\n    }\n  ]\n}",
       "type": "dataframe",
       "variable_name": "df"
      },
      "text/html": [
       "\n",
       "  <div id=\"df-148f8fa8-a8df-4bdd-a276-95c33d9e7c02\" class=\"colab-df-container\">\n",
       "    <div>\n",
       "<style scoped>\n",
       "    .dataframe tbody tr th:only-of-type {\n",
       "        vertical-align: middle;\n",
       "    }\n",
       "\n",
       "    .dataframe tbody tr th {\n",
       "        vertical-align: top;\n",
       "    }\n",
       "\n",
       "    .dataframe thead th {\n",
       "        text-align: right;\n",
       "    }\n",
       "</style>\n",
       "<table border=\"1\" class=\"dataframe\">\n",
       "  <thead>\n",
       "    <tr style=\"text-align: right;\">\n",
       "      <th></th>\n",
       "      <th>Scam_Type</th>\n",
       "      <th>Scam_Description</th>\n",
       "      <th>Medium_Used</th>\n",
       "      <th>Target_Actions</th>\n",
       "      <th>Common_Phrases</th>\n",
       "      <th>Threat_Emotional</th>\n",
       "      <th>Threat_Financial</th>\n",
       "      <th>Threat_Financial/Emotional</th>\n",
       "      <th>Threat_Financial/Personal</th>\n",
       "      <th>Threat_Legal</th>\n",
       "      <th>Threat_Personal</th>\n",
       "      <th>threat_type_encoded</th>\n",
       "      <th>Threat_Type_1</th>\n",
       "      <th>Threat_Type_2</th>\n",
       "      <th>Threat_Type_3</th>\n",
       "      <th>Threat_Type_4</th>\n",
       "      <th>Threat_Type_5</th>\n",
       "    </tr>\n",
       "  </thead>\n",
       "  <tbody>\n",
       "    <tr>\n",
       "      <th>0</th>\n",
       "      <td>Lottery Scams</td>\n",
       "      <td>Asks for donations to fake causes or charities.</td>\n",
       "      <td>Dating Apps</td>\n",
       "      <td>Send money or gifts</td>\n",
       "      <td>device infected call us fix</td>\n",
       "      <td>1</td>\n",
       "      <td>0</td>\n",
       "      <td>0</td>\n",
       "      <td>0</td>\n",
       "      <td>0</td>\n",
       "      <td>0</td>\n",
       "      <td>0</td>\n",
       "      <td>0</td>\n",
       "      <td>0</td>\n",
       "      <td>0</td>\n",
       "      <td>0</td>\n",
       "      <td>0</td>\n",
       "    </tr>\n",
       "    <tr>\n",
       "      <th>1</th>\n",
       "      <td>Charity Scams</td>\n",
       "      <td>Asks for donations to fake causes or charities.</td>\n",
       "      <td>Pop-ups</td>\n",
       "      <td>Send money or gifts</td>\n",
       "      <td>charity drive donate</td>\n",
       "      <td>0</td>\n",
       "      <td>0</td>\n",
       "      <td>0</td>\n",
       "      <td>0</td>\n",
       "      <td>1</td>\n",
       "      <td>0</td>\n",
       "      <td>4</td>\n",
       "      <td>0</td>\n",
       "      <td>0</td>\n",
       "      <td>0</td>\n",
       "      <td>1</td>\n",
       "      <td>0</td>\n",
       "    </tr>\n",
       "    <tr>\n",
       "      <th>2</th>\n",
       "      <td>Tech Support Scams</td>\n",
       "      <td>Claims the victim's device is infected with ma...</td>\n",
       "      <td>Dating Apps</td>\n",
       "      <td>Donate to fake charity</td>\n",
       "      <td>youve claim prize paying fee</td>\n",
       "      <td>0</td>\n",
       "      <td>0</td>\n",
       "      <td>0</td>\n",
       "      <td>1</td>\n",
       "      <td>0</td>\n",
       "      <td>0</td>\n",
       "      <td>3</td>\n",
       "      <td>0</td>\n",
       "      <td>0</td>\n",
       "      <td>1</td>\n",
       "      <td>0</td>\n",
       "      <td>0</td>\n",
       "    </tr>\n",
       "    <tr>\n",
       "      <th>3</th>\n",
       "      <td>Phishing Scams</td>\n",
       "      <td>Claims the victim has won a prize and asks for...</td>\n",
       "      <td>Pop-ups</td>\n",
       "      <td>Donate to fake charity</td>\n",
       "      <td>charity drive donate</td>\n",
       "      <td>0</td>\n",
       "      <td>0</td>\n",
       "      <td>1</td>\n",
       "      <td>0</td>\n",
       "      <td>0</td>\n",
       "      <td>0</td>\n",
       "      <td>2</td>\n",
       "      <td>0</td>\n",
       "      <td>1</td>\n",
       "      <td>0</td>\n",
       "      <td>0</td>\n",
       "      <td>0</td>\n",
       "    </tr>\n",
       "    <tr>\n",
       "      <th>4</th>\n",
       "      <td>Fake Law Enforcement Scams</td>\n",
       "      <td>Claims the victim has won a prize and asks for...</td>\n",
       "      <td>Phone</td>\n",
       "      <td>Make payment to avoid legal trouble</td>\n",
       "      <td>youve claim prize paying fee</td>\n",
       "      <td>0</td>\n",
       "      <td>1</td>\n",
       "      <td>0</td>\n",
       "      <td>0</td>\n",
       "      <td>0</td>\n",
       "      <td>0</td>\n",
       "      <td>1</td>\n",
       "      <td>1</td>\n",
       "      <td>0</td>\n",
       "      <td>0</td>\n",
       "      <td>0</td>\n",
       "      <td>0</td>\n",
       "    </tr>\n",
       "  </tbody>\n",
       "</table>\n",
       "</div>\n",
       "    <div class=\"colab-df-buttons\">\n",
       "\n",
       "  <div class=\"colab-df-container\">\n",
       "    <button class=\"colab-df-convert\" onclick=\"convertToInteractive('df-148f8fa8-a8df-4bdd-a276-95c33d9e7c02')\"\n",
       "            title=\"Convert this dataframe to an interactive table.\"\n",
       "            style=\"display:none;\">\n",
       "\n",
       "  <svg xmlns=\"http://www.w3.org/2000/svg\" height=\"24px\" viewBox=\"0 -960 960 960\">\n",
       "    <path d=\"M120-120v-720h720v720H120Zm60-500h600v-160H180v160Zm220 220h160v-160H400v160Zm0 220h160v-160H400v160ZM180-400h160v-160H180v160Zm440 0h160v-160H620v160ZM180-180h160v-160H180v160Zm440 0h160v-160H620v160Z\"/>\n",
       "  </svg>\n",
       "    </button>\n",
       "\n",
       "  <style>\n",
       "    .colab-df-container {\n",
       "      display:flex;\n",
       "      gap: 12px;\n",
       "    }\n",
       "\n",
       "    .colab-df-convert {\n",
       "      background-color: #E8F0FE;\n",
       "      border: none;\n",
       "      border-radius: 50%;\n",
       "      cursor: pointer;\n",
       "      display: none;\n",
       "      fill: #1967D2;\n",
       "      height: 32px;\n",
       "      padding: 0 0 0 0;\n",
       "      width: 32px;\n",
       "    }\n",
       "\n",
       "    .colab-df-convert:hover {\n",
       "      background-color: #E2EBFA;\n",
       "      box-shadow: 0px 1px 2px rgba(60, 64, 67, 0.3), 0px 1px 3px 1px rgba(60, 64, 67, 0.15);\n",
       "      fill: #174EA6;\n",
       "    }\n",
       "\n",
       "    .colab-df-buttons div {\n",
       "      margin-bottom: 4px;\n",
       "    }\n",
       "\n",
       "    [theme=dark] .colab-df-convert {\n",
       "      background-color: #3B4455;\n",
       "      fill: #D2E3FC;\n",
       "    }\n",
       "\n",
       "    [theme=dark] .colab-df-convert:hover {\n",
       "      background-color: #434B5C;\n",
       "      box-shadow: 0px 1px 3px 1px rgba(0, 0, 0, 0.15);\n",
       "      filter: drop-shadow(0px 1px 2px rgba(0, 0, 0, 0.3));\n",
       "      fill: #FFFFFF;\n",
       "    }\n",
       "  </style>\n",
       "\n",
       "    <script>\n",
       "      const buttonEl =\n",
       "        document.querySelector('#df-148f8fa8-a8df-4bdd-a276-95c33d9e7c02 button.colab-df-convert');\n",
       "      buttonEl.style.display =\n",
       "        google.colab.kernel.accessAllowed ? 'block' : 'none';\n",
       "\n",
       "      async function convertToInteractive(key) {\n",
       "        const element = document.querySelector('#df-148f8fa8-a8df-4bdd-a276-95c33d9e7c02');\n",
       "        const dataTable =\n",
       "          await google.colab.kernel.invokeFunction('convertToInteractive',\n",
       "                                                    [key], {});\n",
       "        if (!dataTable) return;\n",
       "\n",
       "        const docLinkHtml = 'Like what you see? Visit the ' +\n",
       "          '<a target=\"_blank\" href=https://colab.research.google.com/notebooks/data_table.ipynb>data table notebook</a>'\n",
       "          + ' to learn more about interactive tables.';\n",
       "        element.innerHTML = '';\n",
       "        dataTable['output_type'] = 'display_data';\n",
       "        await google.colab.output.renderOutput(dataTable, element);\n",
       "        const docLink = document.createElement('div');\n",
       "        docLink.innerHTML = docLinkHtml;\n",
       "        element.appendChild(docLink);\n",
       "      }\n",
       "    </script>\n",
       "  </div>\n",
       "\n",
       "\n",
       "<div id=\"df-ca48ad81-2409-4a29-89f1-88ee95eebfee\">\n",
       "  <button class=\"colab-df-quickchart\" onclick=\"quickchart('df-ca48ad81-2409-4a29-89f1-88ee95eebfee')\"\n",
       "            title=\"Suggest charts\"\n",
       "            style=\"display:none;\">\n",
       "\n",
       "<svg xmlns=\"http://www.w3.org/2000/svg\" height=\"24px\"viewBox=\"0 0 24 24\"\n",
       "     width=\"24px\">\n",
       "    <g>\n",
       "        <path d=\"M19 3H5c-1.1 0-2 .9-2 2v14c0 1.1.9 2 2 2h14c1.1 0 2-.9 2-2V5c0-1.1-.9-2-2-2zM9 17H7v-7h2v7zm4 0h-2V7h2v10zm4 0h-2v-4h2v4z\"/>\n",
       "    </g>\n",
       "</svg>\n",
       "  </button>\n",
       "\n",
       "<style>\n",
       "  .colab-df-quickchart {\n",
       "      --bg-color: #E8F0FE;\n",
       "      --fill-color: #1967D2;\n",
       "      --hover-bg-color: #E2EBFA;\n",
       "      --hover-fill-color: #174EA6;\n",
       "      --disabled-fill-color: #AAA;\n",
       "      --disabled-bg-color: #DDD;\n",
       "  }\n",
       "\n",
       "  [theme=dark] .colab-df-quickchart {\n",
       "      --bg-color: #3B4455;\n",
       "      --fill-color: #D2E3FC;\n",
       "      --hover-bg-color: #434B5C;\n",
       "      --hover-fill-color: #FFFFFF;\n",
       "      --disabled-bg-color: #3B4455;\n",
       "      --disabled-fill-color: #666;\n",
       "  }\n",
       "\n",
       "  .colab-df-quickchart {\n",
       "    background-color: var(--bg-color);\n",
       "    border: none;\n",
       "    border-radius: 50%;\n",
       "    cursor: pointer;\n",
       "    display: none;\n",
       "    fill: var(--fill-color);\n",
       "    height: 32px;\n",
       "    padding: 0;\n",
       "    width: 32px;\n",
       "  }\n",
       "\n",
       "  .colab-df-quickchart:hover {\n",
       "    background-color: var(--hover-bg-color);\n",
       "    box-shadow: 0 1px 2px rgba(60, 64, 67, 0.3), 0 1px 3px 1px rgba(60, 64, 67, 0.15);\n",
       "    fill: var(--button-hover-fill-color);\n",
       "  }\n",
       "\n",
       "  .colab-df-quickchart-complete:disabled,\n",
       "  .colab-df-quickchart-complete:disabled:hover {\n",
       "    background-color: var(--disabled-bg-color);\n",
       "    fill: var(--disabled-fill-color);\n",
       "    box-shadow: none;\n",
       "  }\n",
       "\n",
       "  .colab-df-spinner {\n",
       "    border: 2px solid var(--fill-color);\n",
       "    border-color: transparent;\n",
       "    border-bottom-color: var(--fill-color);\n",
       "    animation:\n",
       "      spin 1s steps(1) infinite;\n",
       "  }\n",
       "\n",
       "  @keyframes spin {\n",
       "    0% {\n",
       "      border-color: transparent;\n",
       "      border-bottom-color: var(--fill-color);\n",
       "      border-left-color: var(--fill-color);\n",
       "    }\n",
       "    20% {\n",
       "      border-color: transparent;\n",
       "      border-left-color: var(--fill-color);\n",
       "      border-top-color: var(--fill-color);\n",
       "    }\n",
       "    30% {\n",
       "      border-color: transparent;\n",
       "      border-left-color: var(--fill-color);\n",
       "      border-top-color: var(--fill-color);\n",
       "      border-right-color: var(--fill-color);\n",
       "    }\n",
       "    40% {\n",
       "      border-color: transparent;\n",
       "      border-right-color: var(--fill-color);\n",
       "      border-top-color: var(--fill-color);\n",
       "    }\n",
       "    60% {\n",
       "      border-color: transparent;\n",
       "      border-right-color: var(--fill-color);\n",
       "    }\n",
       "    80% {\n",
       "      border-color: transparent;\n",
       "      border-right-color: var(--fill-color);\n",
       "      border-bottom-color: var(--fill-color);\n",
       "    }\n",
       "    90% {\n",
       "      border-color: transparent;\n",
       "      border-bottom-color: var(--fill-color);\n",
       "    }\n",
       "  }\n",
       "</style>\n",
       "\n",
       "  <script>\n",
       "    async function quickchart(key) {\n",
       "      const quickchartButtonEl =\n",
       "        document.querySelector('#' + key + ' button');\n",
       "      quickchartButtonEl.disabled = true;  // To prevent multiple clicks.\n",
       "      quickchartButtonEl.classList.add('colab-df-spinner');\n",
       "      try {\n",
       "        const charts = await google.colab.kernel.invokeFunction(\n",
       "            'suggestCharts', [key], {});\n",
       "      } catch (error) {\n",
       "        console.error('Error during call to suggestCharts:', error);\n",
       "      }\n",
       "      quickchartButtonEl.classList.remove('colab-df-spinner');\n",
       "      quickchartButtonEl.classList.add('colab-df-quickchart-complete');\n",
       "    }\n",
       "    (() => {\n",
       "      let quickchartButtonEl =\n",
       "        document.querySelector('#df-ca48ad81-2409-4a29-89f1-88ee95eebfee button');\n",
       "      quickchartButtonEl.style.display =\n",
       "        google.colab.kernel.accessAllowed ? 'block' : 'none';\n",
       "    })();\n",
       "  </script>\n",
       "</div>\n",
       "\n",
       "    </div>\n",
       "  </div>\n"
      ],
      "text/plain": [
       "                    Scam_Type  \\\n",
       "0               Lottery Scams   \n",
       "1               Charity Scams   \n",
       "2          Tech Support Scams   \n",
       "3              Phishing Scams   \n",
       "4  Fake Law Enforcement Scams   \n",
       "\n",
       "                                    Scam_Description  Medium_Used  \\\n",
       "0    Asks for donations to fake causes or charities.  Dating Apps   \n",
       "1    Asks for donations to fake causes or charities.      Pop-ups   \n",
       "2  Claims the victim's device is infected with ma...  Dating Apps   \n",
       "3  Claims the victim has won a prize and asks for...      Pop-ups   \n",
       "4  Claims the victim has won a prize and asks for...        Phone   \n",
       "\n",
       "                        Target_Actions                Common_Phrases  \\\n",
       "0                  Send money or gifts   device infected call us fix   \n",
       "1                  Send money or gifts          charity drive donate   \n",
       "2               Donate to fake charity  youve claim prize paying fee   \n",
       "3               Donate to fake charity          charity drive donate   \n",
       "4  Make payment to avoid legal trouble  youve claim prize paying fee   \n",
       "\n",
       "   Threat_Emotional  Threat_Financial  Threat_Financial/Emotional  \\\n",
       "0                 1                 0                           0   \n",
       "1                 0                 0                           0   \n",
       "2                 0                 0                           0   \n",
       "3                 0                 0                           1   \n",
       "4                 0                 1                           0   \n",
       "\n",
       "   Threat_Financial/Personal  Threat_Legal  Threat_Personal  \\\n",
       "0                          0             0                0   \n",
       "1                          0             1                0   \n",
       "2                          1             0                0   \n",
       "3                          0             0                0   \n",
       "4                          0             0                0   \n",
       "\n",
       "   threat_type_encoded  Threat_Type_1  Threat_Type_2  Threat_Type_3  \\\n",
       "0                    0              0              0              0   \n",
       "1                    4              0              0              0   \n",
       "2                    3              0              0              1   \n",
       "3                    2              0              1              0   \n",
       "4                    1              1              0              0   \n",
       "\n",
       "   Threat_Type_4  Threat_Type_5  \n",
       "0              0              0  \n",
       "1              1              0  \n",
       "2              0              0  \n",
       "3              0              0  \n",
       "4              0              0  "
      ]
     },
     "execution_count": 9,
     "metadata": {},
     "output_type": "execute_result"
    }
   ],
   "source": [
    "import pandas as pd\n",
    "\n",
    "# Load the dataset\n",
    "df = pd.read_csv(\"preprocessed_data.csv\")\n",
    "\n",
    "# Display basic information and first few rows\n",
    "print(df.info())  # Check dataset structure\n",
    "df.head()  # Show first 5 rows\n"
   ]
  },
  {
   "cell_type": "code",
   "execution_count": 10,
   "id": "97839028",
   "metadata": {
    "colab": {
     "base_uri": "https://localhost:8080/"
    },
    "executionInfo": {
     "elapsed": 122,
     "status": "ok",
     "timestamp": 1743065426025,
     "user": {
      "displayName": "Sandeep D B",
      "userId": "10429814731141203484"
     },
     "user_tz": -330
    },
    "id": "97839028",
    "outputId": "21a165c0-4fbe-45ff-c53b-119ea3c556a9"
   },
   "outputs": [
    {
     "name": "stdout",
     "output_type": "stream",
     "text": [
      "Training data size: (800, 27)\n",
      "Testing data size: (200, 27)\n"
     ]
    }
   ],
   "source": [
    "from sklearn.preprocessing import LabelEncoder, OneHotEncoder\n",
    "from tensorflow.keras.preprocessing.text import Tokenizer\n",
    "from tensorflow.keras.preprocessing.sequence import pad_sequences\n",
    "from sklearn.model_selection import train_test_split\n",
    "\n",
    "# Encode 'Scam_Type' (Target variable)\n",
    "label_encoder = LabelEncoder()\n",
    "df['Scam_Type_Encoded'] = label_encoder.fit_transform(df['Scam_Type'])\n",
    "\n",
    "# One-Hot Encoding for 'Medium_Used' and 'Target_Actions'\n",
    "df = pd.get_dummies(df, columns=['Medium_Used', 'Target_Actions'], drop_first=True)\n",
    "\n",
    "# Tokenization for NLP-based columns\n",
    "tokenizer = Tokenizer(num_words=5000, oov_token=\"<OOV>\")\n",
    "tokenizer.fit_on_texts(df['Scam_Description'] + df['Common_Phrases'])\n",
    "\n",
    "# Convert text to sequences and pad them\n",
    "df['Scam_Description_Seq'] = pad_sequences(tokenizer.texts_to_sequences(df['Scam_Description']), maxlen=50).tolist()\n",
    "df['Common_Phrases_Seq'] = pad_sequences(tokenizer.texts_to_sequences(df['Common_Phrases']), maxlen=50).tolist()\n",
    "\n",
    "# Train-Test Split\n",
    "X = df.drop(['Scam_Type', 'Scam_Description', 'Common_Phrases', 'Scam_Type_Encoded'], axis=1)\n",
    "y = df['Scam_Type_Encoded']\n",
    "\n",
    "X_train, X_test, y_train, y_test = train_test_split(X, y, test_size=0.2, random_state=42)\n",
    "\n",
    "print(f\"Training data size: {X_train.shape}\")\n",
    "print(f\"Testing data size: {X_test.shape}\")\n"
   ]
  },
  {
   "cell_type": "code",
   "execution_count": 11,
   "id": "97d248d2",
   "metadata": {
    "colab": {
     "base_uri": "https://localhost:8080/"
    },
    "executionInfo": {
     "elapsed": 29,
     "status": "ok",
     "timestamp": 1743065426988,
     "user": {
      "displayName": "Sandeep D B",
      "userId": "10429814731141203484"
     },
     "user_tz": -330
    },
    "id": "97d248d2",
    "outputId": "b3c54c54-1432-48cb-a784-4db157fd601b"
   },
   "outputs": [
    {
     "name": "stdout",
     "output_type": "stream",
     "text": [
      "Threat_Emotional                                       int64\n",
      "Threat_Financial                                       int64\n",
      "Threat_Financial/Emotional                             int64\n",
      "Threat_Financial/Personal                              int64\n",
      "Threat_Legal                                           int64\n",
      "Threat_Personal                                        int64\n",
      "threat_type_encoded                                    int64\n",
      "Threat_Type_1                                          int64\n",
      "Threat_Type_2                                          int64\n",
      "Threat_Type_3                                          int64\n",
      "Threat_Type_4                                          int64\n",
      "Threat_Type_5                                          int64\n",
      "Medium_Used_Email                                       bool\n",
      "Medium_Used_Phone                                       bool\n",
      "Medium_Used_Pop-ups                                     bool\n",
      "Medium_Used_SMS                                         bool\n",
      "Medium_Used_Social Media                                bool\n",
      "Target_Actions_Donate to fake charity                   bool\n",
      "Target_Actions_Invest in fake opportunity               bool\n",
      "Target_Actions_Make payment to avoid legal trouble      bool\n",
      "Target_Actions_Pay fine to avoid arrest                 bool\n",
      "Target_Actions_Pay for fake services                    bool\n",
      "Target_Actions_Pay ransom                               bool\n",
      "Target_Actions_Provide personal information             bool\n",
      "Target_Actions_Send money or gifts                      bool\n",
      "Scam_Description_Seq                                  object\n",
      "Common_Phrases_Seq                                    object\n",
      "dtype: object\n"
     ]
    }
   ],
   "source": [
    "\n",
    "print(X_train.dtypes)\n"
   ]
  },
  {
   "cell_type": "code",
   "execution_count": 12,
   "id": "fea092ec",
   "metadata": {
    "colab": {
     "base_uri": "https://localhost:8080/"
    },
    "executionInfo": {
     "elapsed": 32,
     "status": "ok",
     "timestamp": 1743065427935,
     "user": {
      "displayName": "Sandeep D B",
      "userId": "10429814731141203484"
     },
     "user_tz": -330
    },
    "id": "fea092ec",
    "outputId": "90ac7cbf-3699-46c2-a357-dde6aa390acb"
   },
   "outputs": [
    {
     "name": "stdout",
     "output_type": "stream",
     "text": [
      "                                  Scam_Description_Seq  \\\n",
      "29   [0, 0, 0, 0, 0, 0, 0, 0, 0, 0, 0, 0, 0, 0, 0, ...   \n",
      "535  [0, 0, 0, 0, 0, 0, 0, 0, 0, 0, 0, 0, 0, 0, 0, ...   \n",
      "695  [0, 0, 0, 0, 0, 0, 0, 0, 0, 0, 0, 0, 0, 0, 0, ...   \n",
      "557  [0, 0, 0, 0, 0, 0, 0, 0, 0, 0, 0, 0, 0, 0, 0, ...   \n",
      "836  [0, 0, 0, 0, 0, 0, 0, 0, 0, 0, 0, 0, 0, 0, 0, ...   \n",
      "596  [0, 0, 0, 0, 0, 0, 0, 0, 0, 0, 0, 0, 0, 0, 0, ...   \n",
      "165  [0, 0, 0, 0, 0, 0, 0, 0, 0, 0, 0, 0, 0, 0, 0, ...   \n",
      "918  [0, 0, 0, 0, 0, 0, 0, 0, 0, 0, 0, 0, 0, 0, 0, ...   \n",
      "495  [0, 0, 0, 0, 0, 0, 0, 0, 0, 0, 0, 0, 0, 0, 0, ...   \n",
      "824  [0, 0, 0, 0, 0, 0, 0, 0, 0, 0, 0, 0, 0, 0, 0, ...   \n",
      "\n",
      "                                    Common_Phrases_Seq  \n",
      "29   [0, 0, 0, 0, 0, 0, 0, 0, 0, 0, 0, 0, 0, 0, 0, ...  \n",
      "535  [0, 0, 0, 0, 0, 0, 0, 0, 0, 0, 0, 0, 0, 0, 0, ...  \n",
      "695  [0, 0, 0, 0, 0, 0, 0, 0, 0, 0, 0, 0, 0, 0, 0, ...  \n",
      "557  [0, 0, 0, 0, 0, 0, 0, 0, 0, 0, 0, 0, 0, 0, 0, ...  \n",
      "836  [0, 0, 0, 0, 0, 0, 0, 0, 0, 0, 0, 0, 0, 0, 0, ...  \n",
      "596  [0, 0, 0, 0, 0, 0, 0, 0, 0, 0, 0, 0, 0, 0, 0, ...  \n",
      "165  [0, 0, 0, 0, 0, 0, 0, 0, 0, 0, 0, 0, 0, 0, 0, ...  \n",
      "918  [0, 0, 0, 0, 0, 0, 0, 0, 0, 0, 0, 0, 0, 0, 0, ...  \n",
      "495  [0, 0, 0, 0, 0, 0, 0, 0, 0, 0, 0, 0, 0, 0, 0, ...  \n",
      "824  [0, 0, 0, 0, 0, 0, 0, 0, 0, 0, 0, 0, 0, 0, 0, ...  \n"
     ]
    }
   ],
   "source": [
    "print(X_train[['Scam_Description_Seq', 'Common_Phrases_Seq']].head(10))\n"
   ]
  },
  {
   "cell_type": "code",
   "execution_count": 13,
   "id": "11299353",
   "metadata": {
    "executionInfo": {
     "elapsed": 3,
     "status": "ok",
     "timestamp": 1743065428696,
     "user": {
      "displayName": "Sandeep D B",
      "userId": "10429814731141203484"
     },
     "user_tz": -330
    },
    "id": "11299353"
   },
   "outputs": [],
   "source": [
    "import numpy as np\n",
    "X_train['Scam_Description_Seq'] = X_train['Scam_Description_Seq'].apply(lambda x: np.mean(x))\n",
    "X_train['Common_Phrases_Seq'] = X_train['Common_Phrases_Seq'].apply(lambda x: np.mean(x))\n",
    "\n",
    "X_test['Scam_Description_Seq'] = X_test['Scam_Description_Seq'].apply(lambda x: np.mean(x))\n",
    "X_test['Common_Phrases_Seq'] = X_test['Common_Phrases_Seq'].apply(lambda x: np.mean(x))\n"
   ]
  },
  {
   "cell_type": "code",
   "execution_count": 14,
   "id": "f3c84729",
   "metadata": {
    "executionInfo": {
     "elapsed": 19,
     "status": "ok",
     "timestamp": 1743065429512,
     "user": {
      "displayName": "Sandeep D B",
      "userId": "10429814731141203484"
     },
     "user_tz": -330
    },
    "id": "f3c84729"
   },
   "outputs": [],
   "source": [
    "X_train['Scam_Description_Seq'] = X_train['Scam_Description_Seq'].apply(lambda x: np.sum(x))\n",
    "X_train['Common_Phrases_Seq'] = X_train['Common_Phrases_Seq'].apply(lambda x: np.sum(x))\n"
   ]
  },
  {
   "cell_type": "code",
   "execution_count": 15,
   "id": "c0087a51",
   "metadata": {
    "colab": {
     "base_uri": "https://localhost:8080/"
    },
    "executionInfo": {
     "elapsed": 423,
     "status": "ok",
     "timestamp": 1743065430352,
     "user": {
      "displayName": "Sandeep D B",
      "userId": "10429814731141203484"
     },
     "user_tz": -330
    },
    "id": "c0087a51",
    "outputId": "a8018b3e-6cee-4633-ad6a-2e22ef2a7c2d"
   },
   "outputs": [
    {
     "name": "stdout",
     "output_type": "stream",
     "text": [
      "Top 10 Important Features:\n",
      "Scam_Description_Seq: 0.2300\n",
      "Common_Phrases_Seq: 0.2281\n",
      "Medium_Used_Pop-ups: 0.0415\n",
      "Medium_Used_Email: 0.0388\n",
      "Medium_Used_SMS: 0.0386\n",
      "Medium_Used_Phone: 0.0365\n",
      "Medium_Used_Social Media: 0.0353\n",
      "Target_Actions_Pay ransom: 0.0318\n",
      "Target_Actions_Send money or gifts: 0.0317\n",
      "Target_Actions_Provide personal information: 0.0308\n"
     ]
    }
   ],
   "source": [
    "from sklearn.ensemble import RandomForestClassifier\n",
    "import numpy as np\n",
    "\n",
    "# Train a basic Random Forest model to check feature importance\n",
    "rf = RandomForestClassifier(n_estimators=100, random_state=42)\n",
    "rf.fit(X_train, y_train)\n",
    "\n",
    "# Get feature importances\n",
    "feature_importances = rf.feature_importances_\n",
    "\n",
    "# Convert to a dictionary\n",
    "feature_dict = {X_train.columns[i]: feature_importances[i] for i in range(len(feature_importances))}\n",
    "\n",
    "# Sort by importance\n",
    "sorted_features = sorted(feature_dict.items(), key=lambda x: x[1], reverse=True)\n",
    "\n",
    "# Display top 10 important features\n",
    "print(\"Top 10 Important Features:\")\n",
    "for feature, importance in sorted_features[:10]:\n",
    "    print(f\"{feature}: {importance:.4f}\")\n"
   ]
  },
  {
   "cell_type": "code",
   "execution_count": 30,
   "id": "47dc0c1c",
   "metadata": {
    "colab": {
     "base_uri": "https://localhost:8080/",
     "height": 373
    },
    "executionInfo": {
     "elapsed": 10,
     "status": "error",
     "timestamp": 1743065460529,
     "user": {
      "displayName": "Sandeep D B",
      "userId": "10429814731141203484"
     },
     "user_tz": -330
    },
    "id": "47dc0c1c",
    "outputId": "48091f86-f288-4ec0-a60d-a278227eacee"
   },
   "outputs": [
    {
     "ename": "KeyError",
     "evalue": "\"None of [Index(['Scam_Description_Seq', 'Common_Phrases_Seq', 'Medium_Used_Pop-ups',\\n       'Medium_Used_Email', 'Medium_Used_SMS', 'Medium_Used_Phone',\\n       'Medium_Used_Social Media', 'Target_Actions_Pay ransom',\\n       'Target_Actions_Send money or gifts',\\n       'Target_Actions_Provide personal information'],\\n      dtype='object')] are in the [columns]\"",
     "output_type": "error",
     "traceback": [
      "\u001b[0;31m---------------------------------------------------------------------------\u001b[0m",
      "\u001b[0;31mKeyError\u001b[0m                                  Traceback (most recent call last)",
      "\u001b[0;32m<ipython-input-30-bdb83d93b1e1>\u001b[0m in \u001b[0;36m<cell line: 0>\u001b[0;34m()\u001b[0m\n\u001b[1;32m     12\u001b[0m \u001b[0;34m\u001b[0m\u001b[0m\n\u001b[1;32m     13\u001b[0m \u001b[0;31m# Compute correlation matrix\u001b[0m\u001b[0;34m\u001b[0m\u001b[0;34m\u001b[0m\u001b[0m\n\u001b[0;32m---> 14\u001b[0;31m \u001b[0mcorr_matrix\u001b[0m \u001b[0;34m=\u001b[0m \u001b[0mdf\u001b[0m\u001b[0;34m[\u001b[0m\u001b[0mtop_features\u001b[0m\u001b[0;34m]\u001b[0m\u001b[0;34m.\u001b[0m\u001b[0mcorr\u001b[0m\u001b[0;34m(\u001b[0m\u001b[0;34m)\u001b[0m\u001b[0;34m\u001b[0m\u001b[0;34m\u001b[0m\u001b[0m\n\u001b[0m\u001b[1;32m     15\u001b[0m \u001b[0;34m\u001b[0m\u001b[0m\n\u001b[1;32m     16\u001b[0m \u001b[0;31m# Plot heatmap\u001b[0m\u001b[0;34m\u001b[0m\u001b[0;34m\u001b[0m\u001b[0m\n",
      "\u001b[0;32m/usr/local/lib/python3.11/dist-packages/pandas/core/frame.py\u001b[0m in \u001b[0;36m__getitem__\u001b[0;34m(self, key)\u001b[0m\n\u001b[1;32m   4106\u001b[0m             \u001b[0;32mif\u001b[0m \u001b[0mis_iterator\u001b[0m\u001b[0;34m(\u001b[0m\u001b[0mkey\u001b[0m\u001b[0;34m)\u001b[0m\u001b[0;34m:\u001b[0m\u001b[0;34m\u001b[0m\u001b[0;34m\u001b[0m\u001b[0m\n\u001b[1;32m   4107\u001b[0m                 \u001b[0mkey\u001b[0m \u001b[0;34m=\u001b[0m \u001b[0mlist\u001b[0m\u001b[0;34m(\u001b[0m\u001b[0mkey\u001b[0m\u001b[0;34m)\u001b[0m\u001b[0;34m\u001b[0m\u001b[0;34m\u001b[0m\u001b[0m\n\u001b[0;32m-> 4108\u001b[0;31m             \u001b[0mindexer\u001b[0m \u001b[0;34m=\u001b[0m \u001b[0mself\u001b[0m\u001b[0;34m.\u001b[0m\u001b[0mcolumns\u001b[0m\u001b[0;34m.\u001b[0m\u001b[0m_get_indexer_strict\u001b[0m\u001b[0;34m(\u001b[0m\u001b[0mkey\u001b[0m\u001b[0;34m,\u001b[0m \u001b[0;34m\"columns\"\u001b[0m\u001b[0;34m)\u001b[0m\u001b[0;34m[\u001b[0m\u001b[0;36m1\u001b[0m\u001b[0;34m]\u001b[0m\u001b[0;34m\u001b[0m\u001b[0;34m\u001b[0m\u001b[0m\n\u001b[0m\u001b[1;32m   4109\u001b[0m \u001b[0;34m\u001b[0m\u001b[0m\n\u001b[1;32m   4110\u001b[0m         \u001b[0;31m# take() does not accept boolean indexers\u001b[0m\u001b[0;34m\u001b[0m\u001b[0;34m\u001b[0m\u001b[0m\n",
      "\u001b[0;32m/usr/local/lib/python3.11/dist-packages/pandas/core/indexes/base.py\u001b[0m in \u001b[0;36m_get_indexer_strict\u001b[0;34m(self, key, axis_name)\u001b[0m\n\u001b[1;32m   6198\u001b[0m             \u001b[0mkeyarr\u001b[0m\u001b[0;34m,\u001b[0m \u001b[0mindexer\u001b[0m\u001b[0;34m,\u001b[0m \u001b[0mnew_indexer\u001b[0m \u001b[0;34m=\u001b[0m \u001b[0mself\u001b[0m\u001b[0;34m.\u001b[0m\u001b[0m_reindex_non_unique\u001b[0m\u001b[0;34m(\u001b[0m\u001b[0mkeyarr\u001b[0m\u001b[0;34m)\u001b[0m\u001b[0;34m\u001b[0m\u001b[0;34m\u001b[0m\u001b[0m\n\u001b[1;32m   6199\u001b[0m \u001b[0;34m\u001b[0m\u001b[0m\n\u001b[0;32m-> 6200\u001b[0;31m         \u001b[0mself\u001b[0m\u001b[0;34m.\u001b[0m\u001b[0m_raise_if_missing\u001b[0m\u001b[0;34m(\u001b[0m\u001b[0mkeyarr\u001b[0m\u001b[0;34m,\u001b[0m \u001b[0mindexer\u001b[0m\u001b[0;34m,\u001b[0m \u001b[0maxis_name\u001b[0m\u001b[0;34m)\u001b[0m\u001b[0;34m\u001b[0m\u001b[0;34m\u001b[0m\u001b[0m\n\u001b[0m\u001b[1;32m   6201\u001b[0m \u001b[0;34m\u001b[0m\u001b[0m\n\u001b[1;32m   6202\u001b[0m         \u001b[0mkeyarr\u001b[0m \u001b[0;34m=\u001b[0m \u001b[0mself\u001b[0m\u001b[0;34m.\u001b[0m\u001b[0mtake\u001b[0m\u001b[0;34m(\u001b[0m\u001b[0mindexer\u001b[0m\u001b[0;34m)\u001b[0m\u001b[0;34m\u001b[0m\u001b[0;34m\u001b[0m\u001b[0m\n",
      "\u001b[0;32m/usr/local/lib/python3.11/dist-packages/pandas/core/indexes/base.py\u001b[0m in \u001b[0;36m_raise_if_missing\u001b[0;34m(self, key, indexer, axis_name)\u001b[0m\n\u001b[1;32m   6247\u001b[0m         \u001b[0;32mif\u001b[0m \u001b[0mnmissing\u001b[0m\u001b[0;34m:\u001b[0m\u001b[0;34m\u001b[0m\u001b[0;34m\u001b[0m\u001b[0m\n\u001b[1;32m   6248\u001b[0m             \u001b[0;32mif\u001b[0m \u001b[0mnmissing\u001b[0m \u001b[0;34m==\u001b[0m \u001b[0mlen\u001b[0m\u001b[0;34m(\u001b[0m\u001b[0mindexer\u001b[0m\u001b[0;34m)\u001b[0m\u001b[0;34m:\u001b[0m\u001b[0;34m\u001b[0m\u001b[0;34m\u001b[0m\u001b[0m\n\u001b[0;32m-> 6249\u001b[0;31m                 \u001b[0;32mraise\u001b[0m \u001b[0mKeyError\u001b[0m\u001b[0;34m(\u001b[0m\u001b[0;34mf\"None of [{key}] are in the [{axis_name}]\"\u001b[0m\u001b[0;34m)\u001b[0m\u001b[0;34m\u001b[0m\u001b[0;34m\u001b[0m\u001b[0m\n\u001b[0m\u001b[1;32m   6250\u001b[0m \u001b[0;34m\u001b[0m\u001b[0m\n\u001b[1;32m   6251\u001b[0m             \u001b[0mnot_found\u001b[0m \u001b[0;34m=\u001b[0m \u001b[0mlist\u001b[0m\u001b[0;34m(\u001b[0m\u001b[0mensure_index\u001b[0m\u001b[0;34m(\u001b[0m\u001b[0mkey\u001b[0m\u001b[0;34m)\u001b[0m\u001b[0;34m[\u001b[0m\u001b[0mmissing_mask\u001b[0m\u001b[0;34m.\u001b[0m\u001b[0mnonzero\u001b[0m\u001b[0;34m(\u001b[0m\u001b[0;34m)\u001b[0m\u001b[0;34m[\u001b[0m\u001b[0;36m0\u001b[0m\u001b[0;34m]\u001b[0m\u001b[0;34m]\u001b[0m\u001b[0;34m.\u001b[0m\u001b[0munique\u001b[0m\u001b[0;34m(\u001b[0m\u001b[0;34m)\u001b[0m\u001b[0;34m)\u001b[0m\u001b[0;34m\u001b[0m\u001b[0;34m\u001b[0m\u001b[0m\n",
      "\u001b[0;31mKeyError\u001b[0m: \"None of [Index(['Scam_Description_Seq', 'Common_Phrases_Seq', 'Medium_Used_Pop-ups',\\n       'Medium_Used_Email', 'Medium_Used_SMS', 'Medium_Used_Phone',\\n       'Medium_Used_Social Media', 'Target_Actions_Pay ransom',\\n       'Target_Actions_Send money or gifts',\\n       'Target_Actions_Provide personal information'],\\n      dtype='object')] are in the [columns]\""
     ]
    }
   ],
   "source": [
    "import pandas as pd\n",
    "import seaborn as sns\n",
    "import matplotlib.pyplot as plt\n",
    "\n",
    "# Assuming df is your dataset\n",
    "top_features = [\n",
    "    \"Scam_Description_Seq\", \"Common_Phrases_Seq\", \"Medium_Used_Pop-ups\",\n",
    "    \"Medium_Used_Email\", \"Medium_Used_SMS\", \"Medium_Used_Phone\",\n",
    "    \"Medium_Used_Social Media\", \"Target_Actions_Pay ransom\",\n",
    "    \"Target_Actions_Send money or gifts\", \"Target_Actions_Provide personal information\"\n",
    "]\n",
    "\n",
    "# Compute correlation matrix\n",
    "corr_matrix = df[top_features].corr()\n",
    "\n",
    "# Plot heatmap\n",
    "plt.figure(figsize=(10, 6))\n",
    "sns.heatmap(corr_matrix, annot=True, cmap=\"coolwarm\", fmt=\".2f\")\n",
    "plt.title(\"Feature Correlation Heatmap\")\n",
    "plt.show()\n"
   ]
  },
  {
   "cell_type": "code",
   "execution_count": 17,
   "id": "497f75d0",
   "metadata": {
    "executionInfo": {
     "elapsed": 2,
     "status": "ok",
     "timestamp": 1743065432050,
     "user": {
      "displayName": "Sandeep D B",
      "userId": "10429814731141203484"
     },
     "user_tz": -330
    },
    "id": "497f75d0"
   },
   "outputs": [],
   "source": [
    "from sklearn.preprocessing import LabelEncoder\n",
    "\n",
    "# Encode the target variable y\n",
    "label_encoder = LabelEncoder()\n",
    "y = label_encoder.fit_transform(y)  # Converts text labels to numerical labels\n"
   ]
  },
  {
   "cell_type": "code",
   "execution_count": 18,
   "id": "499d6dd7",
   "metadata": {
    "colab": {
     "base_uri": "https://localhost:8080/"
    },
    "executionInfo": {
     "elapsed": 3070,
     "status": "ok",
     "timestamp": 1743065437599,
     "user": {
      "displayName": "Sandeep D B",
      "userId": "10429814731141203484"
     },
     "user_tz": -330
    },
    "id": "499d6dd7",
    "outputId": "0a2570ec-dc53-4598-8b7e-86f86b99f58d"
   },
   "outputs": [
    {
     "name": "stdout",
     "output_type": "stream",
     "text": [
      "Selected Features: Index(['Scam_Description', 'Medium_Used', 'Target_Actions', 'Common_Phrases',\n",
      "       'Threat_Emotional', 'Threat_Financial/Personal', 'threat_type_encoded',\n",
      "       'Threat_Type_1', 'Threat_Type_2', 'Threat_Type_4'],\n",
      "      dtype='object')\n",
      "RandomForest Accuracy: 0.14\n"
     ]
    },
    {
     "name": "stderr",
     "output_type": "stream",
     "text": [
      "/usr/local/lib/python3.11/dist-packages/xgboost/core.py:158: UserWarning: [08:50:35] WARNING: /workspace/src/learner.cc:740: \n",
      "Parameters: { \"use_label_encoder\" } are not used.\n",
      "\n",
      "  warnings.warn(smsg, UserWarning)\n"
     ]
    },
    {
     "name": "stdout",
     "output_type": "stream",
     "text": [
      "XGBoost Accuracy: 0.13\n",
      "Sample Predictions: ['Tech Support Scams' 'Fake Law Enforcement Scams' 'Tech Support Scams'\n",
      " 'Extortion Scams' 'Lottery Scams']\n"
     ]
    }
   ],
   "source": [
    "import pandas as pd\n",
    "import numpy as np\n",
    "from sklearn.model_selection import train_test_split\n",
    "from sklearn.ensemble import RandomForestClassifier\n",
    "from xgboost import XGBClassifier\n",
    "from sklearn.feature_selection import RFE\n",
    "from sklearn.preprocessing import LabelEncoder\n",
    "from sklearn.metrics import accuracy_score\n",
    "\n",
    "# Load dataset\n",
    "df = pd.read_csv('preprocessed_data.csv')\n",
    "\n",
    "# Set the correct target column name\n",
    "target = 'Scam_Type'  # Change to your actual target column\n",
    "X = df.drop(columns=[target])\n",
    "y = df[target]\n",
    "\n",
    "# Encode categorical features in X\n",
    "categorical_cols = X.select_dtypes(include=['object']).columns\n",
    "label_encoders = {}\n",
    "for col in categorical_cols:\n",
    "    le = LabelEncoder()\n",
    "    X[col] = le.fit_transform(X[col])  # Convert text columns to numbers\n",
    "    label_encoders[col] = le  # Store for inverse transformation later\n",
    "\n",
    "# Encode the target variable y\n",
    "label_encoder = LabelEncoder()\n",
    "y = label_encoder.fit_transform(y)  # Convert text labels to numbers\n",
    "\n",
    "# Split data into training and testing sets\n",
    "X_train, X_test, y_train, y_test = train_test_split(X, y, test_size=0.2, random_state=42)\n",
    "\n",
    "# Feature Selection using RFE with RandomForest\n",
    "rf = RandomForestClassifier(n_estimators=100, random_state=42)\n",
    "rfe = RFE(estimator=rf, n_features_to_select=10)\n",
    "rfe.fit(X_train, y_train)\n",
    "\n",
    "# Selecting the top features\n",
    "selected_features = X.columns[rfe.support_]\n",
    "print(\"Selected Features:\", selected_features)\n",
    "\n",
    "# Training models with selected features\n",
    "X_train_selected = X_train[selected_features]\n",
    "X_test_selected = X_test[selected_features]\n",
    "\n",
    "# Train RandomForest\n",
    "rf_model = RandomForestClassifier(n_estimators=100, random_state=42)\n",
    "rf_model.fit(X_train_selected, y_train)\n",
    "y_pred_rf = rf_model.predict(X_test_selected)\n",
    "rf_acc = accuracy_score(y_test, y_pred_rf)\n",
    "print(\"RandomForest Accuracy:\", rf_acc)\n",
    "\n",
    "# Train XGBoost\n",
    "xgb_model = XGBClassifier(use_label_encoder=False, eval_metric='logloss')\n",
    "xgb_model.fit(X_train_selected, y_train)\n",
    "y_pred_xgb = xgb_model.predict(X_test_selected)\n",
    "xgb_acc = accuracy_score(y_test, y_pred_xgb)\n",
    "print(\"XGBoost Accuracy:\", xgb_acc)\n",
    "\n",
    "# Decode Predictions if needed\n",
    "y_pred_labels = label_encoder.inverse_transform(y_pred_xgb)  # Convert back to text labels\n",
    "print(\"Sample Predictions:\", y_pred_labels[:5])\n"
   ]
  },
  {
   "cell_type": "code",
   "execution_count": 20,
   "id": "a1d69048",
   "metadata": {
    "colab": {
     "base_uri": "https://localhost:8080/"
    },
    "executionInfo": {
     "elapsed": 12,
     "status": "ok",
     "timestamp": 1743065447865,
     "user": {
      "displayName": "Sandeep D B",
      "userId": "10429814731141203484"
     },
     "user_tz": -330
    },
    "id": "a1d69048",
    "outputId": "ac7b0b27-a119-4cae-ab4f-d33c6272e017"
   },
   "outputs": [
    {
     "name": "stdout",
     "output_type": "stream",
     "text": [
      "Index(['Scam_Type', 'Scam_Description', 'Medium_Used', 'Target_Actions',\n",
      "       'Common_Phrases', 'Threat_Emotional', 'Threat_Financial',\n",
      "       'Threat_Financial/Emotional', 'Threat_Financial/Personal',\n",
      "       'Threat_Legal', 'Threat_Personal', 'threat_type_encoded',\n",
      "       'Threat_Type_1', 'Threat_Type_2', 'Threat_Type_3', 'Threat_Type_4',\n",
      "       'Threat_Type_5'],\n",
      "      dtype='object')\n"
     ]
    }
   ],
   "source": [
    "print(df.columns)\n"
   ]
  },
  {
   "cell_type": "code",
   "execution_count": 21,
   "id": "3b1d40da",
   "metadata": {
    "executionInfo": {
     "elapsed": 38,
     "status": "ok",
     "timestamp": 1743065448216,
     "user": {
      "displayName": "Sandeep D B",
      "userId": "10429814731141203484"
     },
     "user_tz": -330
    },
    "id": "3b1d40da"
   },
   "outputs": [],
   "source": [
    "target = 'Scam_Type'  # Replace with actual target column\n",
    "X = df.drop(columns=[target])\n",
    "y = df[target]\n"
   ]
  },
  {
   "cell_type": "code",
   "execution_count": 22,
   "id": "46e884f1",
   "metadata": {
    "colab": {
     "base_uri": "https://localhost:8080/"
    },
    "executionInfo": {
     "elapsed": 9,
     "status": "ok",
     "timestamp": 1743065448404,
     "user": {
      "displayName": "Sandeep D B",
      "userId": "10429814731141203484"
     },
     "user_tz": -330
    },
    "id": "46e884f1",
    "outputId": "02450777-2bb8-4a48-e97d-16e5175dedd5"
   },
   "outputs": [
    {
     "name": "stdout",
     "output_type": "stream",
     "text": [
      "                                    Scam_Description  Medium_Used  \\\n",
      "0    Asks for donations to fake causes or charities.  Dating Apps   \n",
      "1    Asks for donations to fake causes or charities.      Pop-ups   \n",
      "2  Claims the victim's device is infected with ma...  Dating Apps   \n",
      "3  Claims the victim has won a prize and asks for...      Pop-ups   \n",
      "4  Claims the victim has won a prize and asks for...        Phone   \n",
      "\n",
      "                        Target_Actions                Common_Phrases  \\\n",
      "0                  Send money or gifts   device infected call us fix   \n",
      "1                  Send money or gifts          charity drive donate   \n",
      "2               Donate to fake charity  youve claim prize paying fee   \n",
      "3               Donate to fake charity          charity drive donate   \n",
      "4  Make payment to avoid legal trouble  youve claim prize paying fee   \n",
      "\n",
      "   Threat_Emotional  Threat_Financial  Threat_Financial/Emotional  \\\n",
      "0                 1                 0                           0   \n",
      "1                 0                 0                           0   \n",
      "2                 0                 0                           0   \n",
      "3                 0                 0                           1   \n",
      "4                 0                 1                           0   \n",
      "\n",
      "   Threat_Financial/Personal  Threat_Legal  Threat_Personal  \\\n",
      "0                          0             0                0   \n",
      "1                          0             1                0   \n",
      "2                          1             0                0   \n",
      "3                          0             0                0   \n",
      "4                          0             0                0   \n",
      "\n",
      "   threat_type_encoded  Threat_Type_1  Threat_Type_2  Threat_Type_3  \\\n",
      "0                    0              0              0              0   \n",
      "1                    4              0              0              0   \n",
      "2                    3              0              0              1   \n",
      "3                    2              0              1              0   \n",
      "4                    1              1              0              0   \n",
      "\n",
      "   Threat_Type_4  Threat_Type_5  \n",
      "0              0              0  \n",
      "1              1              0  \n",
      "2              0              0  \n",
      "3              0              0  \n",
      "4              0              0  \n",
      "0                 Lottery Scams\n",
      "1                 Charity Scams\n",
      "2            Tech Support Scams\n",
      "3                Phishing Scams\n",
      "4    Fake Law Enforcement Scams\n",
      "Name: Scam_Type, dtype: object\n"
     ]
    }
   ],
   "source": [
    "print(X.head())  # Verify independent variables\n",
    "print(y.head())  # Verify target variable\n"
   ]
  },
  {
   "cell_type": "code",
   "execution_count": 23,
   "id": "d3644973",
   "metadata": {
    "colab": {
     "base_uri": "https://localhost:8080/"
    },
    "executionInfo": {
     "elapsed": 16,
     "status": "ok",
     "timestamp": 1743065448821,
     "user": {
      "displayName": "Sandeep D B",
      "userId": "10429814731141203484"
     },
     "user_tz": -330
    },
    "id": "d3644973",
    "outputId": "0e77ed8c-940f-4783-ac90-a7fe8b035e07"
   },
   "outputs": [
    {
     "name": "stdout",
     "output_type": "stream",
     "text": [
      "Index(['Scam_Type', 'Scam_Description', 'Medium_Used', 'Target_Actions',\n",
      "       'Common_Phrases', 'Threat_Emotional', 'Threat_Financial',\n",
      "       'Threat_Financial/Emotional', 'Threat_Financial/Personal',\n",
      "       'Threat_Legal', 'Threat_Personal', 'threat_type_encoded',\n",
      "       'Threat_Type_1', 'Threat_Type_2', 'Threat_Type_3', 'Threat_Type_4',\n",
      "       'Threat_Type_5'],\n",
      "      dtype='object')\n"
     ]
    }
   ],
   "source": [
    "print(df.columns)\n"
   ]
  },
  {
   "cell_type": "code",
   "execution_count": 36,
   "id": "ce566c1e",
   "metadata": {
    "colab": {
     "base_uri": "https://localhost:8080/"
    },
    "executionInfo": {
     "elapsed": 23,
     "status": "ok",
     "timestamp": 1743065510409,
     "user": {
      "displayName": "Sandeep D B",
      "userId": "10429814731141203484"
     },
     "user_tz": -330
    },
    "id": "ce566c1e",
    "outputId": "43bfa954-eb58-4cad-a2ac-9b8e8e75fc8e"
   },
   "outputs": [
    {
     "name": "stdout",
     "output_type": "stream",
     "text": [
      "                                    Scam_Description  Medium_Used  \\\n",
      "0    Asks for donations to fake causes or charities.  Dating Apps   \n",
      "1    Asks for donations to fake causes or charities.      Pop-ups   \n",
      "2  Claims the victim's device is infected with ma...  Dating Apps   \n",
      "3  Claims the victim has won a prize and asks for...      Pop-ups   \n",
      "4  Claims the victim has won a prize and asks for...        Phone   \n",
      "\n",
      "                        Target_Actions                Common_Phrases  \\\n",
      "0                  Send money or gifts   device infected call us fix   \n",
      "1                  Send money or gifts          charity drive donate   \n",
      "2               Donate to fake charity  youve claim prize paying fee   \n",
      "3               Donate to fake charity          charity drive donate   \n",
      "4  Make payment to avoid legal trouble  youve claim prize paying fee   \n",
      "\n",
      "   Threat_Emotional  Threat_Financial  Threat_Financial/Emotional  \\\n",
      "0                 1                 0                           0   \n",
      "1                 0                 0                           0   \n",
      "2                 0                 0                           0   \n",
      "3                 0                 0                           1   \n",
      "4                 0                 1                           0   \n",
      "\n",
      "   Threat_Financial/Personal  Threat_Legal  Threat_Personal  \\\n",
      "0                          0             0                0   \n",
      "1                          0             1                0   \n",
      "2                          1             0                0   \n",
      "3                          0             0                0   \n",
      "4                          0             0                0   \n",
      "\n",
      "   threat_type_encoded  Threat_Type_1  Threat_Type_2  Threat_Type_3  \\\n",
      "0                    0              0              0              0   \n",
      "1                    4              0              0              0   \n",
      "2                    3              0              0              1   \n",
      "3                    2              0              1              0   \n",
      "4                    1              1              0              0   \n",
      "\n",
      "   Threat_Type_4  Threat_Type_5  \n",
      "0              0              0  \n",
      "1              1              0  \n",
      "2              0              0  \n",
      "3              0              0  \n",
      "4              0              0  \n"
     ]
    }
   ],
   "source": [
    "X = df.drop(columns=['Scam_Type'])\n",
    "print(X.head())  # Verify if `Scam_Type` is removed\n"
   ]
  },
  {
   "cell_type": "code",
   "execution_count": 25,
   "id": "90db958d",
   "metadata": {
    "colab": {
     "base_uri": "https://localhost:8080/"
    },
    "executionInfo": {
     "elapsed": 116,
     "status": "ok",
     "timestamp": 1743065450571,
     "user": {
      "displayName": "Sandeep D B",
      "userId": "10429814731141203484"
     },
     "user_tz": -330
    },
    "id": "90db958d",
    "outputId": "05364627-5cea-47b8-f8bc-e93489fa2b7c"
   },
   "outputs": [
    {
     "name": "stdout",
     "output_type": "stream",
     "text": [
      "0                 Lottery Scams\n",
      "1                 Charity Scams\n",
      "2            Tech Support Scams\n",
      "3                Phishing Scams\n",
      "4    Fake Law Enforcement Scams\n",
      "Name: Scam_Type, dtype: object\n"
     ]
    }
   ],
   "source": [
    "y = df['Scam_Type']\n",
    "print(y.head())  # Verif`"
   ]
  },
  {
   "cell_type": "code",
   "execution_count": 26,
   "id": "62215d43",
   "metadata": {
    "colab": {
     "base_uri": "https://localhost:8080/",
     "height": 651
    },
    "executionInfo": {
     "elapsed": 593,
     "status": "ok",
     "timestamp": 1743065451402,
     "user": {
      "displayName": "Sandeep D B",
      "userId": "10429814731141203484"
     },
     "user_tz": -330
    },
    "id": "62215d43",
    "outputId": "9635752b-4a70-47e6-85d6-2727da4d68c5"
   },
   "outputs": [
    {
     "name": "stderr",
     "output_type": "stream",
     "text": [
      "<ipython-input-26-89d933b2fdd2>:11: FutureWarning: \n",
      "\n",
      "Passing `palette` without assigning `hue` is deprecated and will be removed in v0.14.0. Assign the `y` variable to `hue` and set `legend=False` for the same effect.\n",
      "\n",
      "  sns.barplot(x=importances[sorted_idx], y=feature_names[sorted_idx], palette=\"viridis\")\n"
     ]
    },
    {
     "data": {
      "image/png": "[encoded data removed]",
      "text/plain": [
       "<Figure size 1000x600 with 1 Axes>"
      ]
     },
     "metadata": {},
     "output_type": "display_data"
    }
   ],
   "source": [
    "import matplotlib.pyplot as plt\n",
    "import seaborn as sns\n",
    "\n",
    "# Feature Importance (RandomForest)\n",
    "importances = rf_model.feature_importances_\n",
    "feature_names = X_train_selected.columns\n",
    "\n",
    "# Sort and plot\n",
    "sorted_idx = np.argsort(importances)\n",
    "plt.figure(figsize=(10, 6))\n",
    "sns.barplot(x=importances[sorted_idx], y=feature_names[sorted_idx], palette=\"viridis\")\n",
    "plt.xlabel(\"Feature Importance Score\")\n",
    "plt.ylabel(\"Features\")\n",
    "plt.title(\"RandomForest Feature Importance\")\n",
    "plt.show()\n"
   ]
  },
  {
   "cell_type": "code",
   "execution_count": 37,
   "id": "2223fe9e",
   "metadata": {
    "colab": {
     "base_uri": "https://localhost:8080/"
    },
    "executionInfo": {
     "elapsed": 6,
     "status": "ok",
     "timestamp": 1743065518065,
     "user": {
      "displayName": "Sandeep D B",
      "userId": "10429814731141203484"
     },
     "user_tz": -330
    },
    "id": "2223fe9e",
    "outputId": "bc66c2b7-afbc-4dc3-c5dc-ab7a15c1d9bf"
   },
   "outputs": [
    {
     "name": "stdout",
     "output_type": "stream",
     "text": [
      "Predicted Scam Type: [0]\n"
     ]
    }
   ],
   "source": [
    "from sklearn.preprocessing import LabelEncoder\n",
    "\n",
    "# Encode categorical variables (Assuming you already did this during training)\n",
    "label_encoders = {}  # Store label encoders if needed for future use\n",
    "categorical_columns = ['Scam_Description', 'Medium_Used', 'Target_Actions', 'Common_Phrases']\n",
    "\n",
    "for col in categorical_columns:\n",
    "    le = LabelEncoder()\n",
    "    sample_data[col] = le.fit_transform(sample_data[col])  # Use the same encoding as training\n",
    "    label_encoders[col] = le  # Store for future use\n",
    "\n",
    "# Predict\n",
    "predicted_scam = xgb_model.predict(sample_data)\n",
    "print(\"Predicted Scam Type:\", predicted_scam)\n"
   ]
  },
  {
   "cell_type": "code",
   "execution_count": 38,
   "id": "4ff75f96",
   "metadata": {
    "colab": {
     "base_uri": "https://localhost:8080/"
    },
    "executionInfo": {
     "elapsed": 124,
     "status": "ok",
     "timestamp": 1743065518859,
     "user": {
      "displayName": "Sandeep D B",
      "userId": "10429814731141203484"
     },
     "user_tz": -330
    },
    "id": "4ff75f96",
    "outputId": "d591ec6f-c8f9-4f8a-ece3-ebcad3808c1b"
   },
   "outputs": [
    {
     "name": "stdout",
     "output_type": "stream",
     "text": [
      "Predicted Scam Type: [0]\n"
     ]
    }
   ],
   "source": [
    "# Convert categorical columns using one-hot encoding\n",
    "sample_data = pd.get_dummies(sample_data, columns=categorical_columns)\n",
    "\n",
    "# Align with training data (in case some columns are missing)\n",
    "sample_data = sample_data.reindex(columns=X_train_selected.columns, fill_value=0)\n",
    "\n",
    "# Predict\n",
    "predicted_scam = xgb_model.predict(sample_data)\n",
    "print(\"Predicted Scam Type:\", predicted_scam)\n"
   ]
  },
  {
   "cell_type": "code",
   "execution_count": 39,
   "id": "b18953cd",
   "metadata": {
    "colab": {
     "base_uri": "https://localhost:8080/"
    },
    "executionInfo": {
     "elapsed": 31,
     "status": "ok",
     "timestamp": 1743065519243,
     "user": {
      "displayName": "Sandeep D B",
      "userId": "10429814731141203484"
     },
     "user_tz": -330
    },
    "id": "b18953cd",
    "outputId": "0cee0f6c-2d79-4959-cdc1-2697c56a77c1"
   },
   "outputs": [
    {
     "name": "stdout",
     "output_type": "stream",
     "text": [
      "Predicted Scam Type: [0]\n"
     ]
    }
   ],
   "source": [
    "from sklearn.preprocessing import LabelEncoder\n",
    "\n",
    "# Initialize label encoders\n",
    "label_encoders = {}\n",
    "\n",
    "# Encode categorical columns\n",
    "for col in ['Scam_Description', 'Medium_Used', 'Target_Actions', 'Common_Phrases']:\n",
    "    label_encoders[col] = LabelEncoder()\n",
    "    sample_data[col] = label_encoders[col].fit_transform(sample_data[col])\n",
    "\n",
    "# Ensure feature alignment\n",
    "sample_data = sample_data[X_train_selected.columns]\n",
    "\n",
    "# Predict\n",
    "predicted_scam = xgb_model.predict(sample_data)\n",
    "print(\"Predicted Scam Type:\", predicted_scam)\n"
   ]
  },
  {
   "cell_type": "code",
   "execution_count": 40,
   "id": "a12f6ff5",
   "metadata": {
    "colab": {
     "base_uri": "https://localhost:8080/"
    },
    "executionInfo": {
     "elapsed": 7,
     "status": "ok",
     "timestamp": 1743065519252,
     "user": {
      "displayName": "Sandeep D B",
      "userId": "10429814731141203484"
     },
     "user_tz": -330
    },
    "id": "a12f6ff5",
    "outputId": "54dc1479-7425-4885-bc12-4438b8c1172f"
   },
   "outputs": [
    {
     "name": "stdout",
     "output_type": "stream",
     "text": [
      "Predicted Scam Type: [0]\n"
     ]
    }
   ],
   "source": [
    "from sklearn.preprocessing import LabelEncoder\n",
    "\n",
    "# Encode categorical features\n",
    "encoder = LabelEncoder()\n",
    "\n",
    "sample_data = pd.DataFrame({\n",
    "    'Scam_Description': ['hi i am sandeep'],\n",
    "    'Medium_Used': ['Chat'],\n",
    "    'Target_Actions': ['None'],\n",
    "    'Common_Phrases': ['Have a great day!'],\n",
    "    'Threat_Emotional': [0],\n",
    "    'Threat_Financial/Personal': [0],\n",
    "    'threat_type_encoded': [0],  # Placeholder\n",
    "    'Threat_Type_1': [0],\n",
    "    'Threat_Type_2': [0],\n",
    "    'Threat_Type_4': [0]\n",
    "})\n",
    "\n",
    "# Ensure categorical columns are transformed\n",
    "for col in ['Scam_Description', 'Medium_Used', 'Target_Actions', 'Common_Phrases']:\n",
    "    sample_data[col] = encoder.fit_transform(sample_data[col])\n",
    "\n",
    "# Ensure feature alignment with the model\n",
    "sample_data = sample_data[X_train_selected.columns]\n",
    "\n",
    "# Predict\n",
    "predicted_scam = xgb_model.predict(sample_data)\n",
    "print(\"Predicted Scam Type:\", predicted_scam)\n"
   ]
  },
  {
   "cell_type": "code",
   "execution_count": 41,
   "id": "9aa76187",
   "metadata": {
    "colab": {
     "base_uri": "https://localhost:8080/"
    },
    "executionInfo": {
     "elapsed": 160,
     "status": "ok",
     "timestamp": 1743065519579,
     "user": {
      "displayName": "Sandeep D B",
      "userId": "10429814731141203484"
     },
     "user_tz": -330
    },
    "id": "9aa76187",
    "outputId": "b0e5d61c-bfe0-4dce-dcaa-23d658a94a6c"
   },
   "outputs": [
    {
     "name": "stdout",
     "output_type": "stream",
     "text": [
      "Predicted Scam Type: [0]\n"
     ]
    }
   ],
   "source": [
    "import pandas as pd\n",
    "from sklearn.preprocessing import LabelEncoder\n",
    "\n",
    "# Define categorical columns that need encoding\n",
    "categorical_cols = ['Scam_Description', 'Medium_Used', 'Target_Actions', 'Common_Phrases']\n",
    "\n",
    "# Load the encoder if it was used during training\n",
    "encoder = LabelEncoder()\n",
    "\n",
    "# Create sample input data (Replace values with real test data)\n",
    "sample_data = pd.DataFrame({\n",
    "    'Scam_Description': ['Hello, how are you doing today?'],\n",
    "    'Medium_Used': ['Chat'],\n",
    "    'Target_Actions': ['None'],\n",
    "    'Common_Phrases': ['Have a great day!'],\n",
    "    'Threat_Emotional': [0],\n",
    "    'Threat_Financial/Personal': [0],\n",
    "    'threat_type_encoded': [0],  # Placeholder\n",
    "    'Threat_Type_1': [0],\n",
    "    'Threat_Type_2': [0],\n",
    "    'Threat_Type_4': [0]\n",
    "})\n",
    "\n",
    "# Encode categorical columns\n",
    "for col in categorical_cols:\n",
    "    if col in sample_data.columns:\n",
    "        sample_data[col] = encoder.fit_transform(sample_data[col])  # Convert to numbers\n",
    "\n",
    "# Ensure the feature set is the same as the trained model\n",
    "expected_features = list(X_train_selected.columns)  # Use the features used in training\n",
    "sample_data = sample_data.reindex(columns=expected_features, fill_value=0)\n",
    "\n",
    "# Predict using XGBoost model\n",
    "predicted_scam = xgb_model.predict(sample_data)\n",
    "\n",
    "print(\"Predicted Scam Type:\", predicted_scam)\n"
   ]
  },
  {
   "cell_type": "code",
   "execution_count": 42,
   "id": "05145d75",
   "metadata": {
    "executionInfo": {
     "elapsed": 135,
     "status": "ok",
     "timestamp": 1743065519809,
     "user": {
      "displayName": "Sandeep D B",
      "userId": "10429814731141203484"
     },
     "user_tz": -330
    },
    "id": "05145d75"
   },
   "outputs": [],
   "source": [
    "test_cases = [\n",
    "    \"You are a loser, and no one likes you!\",  # Personal attack\n",
    "    \"If you don't pay now, something bad will happen to you!\",  # Threat-based\n",
    "    \"Your family is in danger unless you send me money.\",  # Extortion\n",
    "    \"This is an official notice! Pay $500 or get arrested.\",  # Fake law enforcement\n",
    "    \"I have access to your personal information. Obey or regret!\",  # Blackmail\n",
    "    \"I saw what you did. Send me money or I'll expose you.\",  # Sextortion\n",
    "    \"Your phone is hacked. Pay now to fix it!\",  # Tech support scam\n",
    "    \"This is your bank. Share your OTP now!\",  # Phishing\n",
    "    \"Congrats! You won $1 million! Send processing fees now.\",  # Lottery scam\n",
    "    \"Your loan is approved! Just pay the security deposit first.\",  # Financial fraud\n",
    "]\n"
   ]
  },
  {
   "cell_type": "code",
   "execution_count": 43,
   "id": "402d7b83",
   "metadata": {
    "colab": {
     "base_uri": "https://localhost:8080/"
    },
    "executionInfo": {
     "elapsed": 97,
     "status": "ok",
     "timestamp": 1743065519950,
     "user": {
      "displayName": "Sandeep D B",
      "userId": "10429814731141203484"
     },
     "user_tz": -330
    },
    "id": "402d7b83",
    "outputId": "2fc482e0-b6d7-46ad-d8a4-4c3a74cb448d"
   },
   "outputs": [
    {
     "name": "stdout",
     "output_type": "stream",
     "text": [
      "Input: You are a loser, and no one likes you!  --> Predicted Scam Type: [0]\n",
      "Input: If you don't pay now, something bad will happen to you!  --> Predicted Scam Type: [0]\n",
      "Input: Your family is in danger unless you send me money.  --> Predicted Scam Type: [0]\n",
      "Input: This is an official notice! Pay $500 or get arrested.  --> Predicted Scam Type: [0]\n",
      "Input: I have access to your personal information. Obey or regret!  --> Predicted Scam Type: [0]\n",
      "Input: I saw what you did. Send me money or I'll expose you.  --> Predicted Scam Type: [0]\n",
      "Input: Your phone is hacked. Pay now to fix it!  --> Predicted Scam Type: [0]\n",
      "Input: This is your bank. Share your OTP now!  --> Predicted Scam Type: [0]\n",
      "Input: Congrats! You won $1 million! Send processing fees now.  --> Predicted Scam Type: [0]\n",
      "Input: Your loan is approved! Just pay the security deposit first.  --> Predicted Scam Type: [0]\n"
     ]
    }
   ],
   "source": [
    "for text in test_cases:\n",
    "    sample_data = pd.DataFrame({\n",
    "        'Scam_Description': [text],\n",
    "        'Medium_Used': ['Email'],\n",
    "        'Target_Actions': ['Threat'],\n",
    "        'Common_Phrases': [text],\n",
    "        'Threat_Emotional': [1],\n",
    "        'Threat_Financial/Personal': [1],\n",
    "        'threat_type_encoded': [2],\n",
    "        'Threat_Type_1': [1],\n",
    "        'Threat_Type_2': [0],\n",
    "        'Threat_Type_4': [0]\n",
    "    })\n",
    "\n",
    "    # Encode categorical columns correctly\n",
    "    for col in ['Scam_Description', 'Medium_Used', 'Target_Actions', 'Common_Phrases']:\n",
    "        if col in label_encoders:\n",
    "            sample_data[col] = sample_data[col].apply(lambda x: label_encoders[col].transform([x])[0] if x in label_encoders[col].classes_ else -1)\n",
    "\n",
    "    # Ensure feature alignment\n",
    "    sample_data = sample_data[X_train_selected.columns]\n",
    "\n",
    "    # Predict\n",
    "    predicted_scam = xgb_model.predict(sample_data)\n",
    "    print(f\"Input: {text}  --> Predicted Scam Type: {predicted_scam}\")\n"
   ]
  },
  {
   "cell_type": "code",
   "execution_count": 44,
   "id": "b030730c",
   "metadata": {
    "colab": {
     "base_uri": "https://localhost:8080/"
    },
    "executionInfo": {
     "elapsed": 49,
     "status": "ok",
     "timestamp": 1743065520114,
     "user": {
      "displayName": "Sandeep D B",
      "userId": "10429814731141203484"
     },
     "user_tz": -330
    },
    "id": "b030730c",
    "outputId": "bcc4f78c-0619-49c3-b9af-a293755c2947"
   },
   "outputs": [
    {
     "name": "stdout",
     "output_type": "stream",
     "text": [
      "   Scam_Description  Medium_Used  Target_Actions  Common_Phrases  \\\n",
      "0                -1           -1              -1              -1   \n",
      "\n",
      "   Threat_Emotional  Threat_Financial/Personal  threat_type_encoded  \\\n",
      "0                 1                          1                    2   \n",
      "\n",
      "   Threat_Type_1  Threat_Type_2  Threat_Type_4  \n",
      "0              1              0              0  \n"
     ]
    }
   ],
   "source": [
    "print(sample_data)  # Check if text columns are properly transformed\n"
   ]
  },
  {
   "cell_type": "code",
   "execution_count": 45,
   "id": "e47c2e03",
   "metadata": {
    "executionInfo": {
     "elapsed": 13,
     "status": "ok",
     "timestamp": 1743065520952,
     "user": {
      "displayName": "Sandeep D B",
      "userId": "10429814731141203484"
     },
     "user_tz": -330
    },
    "id": "e47c2e03"
   },
   "outputs": [],
   "source": [
    "for col in ['Scam_Description', 'Medium_Used', 'Target_Actions', 'Common_Phrases']:\n",
    "    if col in label_encoders:\n",
    "        sample_data[col] = sample_data[col].apply(\n",
    "            lambda x: label_encoders[col].transform([x])[0] if x in label_encoders[col].classes_ else -1\n",
    "        )\n"
   ]
  },
  {
   "cell_type": "code",
   "execution_count": 46,
   "id": "6f8f7442",
   "metadata": {
    "colab": {
     "base_uri": "https://localhost:8080/"
    },
    "executionInfo": {
     "elapsed": 18,
     "status": "ok",
     "timestamp": 1743065521784,
     "user": {
      "displayName": "Sandeep D B",
      "userId": "10429814731141203484"
     },
     "user_tz": -330
    },
    "id": "6f8f7442",
    "outputId": "bedc18db-5fb8-4189-9e90-6fcc4f79fd68"
   },
   "outputs": [
    {
     "name": "stdout",
     "output_type": "stream",
     "text": [
      "{np.int64(0): np.int64(77), np.int64(1): np.int64(75), np.int64(2): np.int64(83), np.int64(3): np.int64(75), np.int64(4): np.int64(92), np.int64(5): np.int64(75), np.int64(6): np.int64(82), np.int64(7): np.int64(88), np.int64(8): np.int64(77), np.int64(9): np.int64(76)}\n"
     ]
    }
   ],
   "source": [
    "import numpy as np\n",
    "unique, counts = np.unique(y_train, return_counts=True)\n",
    "print(dict(zip(unique, counts)))  # Check class distribution\n"
   ]
  },
  {
   "cell_type": "code",
   "execution_count": 47,
   "id": "d0170111",
   "metadata": {
    "colab": {
     "base_uri": "https://localhost:8080/"
    },
    "executionInfo": {
     "elapsed": 33,
     "status": "ok",
     "timestamp": 1743065522321,
     "user": {
      "displayName": "Sandeep D B",
      "userId": "10429814731141203484"
     },
     "user_tz": -330
    },
    "id": "d0170111",
    "outputId": "781b19e8-5fc4-44c7-ceed-7b099f2414cc"
   },
   "outputs": [
    {
     "name": "stdout",
     "output_type": "stream",
     "text": [
      "{np.int64(0): np.int64(77), np.int64(1): np.int64(75), np.int64(2): np.int64(83), np.int64(3): np.int64(75), np.int64(4): np.int64(92), np.int64(5): np.int64(75), np.int64(6): np.int64(82), np.int64(7): np.int64(88), np.int64(8): np.int64(77), np.int64(9): np.int64(76)}\n"
     ]
    }
   ],
   "source": [
    "import numpy as np\n",
    "unique, counts = np.unique(y_train, return_counts=True)\n",
    "print(dict(zip(unique, counts)))  # Check class distribution\n"
   ]
  },
  {
   "cell_type": "code",
   "execution_count": 48,
   "id": "9c5c4da6",
   "metadata": {
    "colab": {
     "base_uri": "https://localhost:8080/"
    },
    "executionInfo": {
     "elapsed": 38,
     "status": "ok",
     "timestamp": 1743065522776,
     "user": {
      "displayName": "Sandeep D B",
      "userId": "10429814731141203484"
     },
     "user_tz": -330
    },
    "id": "9c5c4da6",
    "outputId": "846f8055-b40f-493e-a0b7-130badee76d1"
   },
   "outputs": [
    {
     "name": "stdout",
     "output_type": "stream",
     "text": [
      "                                     Scam_Description  threat_type_encoded\n",
      "0     Asks for donations to fake causes or charities.                    0\n",
      "1     Asks for donations to fake causes or charities.                    4\n",
      "2   Claims the victim's device is infected with ma...                    3\n",
      "3   Claims the victim has won a prize and asks for...                    2\n",
      "4   Claims the victim has won a prize and asks for...                    1\n",
      "..                                                ...                  ...\n",
      "95  Pretends to be someone else to steal personal ...                    0\n",
      "96  Claims the victim has won a prize and asks for...                    1\n",
      "97  Impersonates police or government to claim unp...                    5\n",
      "98  Claims the victim has won a prize and asks for...                    4\n",
      "99  Tricks victims into providing sensitive inform...                    4\n",
      "\n",
      "[100 rows x 2 columns]\n"
     ]
    }
   ],
   "source": [
    "print(df[['Scam_Description', 'threat_type_encoded']].head(100))  # Show first 20 rows\n"
   ]
  },
  {
   "cell_type": "code",
   "execution_count": 49,
   "id": "abdcafa0",
   "metadata": {
    "executionInfo": {
     "elapsed": 28,
     "status": "ok",
     "timestamp": 1743065523057,
     "user": {
      "displayName": "Sandeep D B",
      "userId": "10429814731141203484"
     },
     "user_tz": -330
    },
    "id": "abdcafa0"
   },
   "outputs": [],
   "source": [
    "test_scams = [\n",
    "    \"Congratulations! You won $1,000,000! Click here to claim your prize.\",  # Lottery scam\n",
    "    \"Your bank account has been compromised. Please enter your password to secure it.\",  # Phishing\n",
    "    \"Tech support alert: Your computer has a virus! Call now to fix it.\",  # Tech support scam\n",
    "    \"Donate now to help orphaned children. Every dollar helps!\",  # Fake charity\n",
    "    \"This is the IRS. You have unpaid taxes. Pay now to avoid arrest.\",  # Fake government scam\n",
    "    \"You have been selected for a high-paying job. Pay a small fee to start.\",  # Job scam\n",
    "    \"This is PayPal. We noticed suspicious activity. Verify your account now.\",  # Impersonation scam\n",
    "    \"Your social security number has been suspended. Call now to reactivate.\",  # Fake law enforcement\n",
    "    \"Your Netflix subscription is expiring! Update your payment details immediately.\",  # Subscription scam\n",
    "    \"Urgent: Your electricity bill is overdue. Pay now to avoid disconnection.\"  # Utility scam\n",
    "]\n"
   ]
  },
  {
   "cell_type": "code",
   "execution_count": 50,
   "id": "12013e36",
   "metadata": {
    "colab": {
     "base_uri": "https://localhost:8080/"
    },
    "executionInfo": {
     "elapsed": 131,
     "status": "ok",
     "timestamp": 1743065523480,
     "user": {
      "displayName": "Sandeep D B",
      "userId": "10429814731141203484"
     },
     "user_tz": -330
    },
    "id": "12013e36",
    "outputId": "4c6a1a12-7e0b-4233-fbbf-a363840cfaa9"
   },
   "outputs": [
    {
     "name": "stdout",
     "output_type": "stream",
     "text": [
      "Input: Congratulations! You won $1,000,000! Click here to claim your prize.  --> Predicted Scam Type: [4]\n",
      "Input: Your bank account has been compromised. Please enter your password to secure it.  --> Predicted Scam Type: [4]\n",
      "Input: Tech support alert: Your computer has a virus! Call now to fix it.  --> Predicted Scam Type: [4]\n",
      "Input: Donate now to help orphaned children. Every dollar helps!  --> Predicted Scam Type: [4]\n",
      "Input: This is the IRS. You have unpaid taxes. Pay now to avoid arrest.  --> Predicted Scam Type: [4]\n",
      "Input: You have been selected for a high-paying job. Pay a small fee to start.  --> Predicted Scam Type: [4]\n",
      "Input: This is PayPal. We noticed suspicious activity. Verify your account now.  --> Predicted Scam Type: [4]\n",
      "Input: Your social security number has been suspended. Call now to reactivate.  --> Predicted Scam Type: [4]\n",
      "Input: Your Netflix subscription is expiring! Update your payment details immediately.  --> Predicted Scam Type: [4]\n",
      "Input: Urgent: Your electricity bill is overdue. Pay now to avoid disconnection.  --> Predicted Scam Type: [4]\n"
     ]
    }
   ],
   "source": [
    "for text in test_scams:\n",
    "    sample_data = pd.DataFrame({\n",
    "        'Scam_Description': [text],\n",
    "        'Medium_Used': ['Email'],\n",
    "        'Target_Actions': ['Unknown'],\n",
    "        'Common_Phrases': [text],\n",
    "        'Threat_Emotional': [0],\n",
    "        'Threat_Financial/Personal': [1],\n",
    "        'threat_type_encoded': [2],\n",
    "        'Threat_Type_1': [1],\n",
    "        'Threat_Type_2': [0],\n",
    "        'Threat_Type_4': [0]\n",
    "    })\n",
    "\n",
    "    # Encode categorical columns correctly\n",
    "    for col in ['Scam_Description', 'Medium_Used', 'Target_Actions', 'Common_Phrases']:\n",
    "        if col in label_encoders:\n",
    "            sample_data[col] = sample_data[col].apply(\n",
    "                lambda x: label_encoders[col].transform([x])[0] if x in label_encoders[col].classes_ else -1\n",
    "            )\n",
    "\n",
    "    # Ensure feature alignment\n",
    "    sample_data = sample_data[X_train_selected.columns]\n",
    "\n",
    "    # Predict\n",
    "    predicted_scam = xgb_model.predict(sample_data)\n",
    "    print(f\"Input: {text}  --> Predicted Scam Type: {predicted_scam}\")\n"
   ]
  },
  {
   "cell_type": "code",
   "execution_count": 51,
   "id": "eff2679f",
   "metadata": {
    "colab": {
     "base_uri": "https://localhost:8080/"
    },
    "executionInfo": {
     "elapsed": 109,
     "status": "ok",
     "timestamp": 1743065523795,
     "user": {
      "displayName": "Sandeep D B",
      "userId": "10429814731141203484"
     },
     "user_tz": -330
    },
    "id": "eff2679f",
    "outputId": "690c6183-356e-4c87-9f3d-26dfd2c9635b"
   },
   "outputs": [
    {
     "name": "stdout",
     "output_type": "stream",
     "text": [
      "{np.int64(0): np.int64(77), np.int64(1): np.int64(75), np.int64(2): np.int64(83), np.int64(3): np.int64(75), np.int64(4): np.int64(92), np.int64(5): np.int64(75), np.int64(6): np.int64(82), np.int64(7): np.int64(88), np.int64(8): np.int64(77), np.int64(9): np.int64(76)}\n"
     ]
    }
   ],
   "source": [
    "unique, counts = np.unique(y_train, return_counts=True)\n",
    "print(dict(zip(unique, counts)))\n"
   ]
  },
  {
   "cell_type": "code",
   "execution_count": 52,
   "id": "ddbef85e",
   "metadata": {
    "colab": {
     "base_uri": "https://localhost:8080/"
    },
    "executionInfo": {
     "elapsed": 6,
     "status": "ok",
     "timestamp": 1743065523920,
     "user": {
      "displayName": "Sandeep D B",
      "userId": "10429814731141203484"
     },
     "user_tz": -330
    },
    "id": "ddbef85e",
    "outputId": "ac5ec8b6-19f0-4975-c0e6-3b8461983cd7"
   },
   "outputs": [
    {
     "name": "stdout",
     "output_type": "stream",
     "text": [
      "Missing values: 0\n"
     ]
    }
   ],
   "source": [
    "print(\"Missing values:\", X_train['Scam_Description'].isna().sum())\n"
   ]
  },
  {
   "cell_type": "code",
   "execution_count": 58,
   "id": "fccd0b64",
   "metadata": {
    "colab": {
     "base_uri": "https://localhost:8080/"
    },
    "executionInfo": {
     "elapsed": 12,
     "status": "ok",
     "timestamp": 1743065531084,
     "user": {
      "displayName": "Sandeep D B",
      "userId": "10429814731141203484"
     },
     "user_tz": -330
    },
    "id": "fccd0b64",
    "outputId": "c36fcdc2-c24a-427e-8cf1-6e22e3f8566e"
   },
   "outputs": [
    {
     "name": "stdout",
     "output_type": "stream",
     "text": [
      "Empty values: 0\n"
     ]
    }
   ],
   "source": [
    "print(\"Empty values:\", (X_train['Scam_Description'].str.strip() == \"\").sum())\n"
   ]
  },
  {
   "cell_type": "code",
   "execution_count": 54,
   "id": "6d51ca09",
   "metadata": {
    "colab": {
     "base_uri": "https://localhost:8080/"
    },
    "executionInfo": {
     "elapsed": 38,
     "status": "ok",
     "timestamp": 1743065524531,
     "user": {
      "displayName": "Sandeep D B",
      "userId": "10429814731141203484"
     },
     "user_tz": -330
    },
    "id": "6d51ca09",
    "outputId": "37732065-003e-45ce-fefe-a49e0bedff50"
   },
   "outputs": [
    {
     "name": "stdout",
     "output_type": "stream",
     "text": [
      "29     9\n",
      "535    0\n",
      "695    9\n",
      "557    5\n",
      "836    8\n",
      "596    2\n",
      "165    3\n",
      "918    1\n",
      "495    7\n",
      "824    0\n",
      "Name: Scam_Description, dtype: int64\n"
     ]
    }
   ],
   "source": [
    "print(X_train['Scam_Description'].head(10))\n"
   ]
  },
  {
   "cell_type": "code",
   "execution_count": 59,
   "id": "83fc8161",
   "metadata": {
    "colab": {
     "base_uri": "https://localhost:8080/"
    },
    "executionInfo": {
     "elapsed": 25,
     "status": "ok",
     "timestamp": 1743065535091,
     "user": {
      "displayName": "Sandeep D B",
      "userId": "10429814731141203484"
     },
     "user_tz": -330
    },
    "id": "83fc8161",
    "outputId": "b2ff9b28-15c7-482d-cdc7-c2cd0c49efd7"
   },
   "outputs": [
    {
     "name": "stdout",
     "output_type": "stream",
     "text": [
      "                                    Scam_Description\n",
      "0    Asks for donations to fake causes or charities.\n",
      "1    Asks for donations to fake causes or charities.\n",
      "2  Claims the victim's device is infected with ma...\n",
      "3  Claims the victim has won a prize and asks for...\n",
      "4  Claims the victim has won a prize and asks for...\n",
      "5  Impersonates police or government to claim unp...\n",
      "6    Asks for donations to fake causes or charities.\n",
      "7  Tricks victims into providing sensitive inform...\n",
      "8  Promotes fake investment opportunities to stea...\n",
      "9  Threatens to release personal data unless rans...\n"
     ]
    }
   ],
   "source": [
    "print(df[['Scam_Description']].head(10))\n"
   ]
  },
  {
   "cell_type": "code",
   "execution_count": 60,
   "id": "c93ece0f",
   "metadata": {
    "executionInfo": {
     "elapsed": 4,
     "status": "ok",
     "timestamp": 1743065535271,
     "user": {
      "displayName": "Sandeep D B",
      "userId": "10429814731141203484"
     },
     "user_tz": -330
    },
    "id": "c93ece0f"
   },
   "outputs": [],
   "source": [
    "X_train['Scam_Description'] = df['Scam_Description']\n",
    "X_test['Scam_Description'] = df['Scam_Description']\n"
   ]
  },
  {
   "cell_type": "markdown",
   "id": "isZN9Kv5djQy",
   "metadata": {
    "id": "isZN9Kv5djQy"
   },
   "source": []
  },
  {
   "cell_type": "code",
   "execution_count": 61,
   "id": "063160fc",
   "metadata": {
    "colab": {
     "base_uri": "https://localhost:8080/"
    },
    "executionInfo": {
     "elapsed": 45,
     "status": "ok",
     "timestamp": 1743065536211,
     "user": {
      "displayName": "Sandeep D B",
      "userId": "10429814731141203484"
     },
     "user_tz": -330
    },
    "id": "063160fc",
    "outputId": "6adb3f46-beaa-46e6-e771-6f5c1e37c281"
   },
   "outputs": [
    {
     "name": "stdout",
     "output_type": "stream",
     "text": [
      "29     Tricks victims into providing sensitive inform...\n",
      "535      Asks for donations to fake causes or charities.\n",
      "695    Tricks victims into providing sensitive inform...\n",
      "557    Impersonates police or government to claim unp...\n",
      "836    Threatens to release personal data unless rans...\n",
      "596    Claims the victim's device is infected with ma...\n",
      "165    Exploits online relationships to demand money ...\n",
      "918    Claims the victim has won a prize and asks for...\n",
      "495    Promotes fake investment opportunities to stea...\n",
      "824      Asks for donations to fake causes or charities.\n",
      "Name: Scam_Description, dtype: object\n"
     ]
    }
   ],
   "source": [
    "print(X_train['Scam_Description'].head(10))\n"
   ]
  },
  {
   "cell_type": "code",
   "execution_count": 62,
   "id": "6f0987d4",
   "metadata": {
    "colab": {
     "base_uri": "https://localhost:8080/"
    },
    "executionInfo": {
     "elapsed": 6,
     "status": "ok",
     "timestamp": 1743065536516,
     "user": {
      "displayName": "Sandeep D B",
      "userId": "10429814731141203484"
     },
     "user_tz": -330
    },
    "id": "6f0987d4",
    "outputId": "8ef6eec5-e9f1-4ef4-cd62-b2a9d41eed98"
   },
   "outputs": [
    {
     "name": "stdout",
     "output_type": "stream",
     "text": [
      "TF-IDF Transformation Successful!\n"
     ]
    }
   ],
   "source": [
    "from sklearn.feature_extraction.text import TfidfVectorizer\n",
    "\n",
    "vectorizer = TfidfVectorizer()\n",
    "X_train_tfidf = vectorizer.fit_transform(X_train['Scam_Description'])\n",
    "X_test_tfidf = vectorizer.transform(X_test['Scam_Description'])\n",
    "\n",
    "print(\"TF-IDF Transformation Successful!\")\n"
   ]
  },
  {
   "cell_type": "code",
   "execution_count": 63,
   "id": "4ac9c510",
   "metadata": {
    "colab": {
     "base_uri": "https://localhost:8080/"
    },
    "executionInfo": {
     "elapsed": 245,
     "status": "ok",
     "timestamp": 1743065537248,
     "user": {
      "displayName": "Sandeep D B",
      "userId": "10429814731141203484"
     },
     "user_tz": -330
    },
    "id": "4ac9c510",
    "outputId": "69adeac6-9bb3-429b-9931-dbacf40fe926"
   },
   "outputs": [
    {
     "name": "stdout",
     "output_type": "stream",
     "text": [
      "Model Training Successful!\n"
     ]
    }
   ],
   "source": [
    "from sklearn.ensemble import RandomForestClassifier\n",
    "\n",
    "# Train Random Forest with TF-IDF features\n",
    "rf_model = RandomForestClassifier(n_estimators=100, random_state=42)\n",
    "rf_model.fit(X_train_tfidf, y_train)\n",
    "\n",
    "print(\"Model Training Successful!\")\n"
   ]
  },
  {
   "cell_type": "code",
   "execution_count": 64,
   "id": "677de99f",
   "metadata": {
    "colab": {
     "base_uri": "https://localhost:8080/"
    },
    "executionInfo": {
     "elapsed": 17,
     "status": "ok",
     "timestamp": 1743065537687,
     "user": {
      "displayName": "Sandeep D B",
      "userId": "10429814731141203484"
     },
     "user_tz": -330
    },
    "id": "677de99f",
    "outputId": "abef8e67-ea17-41c8-a546-4c6c6d7cc03e"
   },
   "outputs": [
    {
     "name": "stdout",
     "output_type": "stream",
     "text": [
      "Input: Congratulations! You won $1,000,000! Click here to claim your prize.  --> Predicted Scam Type: 4\n",
      "Input: Your bank account has been compromised. Please enter your password to secure it.  --> Predicted Scam Type: 4\n",
      "Input: Tech support alert: Your computer has a virus! Call now to fix it.  --> Predicted Scam Type: 4\n",
      "Input: Donate now to help orphaned children. Every dollar helps!  --> Predicted Scam Type: 5\n",
      "Input: This is the IRS. You have unpaid taxes. Pay now to avoid arrest.  --> Predicted Scam Type: 5\n"
     ]
    }
   ],
   "source": [
    "# Sample scam messages for testing\n",
    "test_scams = [\n",
    "    \"Congratulations! You won $1,000,000! Click here to claim your prize.\",  # Lottery scam\n",
    "    \"Your bank account has been compromised. Please enter your password to secure it.\",  # Phishing\n",
    "    \"Tech support alert: Your computer has a virus! Call now to fix it.\",  # Tech support scam\n",
    "    \"Donate now to help orphaned children. Every dollar helps!\",  # Fake charity\n",
    "    \"This is the IRS. You have unpaid taxes. Pay now to avoid arrest.\",  # Fake law enforcement\n",
    "]\n",
    "\n",
    "# Convert test data to TF-IDF features\n",
    "test_data_tfidf = vectorizer.transform(test_scams)\n",
    "\n",
    "# Predict scam type\n",
    "predicted_scam = rf_model.predict(test_data_tfidf)\n",
    "\n",
    "# Print results\n",
    "for text, prediction in zip(test_scams, predicted_scam):\n",
    "    print(f\"Input: {text}  --> Predicted Scam Type: {prediction}\")\n"
   ]
  },
  {
   "cell_type": "code",
   "execution_count": 65,
   "id": "d5d0057d",
   "metadata": {
    "colab": {
     "base_uri": "https://localhost:8080/"
    },
    "executionInfo": {
     "elapsed": 60,
     "status": "ok",
     "timestamp": 1743065538312,
     "user": {
      "displayName": "Sandeep D B",
      "userId": "10429814731141203484"
     },
     "user_tz": -330
    },
    "id": "d5d0057d",
    "outputId": "8dd8b281-c480-4b43-9e69-be05324c4489"
   },
   "outputs": [
    {
     "name": "stdout",
     "output_type": "stream",
     "text": [
      "TF-IDF with bigrams applied successfully!\n"
     ]
    }
   ],
   "source": [
    "from sklearn.feature_extraction.text import TfidfVectorizer\n",
    "\n",
    "vectorizer = TfidfVectorizer(ngram_range=(1,2))  # Use bigrams\n",
    "X_train_tfidf = vectorizer.fit_transform(X_train['Scam_Description'])\n",
    "X_test_tfidf = vectorizer.transform(X_test['Scam_Description'])\n",
    "\n",
    "print(\"TF-IDF with bigrams applied successfully!\")\n"
   ]
  },
  {
   "cell_type": "code",
   "execution_count": 66,
   "id": "f811790a",
   "metadata": {
    "colab": {
     "base_uri": "https://localhost:8080/"
    },
    "executionInfo": {
     "elapsed": 529,
     "status": "ok",
     "timestamp": 1743065539430,
     "user": {
      "displayName": "Sandeep D B",
      "userId": "10429814731141203484"
     },
     "user_tz": -330
    },
    "id": "f811790a",
    "outputId": "5f5f0e7b-0d50-44cc-959d-61ecec9a53a0"
   },
   "outputs": [
    {
     "name": "stdout",
     "output_type": "stream",
     "text": [
      "Model Retrained with Bigrams!\n"
     ]
    }
   ],
   "source": [
    "rf_model = RandomForestClassifier(n_estimators=100, random_state=42)\n",
    "rf_model.fit(X_train_tfidf, y_train)\n",
    "\n",
    "print(\"Model Retrained with Bigrams!\")\n"
   ]
  },
  {
   "cell_type": "code",
   "execution_count": 67,
   "id": "6322ad4a",
   "metadata": {
    "colab": {
     "base_uri": "https://localhost:8080/"
    },
    "executionInfo": {
     "elapsed": 127,
     "status": "ok",
     "timestamp": 1743065539559,
     "user": {
      "displayName": "Sandeep D B",
      "userId": "10429814731141203484"
     },
     "user_tz": -330
    },
    "id": "6322ad4a",
    "outputId": "ac46f3d2-5321-422f-d94c-fa3556e794b9"
   },
   "outputs": [
    {
     "name": "stdout",
     "output_type": "stream",
     "text": [
      "Input: Congratulations! You won $1,000,000! Click here to claim your prize.  --> Predicted Scam Type: 4\n",
      "Input: Your bank account has been compromised. Please enter your password to secure it.  --> Predicted Scam Type: 7\n",
      "Input: Tech support alert: Your computer has a virus! Call now to fix it.  --> Predicted Scam Type: 7\n",
      "Input: Donate now to help orphaned children. Every dollar helps!  --> Predicted Scam Type: 7\n",
      "Input: This is the IRS. You have unpaid taxes. Pay now to avoid arrest.  --> Predicted Scam Type: 5\n"
     ]
    }
   ],
   "source": [
    "test_data_tfidf = vectorizer.transform(test_scams)\n",
    "predicted_scam = rf_model.predict(test_data_tfidf)\n",
    "\n",
    "for text, prediction in zip(test_scams, predicted_scam):\n",
    "    print(f\"Input: {text}  --> Predicted Scam Type: {prediction}\")\n"
   ]
  },
  {
   "cell_type": "code",
   "execution_count": 68,
   "id": "9f2f8ef8",
   "metadata": {
    "colab": {
     "base_uri": "https://localhost:8080/"
    },
    "executionInfo": {
     "elapsed": 49,
     "status": "ok",
     "timestamp": 1743065539768,
     "user": {
      "displayName": "Sandeep D B",
      "userId": "10429814731141203484"
     },
     "user_tz": -330
    },
    "id": "9f2f8ef8",
    "outputId": "c6003337-b111-43cc-a18d-9a7212721254"
   },
   "outputs": [
    {
     "name": "stdout",
     "output_type": "stream",
     "text": [
      "4    92\n",
      "7    88\n",
      "2    83\n",
      "6    82\n",
      "8    77\n",
      "0    77\n",
      "9    76\n",
      "5    75\n",
      "3    75\n",
      "1    75\n",
      "Name: count, dtype: int64\n"
     ]
    }
   ],
   "source": [
    "import pandas as pd\n",
    "y_train_series = pd.Series(y_train)  # Convert NumPy array to Pandas Series\n",
    "print(y_train_series.value_counts())  # Check class distribution\n",
    "\n"
   ]
  },
  {
   "cell_type": "code",
   "execution_count": 69,
   "id": "79182ba2",
   "metadata": {
    "colab": {
     "base_uri": "https://localhost:8080/"
    },
    "executionInfo": {
     "elapsed": 36,
     "status": "ok",
     "timestamp": 1743065540109,
     "user": {
      "displayName": "Sandeep D B",
      "userId": "10429814731141203484"
     },
     "user_tz": -330
    },
    "id": "79182ba2",
    "outputId": "eeafd140-29d0-4778-d6a9-885dd54773f9"
   },
   "outputs": [
    {
     "name": "stdout",
     "output_type": "stream",
     "text": [
      "Model and Vectorizer Saved Successfully!\n"
     ]
    }
   ],
   "source": [
    "import pickle\n",
    "\n",
    "# Save the model\n",
    "with open(\"scam_detection_model.pkl\", \"wb\") as model_file:\n",
    "    pickle.dump(rf_model, model_file)\n",
    "\n",
    "# Save the TF-IDF vectorizer\n",
    "with open(\"tfidf_vectorizer.pkl\", \"wb\") as vectorizer_file:\n",
    "    pickle.dump(vectorizer, vectorizer_file)\n",
    "\n",
    "print(\"Model and Vectorizer Saved Successfully!\")\n"
   ]
  },
  {
   "cell_type": "code",
   "execution_count": 70,
   "id": "NfohkfcZCJ-x",
   "metadata": {
    "colab": {
     "base_uri": "https://localhost:8080/",
     "height": 1000
    },
    "executionInfo": {
     "elapsed": 93399,
     "status": "ok",
     "timestamp": 1743065633758,
     "user": {
      "displayName": "Sandeep D B",
      "userId": "10429814731141203484"
     },
     "user_tz": -330
    },
    "id": "NfohkfcZCJ-x",
    "outputId": "530fbcd7-97ea-4c88-dccf-e5f702f363e6"
   },
   "outputs": [
    {
     "name": "stdout",
     "output_type": "stream",
     "text": [
      "Collecting openai-whisper\n",
      "  Downloading openai-whisper-20240930.tar.gz (800 kB)\n",
      "\u001b[?25l     \u001b[90m━━━━━━━━━━━━━━━━━━━━━━━━━━━━━━━━━━━━━━━━\u001b[0m \u001b[32m0.0/800.5 kB\u001b[0m \u001b[31m?\u001b[0m eta \u001b[36m-:--:--\u001b[0m\r",
      "\u001b[2K     \u001b[91m━━━━━━━\u001b[0m\u001b[90m╺\u001b[0m\u001b[90m━━━━━━━━━━━━━━━━━━━━━━━━━━━━━━━━\u001b[0m \u001b[32m143.4/800.5 kB\u001b[0m \u001b[31m4.1 MB/s\u001b[0m eta \u001b[36m0:00:01\u001b[0m\r",
      "\u001b[2K     \u001b[91m━━━━━━━━━━━━━━━━━━━━━━━━━━━━━━━━\u001b[0m\u001b[90m╺\u001b[0m\u001b[90m━━━━━━━\u001b[0m \u001b[32m645.1/800.5 kB\u001b[0m \u001b[31m9.9 MB/s\u001b[0m eta \u001b[36m0:00:01\u001b[0m\r",
      "\u001b[2K     \u001b[90m━━━━━━━━━━━━━━━━━━━━━━━━━━━━━━━━━━━━━━━━\u001b[0m \u001b[32m800.5/800.5 kB\u001b[0m \u001b[31m9.2 MB/s\u001b[0m eta \u001b[36m0:00:00\u001b[0m\n",
      "\u001b[?25h  Installing build dependencies ... \u001b[?25l\u001b[?25hdone\n",
      "  Getting requirements to build wheel ... \u001b[?25l\u001b[?25hdone\n",
      "  Preparing metadata (pyproject.toml) ... \u001b[?25l\u001b[?25hdone\n",
      "Requirement already satisfied: numba in /usr/local/lib/python3.11/dist-packages (from openai-whisper) (0.60.0)\n",
      "Requirement already satisfied: numpy in /usr/local/lib/python3.11/dist-packages (from openai-whisper) (2.0.2)\n",
      "Requirement already satisfied: torch in /usr/local/lib/python3.11/dist-packages (from openai-whisper) (2.6.0+cu124)\n",
      "Requirement already satisfied: tqdm in /usr/local/lib/python3.11/dist-packages (from openai-whisper) (4.67.1)\n",
      "Requirement already satisfied: more-itertools in /usr/local/lib/python3.11/dist-packages (from openai-whisper) (10.6.0)\n",
      "Collecting tiktoken (from openai-whisper)\n",
      "  Downloading tiktoken-0.9.0-cp311-cp311-manylinux_2_17_x86_64.manylinux2014_x86_64.whl.metadata (6.7 kB)\n",
      "Requirement already satisfied: triton>=2.0.0 in /usr/local/lib/python3.11/dist-packages (from openai-whisper) (3.2.0)\n",
      "Requirement already satisfied: llvmlite<0.44,>=0.43.0dev0 in /usr/local/lib/python3.11/dist-packages (from numba->openai-whisper) (0.43.0)\n",
      "Requirement already satisfied: regex>=2022.1.18 in /usr/local/lib/python3.11/dist-packages (from tiktoken->openai-whisper) (2024.11.6)\n",
      "Requirement already satisfied: requests>=2.26.0 in /usr/local/lib/python3.11/dist-packages (from tiktoken->openai-whisper) (2.32.3)\n",
      "Requirement already satisfied: filelock in /usr/local/lib/python3.11/dist-packages (from torch->openai-whisper) (3.18.0)\n",
      "Requirement already satisfied: typing-extensions>=4.10.0 in /usr/local/lib/python3.11/dist-packages (from torch->openai-whisper) (4.12.2)\n",
      "Requirement already satisfied: networkx in /usr/local/lib/python3.11/dist-packages (from torch->openai-whisper) (3.4.2)\n",
      "Requirement already satisfied: jinja2 in /usr/local/lib/python3.11/dist-packages (from torch->openai-whisper) (3.1.6)\n",
      "Requirement already satisfied: fsspec in /usr/local/lib/python3.11/dist-packages (from torch->openai-whisper) (2025.3.0)\n",
      "Collecting nvidia-cuda-nvrtc-cu12==12.4.127 (from torch->openai-whisper)\n",
      "  Downloading nvidia_cuda_nvrtc_cu12-12.4.127-py3-none-manylinux2014_x86_64.whl.metadata (1.5 kB)\n",
      "Collecting nvidia-cuda-runtime-cu12==12.4.127 (from torch->openai-whisper)\n",
      "  Downloading nvidia_cuda_runtime_cu12-12.4.127-py3-none-manylinux2014_x86_64.whl.metadata (1.5 kB)\n",
      "Collecting nvidia-cuda-cupti-cu12==12.4.127 (from torch->openai-whisper)\n",
      "  Downloading nvidia_cuda_cupti_cu12-12.4.127-py3-none-manylinux2014_x86_64.whl.metadata (1.6 kB)\n",
      "Collecting nvidia-cudnn-cu12==9.1.0.70 (from torch->openai-whisper)\n",
      "  Downloading nvidia_cudnn_cu12-9.1.0.70-py3-none-manylinux2014_x86_64.whl.metadata (1.6 kB)\n",
      "Collecting nvidia-cublas-cu12==12.4.5.8 (from torch->openai-whisper)\n",
      "  Downloading nvidia_cublas_cu12-12.4.5.8-py3-none-manylinux2014_x86_64.whl.metadata (1.5 kB)\n",
      "Collecting nvidia-cufft-cu12==11.2.1.3 (from torch->openai-whisper)\n",
      "  Downloading nvidia_cufft_cu12-11.2.1.3-py3-none-manylinux2014_x86_64.whl.metadata (1.5 kB)\n",
      "Collecting nvidia-curand-cu12==10.3.5.147 (from torch->openai-whisper)\n",
      "  Downloading nvidia_curand_cu12-10.3.5.147-py3-none-manylinux2014_x86_64.whl.metadata (1.5 kB)\n",
      "Collecting nvidia-cusolver-cu12==11.6.1.9 (from torch->openai-whisper)\n",
      "  Downloading nvidia_cusolver_cu12-11.6.1.9-py3-none-manylinux2014_x86_64.whl.metadata (1.6 kB)\n",
      "Collecting nvidia-cusparse-cu12==12.3.1.170 (from torch->openai-whisper)\n",
      "  Downloading nvidia_cusparse_cu12-12.3.1.170-py3-none-manylinux2014_x86_64.whl.metadata (1.6 kB)\n",
      "Requirement already satisfied: nvidia-cusparselt-cu12==0.6.2 in /usr/local/lib/python3.11/dist-packages (from torch->openai-whisper) (0.6.2)\n",
      "Requirement already satisfied: nvidia-nccl-cu12==2.21.5 in /usr/local/lib/python3.11/dist-packages (from torch->openai-whisper) (2.21.5)\n",
      "Requirement already satisfied: nvidia-nvtx-cu12==12.4.127 in /usr/local/lib/python3.11/dist-packages (from torch->openai-whisper) (12.4.127)\n",
      "Collecting nvidia-nvjitlink-cu12==12.4.127 (from torch->openai-whisper)\n",
      "  Downloading nvidia_nvjitlink_cu12-12.4.127-py3-none-manylinux2014_x86_64.whl.metadata (1.5 kB)\n",
      "Requirement already satisfied: sympy==1.13.1 in /usr/local/lib/python3.11/dist-packages (from torch->openai-whisper) (1.13.1)\n",
      "Requirement already satisfied: mpmath<1.4,>=1.1.0 in /usr/local/lib/python3.11/dist-packages (from sympy==1.13.1->torch->openai-whisper) (1.3.0)\n",
      "Requirement already satisfied: charset-normalizer<4,>=2 in /usr/local/lib/python3.11/dist-packages (from requests>=2.26.0->tiktoken->openai-whisper) (3.4.1)\n",
      "Requirement already satisfied: idna<4,>=2.5 in /usr/local/lib/python3.11/dist-packages (from requests>=2.26.0->tiktoken->openai-whisper) (3.10)\n",
      "Requirement already satisfied: urllib3<3,>=1.21.1 in /usr/local/lib/python3.11/dist-packages (from requests>=2.26.0->tiktoken->openai-whisper) (2.3.0)\n",
      "Requirement already satisfied: certifi>=2017.4.17 in /usr/local/lib/python3.11/dist-packages (from requests>=2.26.0->tiktoken->openai-whisper) (2025.1.31)\n",
      "Requirement already satisfied: MarkupSafe>=2.0 in /usr/local/lib/python3.11/dist-packages (from jinja2->torch->openai-whisper) (3.0.2)\n",
      "Downloading tiktoken-0.9.0-cp311-cp311-manylinux_2_17_x86_64.manylinux2014_x86_64.whl (1.2 MB)\n",
      "\u001b[2K   \u001b[90m━━━━━━━━━━━━━━━━━━━━━━━━━━━━━━━━━━━━━━━━\u001b[0m \u001b[32m1.2/1.2 MB\u001b[0m \u001b[31m46.9 MB/s\u001b[0m eta \u001b[36m0:00:00\u001b[0m\n",
      "\u001b[?25hDownloading nvidia_cublas_cu12-12.4.5.8-py3-none-manylinux2014_x86_64.whl (363.4 MB)\n",
      "\u001b[2K   \u001b[90m━━━━━━━━━━━━━━━━━━━━━━━━━━━━━━━━━━━━━━━━\u001b[0m \u001b[32m363.4/363.4 MB\u001b[0m \u001b[31m4.7 MB/s\u001b[0m eta \u001b[36m0:00:00\u001b[0m\n",
      "\u001b[?25hDownloading nvidia_cuda_cupti_cu12-12.4.127-py3-none-manylinux2014_x86_64.whl (13.8 MB)\n",
      "\u001b[2K   \u001b[90m━━━━━━━━━━━━━━━━━━━━━━━━━━━━━━━━━━━━━━━━\u001b[0m \u001b[32m13.8/13.8 MB\u001b[0m \u001b[31m85.1 MB/s\u001b[0m eta \u001b[36m0:00:00\u001b[0m\n",
      "\u001b[?25hDownloading nvidia_cuda_nvrtc_cu12-12.4.127-py3-none-manylinux2014_x86_64.whl (24.6 MB)\n",
      "\u001b[2K   \u001b[90m━━━━━━━━━━━━━━━━━━━━━━━━━━━━━━━━━━━━━━━━\u001b[0m \u001b[32m24.6/24.6 MB\u001b[0m \u001b[31m74.6 MB/s\u001b[0m eta \u001b[36m0:00:00\u001b[0m\n",
      "\u001b[?25hDownloading nvidia_cuda_runtime_cu12-12.4.127-py3-none-manylinux2014_x86_64.whl (883 kB)\n",
      "\u001b[2K   \u001b[90m━━━━━━━━━━━━━━━━━━━━━━━━━━━━━━━━━━━━━━━━\u001b[0m \u001b[32m883.7/883.7 kB\u001b[0m \u001b[31m45.1 MB/s\u001b[0m eta \u001b[36m0:00:00\u001b[0m\n",
      "\u001b[?25hDownloading nvidia_cudnn_cu12-9.1.0.70-py3-none-manylinux2014_x86_64.whl (664.8 MB)\n",
      "\u001b[2K   \u001b[90m━━━━━━━━━━━━━━━━━━━━━━━━━━━━━━━━━━━━━━━━\u001b[0m \u001b[32m664.8/664.8 MB\u001b[0m \u001b[31m2.6 MB/s\u001b[0m eta \u001b[36m0:00:00\u001b[0m\n",
      "\u001b[?25hDownloading nvidia_cufft_cu12-11.2.1.3-py3-none-manylinux2014_x86_64.whl (211.5 MB)\n",
      "\u001b[2K   \u001b[90m━━━━━━━━━━━━━━━━━━━━━━━━━━━━━━━━━━━━━━━━\u001b[0m \u001b[32m211.5/211.5 MB\u001b[0m \u001b[31m5.1 MB/s\u001b[0m eta \u001b[36m0:00:00\u001b[0m\n",
      "\u001b[?25hDownloading nvidia_curand_cu12-10.3.5.147-py3-none-manylinux2014_x86_64.whl (56.3 MB)\n",
      "\u001b[2K   \u001b[90m━━━━━━━━━━━━━━━━━━━━━━━━━━━━━━━━━━━━━━━━\u001b[0m \u001b[32m56.3/56.3 MB\u001b[0m \u001b[31m18.0 MB/s\u001b[0m eta \u001b[36m0:00:00\u001b[0m\n",
      "\u001b[?25hDownloading nvidia_cusolver_cu12-11.6.1.9-py3-none-manylinux2014_x86_64.whl (127.9 MB)\n",
      "\u001b[2K   \u001b[90m━━━━━━━━━━━━━━━━━━━━━━━━━━━━━━━━━━━━━━━━\u001b[0m \u001b[32m127.9/127.9 MB\u001b[0m \u001b[31m7.6 MB/s\u001b[0m eta \u001b[36m0:00:00\u001b[0m\n",
      "\u001b[?25hDownloading nvidia_cusparse_cu12-12.3.1.170-py3-none-manylinux2014_x86_64.whl (207.5 MB)\n",
      "\u001b[2K   \u001b[90m━━━━━━━━━━━━━━━━━━━━━━━━━━━━━━━━━━━━━━━━\u001b[0m \u001b[32m207.5/207.5 MB\u001b[0m \u001b[31m6.0 MB/s\u001b[0m eta \u001b[36m0:00:00\u001b[0m\n",
      "\u001b[?25hDownloading nvidia_nvjitlink_cu12-12.4.127-py3-none-manylinux2014_x86_64.whl (21.1 MB)\n",
      "\u001b[2K   \u001b[90m━━━━━━━━━━━━━━━━━━━━━━━━━━━━━━━━━━━━━━━━\u001b[0m \u001b[32m21.1/21.1 MB\u001b[0m \u001b[31m84.5 MB/s\u001b[0m eta \u001b[36m0:00:00\u001b[0m\n",
      "\u001b[?25hBuilding wheels for collected packages: openai-whisper\n",
      "  Building wheel for openai-whisper (pyproject.toml) ... \u001b[?25l\u001b[?25hdone\n",
      "  Created wheel for openai-whisper: filename=openai_whisper-20240930-py3-none-any.whl size=803405 sha256=b3f8c36ac24ee07a4fab4978ec390343cae1cecc552796a1319192731074f307\n",
      "  Stored in directory: /root/.cache/pip/wheels/2f/f2/ce/6eb23db4091d026238ce76703bd66da60b969d70bcc81d5d3a\n",
      "Successfully built openai-whisper\n",
      "Installing collected packages: nvidia-nvjitlink-cu12, nvidia-curand-cu12, nvidia-cufft-cu12, nvidia-cuda-runtime-cu12, nvidia-cuda-nvrtc-cu12, nvidia-cuda-cupti-cu12, nvidia-cublas-cu12, tiktoken, nvidia-cusparse-cu12, nvidia-cudnn-cu12, nvidia-cusolver-cu12, openai-whisper\n",
      "  Attempting uninstall: nvidia-nvjitlink-cu12\n",
      "    Found existing installation: nvidia-nvjitlink-cu12 12.5.82\n",
      "    Uninstalling nvidia-nvjitlink-cu12-12.5.82:\n",
      "      Successfully uninstalled nvidia-nvjitlink-cu12-12.5.82\n",
      "  Attempting uninstall: nvidia-curand-cu12\n",
      "    Found existing installation: nvidia-curand-cu12 10.3.6.82\n",
      "    Uninstalling nvidia-curand-cu12-10.3.6.82:\n",
      "      Successfully uninstalled nvidia-curand-cu12-10.3.6.82\n",
      "  Attempting uninstall: nvidia-cufft-cu12\n",
      "    Found existing installation: nvidia-cufft-cu12 11.2.3.61\n",
      "    Uninstalling nvidia-cufft-cu12-11.2.3.61:\n",
      "      Successfully uninstalled nvidia-cufft-cu12-11.2.3.61\n",
      "  Attempting uninstall: nvidia-cuda-runtime-cu12\n",
      "    Found existing installation: nvidia-cuda-runtime-cu12 12.5.82\n",
      "    Uninstalling nvidia-cuda-runtime-cu12-12.5.82:\n",
      "      Successfully uninstalled nvidia-cuda-runtime-cu12-12.5.82\n",
      "  Attempting uninstall: nvidia-cuda-nvrtc-cu12\n",
      "    Found existing installation: nvidia-cuda-nvrtc-cu12 12.5.82\n",
      "    Uninstalling nvidia-cuda-nvrtc-cu12-12.5.82:\n",
      "      Successfully uninstalled nvidia-cuda-nvrtc-cu12-12.5.82\n",
      "  Attempting uninstall: nvidia-cuda-cupti-cu12\n",
      "    Found existing installation: nvidia-cuda-cupti-cu12 12.5.82\n",
      "    Uninstalling nvidia-cuda-cupti-cu12-12.5.82:\n",
      "      Successfully uninstalled nvidia-cuda-cupti-cu12-12.5.82\n",
      "  Attempting uninstall: nvidia-cublas-cu12\n",
      "    Found existing installation: nvidia-cublas-cu12 12.5.3.2\n",
      "    Uninstalling nvidia-cublas-cu12-12.5.3.2:\n",
      "      Successfully uninstalled nvidia-cublas-cu12-12.5.3.2\n",
      "  Attempting uninstall: nvidia-cusparse-cu12\n",
      "    Found existing installation: nvidia-cusparse-cu12 12.5.1.3\n",
      "    Uninstalling nvidia-cusparse-cu12-12.5.1.3:\n",
      "      Successfully uninstalled nvidia-cusparse-cu12-12.5.1.3\n",
      "  Attempting uninstall: nvidia-cudnn-cu12\n",
      "    Found existing installation: nvidia-cudnn-cu12 9.3.0.75\n",
      "    Uninstalling nvidia-cudnn-cu12-9.3.0.75:\n",
      "      Successfully uninstalled nvidia-cudnn-cu12-9.3.0.75\n",
      "  Attempting uninstall: nvidia-cusolver-cu12\n",
      "    Found existing installation: nvidia-cusolver-cu12 11.6.3.83\n",
      "    Uninstalling nvidia-cusolver-cu12-11.6.3.83:\n",
      "      Successfully uninstalled nvidia-cusolver-cu12-11.6.3.83\n",
      "Successfully installed nvidia-cublas-cu12-12.4.5.8 nvidia-cuda-cupti-cu12-12.4.127 nvidia-cuda-nvrtc-cu12-12.4.127 nvidia-cuda-runtime-cu12-12.4.127 nvidia-cudnn-cu12-9.1.0.70 nvidia-cufft-cu12-11.2.1.3 nvidia-curand-cu12-10.3.5.147 nvidia-cusolver-cu12-11.6.1.9 nvidia-cusparse-cu12-12.3.1.170 nvidia-nvjitlink-cu12-12.4.127 openai-whisper-20240930 tiktoken-0.9.0\n"
     ]
    },
    {
     "data": {
      "application/vnd.colab-display-data+json": {
       "id": "a984d4f5b51a49659b80e4074bb63db4",
       "pip_warning": {
        "packages": [
         "nvidia"
        ]
       }
      }
     },
     "metadata": {},
     "output_type": "display_data"
    }
   ],
   "source": [
    "!pip install openai-whisper"
   ]
  },
  {
   "cell_type": "code",
   "execution_count": 82,
   "id": "Rfs1v2SBBwsW",
   "metadata": {
    "colab": {
     "base_uri": "https://localhost:8080/"
    },
    "executionInfo": {
     "elapsed": 7310,
     "status": "ok",
     "timestamp": 1743065967231,
     "user": {
      "displayName": "Sandeep D B",
      "userId": "10429814731141203484"
     },
     "user_tz": -330
    },
    "id": "Rfs1v2SBBwsW",
    "outputId": "6c7c066e-2324-4cd8-89dd-6b9c96fa0ae5"
   },
   "outputs": [
    {
     "name": "stderr",
     "output_type": "stream",
     "text": [
      "/usr/local/lib/python3.11/dist-packages/whisper/transcribe.py:126: UserWarning: FP16 is not supported on CPU; using FP32 instead\n",
      "  warnings.warn(\"FP16 is not supported on CPU; using FP32 instead\")\n"
     ]
    },
    {
     "name": "stdout",
     "output_type": "stream",
     "text": [
      "Transcription:  Hello. This is a test for OpenAI whisper.\n"
     ]
    }
   ],
   "source": [
    "import whisper\n",
    "\n",
    "# Load the Whisper model\n",
    "model = whisper.load_model(\"base\")  # You can change \"base\" to \"small\" or \"medium\" for better accuracy\n",
    "\n",
    "# Transcribe an audio file\n",
    "result = model.transcribe(\"test_audio.wav\")  # Replace with your actual file path\n",
    "\n",
    "# Print the transcribed text\n",
    "print(\"Transcription:\", result[\"text\"])\n"
   ]
  },
  {
   "cell_type": "code",
   "execution_count": 83,
   "id": "ZXI99EM8B3OG",
   "metadata": {
    "colab": {
     "base_uri": "https://localhost:8080/"
    },
    "executionInfo": {
     "elapsed": 7074,
     "status": "ok",
     "timestamp": 1743065974302,
     "user": {
      "displayName": "Sandeep D B",
      "userId": "10429814731141203484"
     },
     "user_tz": -330
    },
    "id": "ZXI99EM8B3OG",
    "outputId": "026b76d7-0911-44f6-e5e1-a989c3bd5f90"
   },
   "outputs": [
    {
     "name": "stderr",
     "output_type": "stream",
     "text": [
      "/usr/local/lib/python3.11/dist-packages/whisper/transcribe.py:126: UserWarning: FP16 is not supported on CPU; using FP32 instead\n",
      "  warnings.warn(\"FP16 is not supported on CPU; using FP32 instead\")\n"
     ]
    },
    {
     "name": "stdout",
     "output_type": "stream",
     "text": [
      "Transcribed Text:  Hello. This is a test for OpenAI whisper.\n",
      "Predicted Scam Type: [7]\n"
     ]
    }
   ],
   "source": [
    "import whisper\n",
    "import pickle\n",
    "\n",
    "# Load Whisper Model\n",
    "model = whisper.load_model(\"base\")\n",
    "\n",
    "# Transcribe Audio\n",
    "audio_path = \"test_audio.wav\"  # Replace with actual audio file path\n",
    "result = model.transcribe(audio_path)\n",
    "transcribed_text = result[\"text\"]\n",
    "\n",
    "print(\"Transcribed Text:\", transcribed_text)\n",
    "\n",
    "# Load Scam Detection Model & TF-IDF Vectorizer\n",
    "with open(\"scam_detection_model.pkl\", \"rb\") as model_file:\n",
    "    scam_model = pickle.load(model_file)\n",
    "\n",
    "with open(\"tfidf_vectorizer.pkl\", \"rb\") as vectorizer_file:\n",
    "    vectorizer = pickle.load(vectorizer_file)\n",
    "\n",
    "# Convert text to TF-IDF features\n",
    "text_features = vectorizer.transform([transcribed_text])\n",
    "\n",
    "# Predict Scam Type\n",
    "predicted_scam = scam_model.predict(text_features)\n",
    "\n",
    "print(\"Predicted Scam Type:\", predicted_scam)\n"
   ]
  },
  {
   "cell_type": "code",
   "execution_count": 84,
   "id": "5Fvu1jKaDDiV",
   "metadata": {
    "colab": {
     "base_uri": "https://localhost:8080/"
    },
    "executionInfo": {
     "elapsed": 6436,
     "status": "ok",
     "timestamp": 1743065980769,
     "user": {
      "displayName": "Sandeep D B",
      "userId": "10429814731141203484"
     },
     "user_tz": -330
    },
    "id": "5Fvu1jKaDDiV",
    "outputId": "57982c10-2740-476d-8072-08ae93d4c7ed"
   },
   "outputs": [
    {
     "name": "stderr",
     "output_type": "stream",
     "text": [
      "/usr/local/lib/python3.11/dist-packages/whisper/transcribe.py:126: UserWarning: FP16 is not supported on CPU; using FP32 instead\n",
      "  warnings.warn(\"FP16 is not supported on CPU; using FP32 instead\")\n"
     ]
    },
    {
     "name": "stdout",
     "output_type": "stream",
     "text": [
      "Transcribed Text:  Hello, this is the IRS. You have unpaid taxes. Pay now to avoid arrest.\n",
      "Predicted Scam Type: [5]\n"
     ]
    }
   ],
   "source": [
    "import whisper\n",
    "import pickle\n",
    "\n",
    "# Load Whisper Model\n",
    "model = whisper.load_model(\"base\")\n",
    "\n",
    "# Transcribe the generated audio\n",
    "audio_path = \"scam_call.wav\"\n",
    "result = model.transcribe(audio_path)\n",
    "transcribed_text = result[\"text\"]\n",
    "\n",
    "print(\"Transcribed Text:\", transcribed_text)\n",
    "\n",
    "# Load Scam Detection Model & TF-IDF Vectorizer\n",
    "with open(\"scam_detection_model.pkl\", \"rb\") as model_file:\n",
    "    scam_model = pickle.load(model_file)\n",
    "\n",
    "with open(\"tfidf_vectorizer.pkl\", \"rb\") as vectorizer_file:\n",
    "    vectorizer = pickle.load(vectorizer_file)\n",
    "\n",
    "# Convert text to TF-IDF features\n",
    "text_features = vectorizer.transform([transcribed_text])\n",
    "\n",
    "# Predict Scam Type\n",
    "predicted_scam = scam_model.predict(text_features)\n",
    "\n",
    "print(\"Predicted Scam Type:\", predicted_scam)\n"
   ]
  },
  {
   "cell_type": "code",
   "execution_count": 80,
   "id": "YHbSFZuZFqNX",
   "metadata": {
    "colab": {
     "base_uri": "https://localhost:8080/"
    },
    "executionInfo": {
     "elapsed": 4415,
     "status": "ok",
     "timestamp": 1743065921671,
     "user": {
      "displayName": "Sandeep D B",
      "userId": "10429814731141203484"
     },
     "user_tz": -330
    },
    "id": "YHbSFZuZFqNX",
    "outputId": "31755f6e-f726-45c8-f953-cafc8eecb849"
   },
   "outputs": [
    {
     "name": "stdout",
     "output_type": "stream",
     "text": [
      "Requirement already satisfied: flask in /usr/local/lib/python3.11/dist-packages (3.1.0)\n",
      "Requirement already satisfied: flask-ngrok in /usr/local/lib/python3.11/dist-packages (0.0.25)\n",
      "Requirement already satisfied: openai-whisper in /usr/local/lib/python3.11/dist-packages (20240930)\n",
      "Requirement already satisfied: Werkzeug>=3.1 in /usr/local/lib/python3.11/dist-packages (from flask) (3.1.3)\n",
      "Requirement already satisfied: Jinja2>=3.1.2 in /usr/local/lib/python3.11/dist-packages (from flask) (3.1.6)\n",
      "Requirement already satisfied: itsdangerous>=2.2 in /usr/local/lib/python3.11/dist-packages (from flask) (2.2.0)\n",
      "Requirement already satisfied: click>=8.1.3 in /usr/local/lib/python3.11/dist-packages (from flask) (8.1.8)\n",
      "Requirement already satisfied: blinker>=1.9 in /usr/local/lib/python3.11/dist-packages (from flask) (1.9.0)\n",
      "Requirement already satisfied: requests in /usr/local/lib/python3.11/dist-packages (from flask-ngrok) (2.32.3)\n",
      "Requirement already satisfied: numba in /usr/local/lib/python3.11/dist-packages (from openai-whisper) (0.60.0)\n",
      "Requirement already satisfied: numpy in /usr/local/lib/python3.11/dist-packages (from openai-whisper) (2.0.2)\n",
      "Requirement already satisfied: torch in /usr/local/lib/python3.11/dist-packages (from openai-whisper) (2.6.0+cu124)\n",
      "Requirement already satisfied: tqdm in /usr/local/lib/python3.11/dist-packages (from openai-whisper) (4.67.1)\n",
      "Requirement already satisfied: more-itertools in /usr/local/lib/python3.11/dist-packages (from openai-whisper) (10.6.0)\n",
      "Requirement already satisfied: tiktoken in /usr/local/lib/python3.11/dist-packages (from openai-whisper) (0.9.0)\n",
      "Requirement already satisfied: triton>=2.0.0 in /usr/local/lib/python3.11/dist-packages (from openai-whisper) (3.2.0)\n",
      "Requirement already satisfied: MarkupSafe>=2.0 in /usr/local/lib/python3.11/dist-packages (from Jinja2>=3.1.2->flask) (3.0.2)\n",
      "Requirement already satisfied: llvmlite<0.44,>=0.43.0dev0 in /usr/local/lib/python3.11/dist-packages (from numba->openai-whisper) (0.43.0)\n",
      "Requirement already satisfied: charset-normalizer<4,>=2 in /usr/local/lib/python3.11/dist-packages (from requests->flask-ngrok) (3.4.1)\n",
      "Requirement already satisfied: idna<4,>=2.5 in /usr/local/lib/python3.11/dist-packages (from requests->flask-ngrok) (3.10)\n",
      "Requirement already satisfied: urllib3<3,>=1.21.1 in /usr/local/lib/python3.11/dist-packages (from requests->flask-ngrok) (2.3.0)\n",
      "Requirement already satisfied: certifi>=2017.4.17 in /usr/local/lib/python3.11/dist-packages (from requests->flask-ngrok) (2025.1.31)\n",
      "Requirement already satisfied: regex>=2022.1.18 in /usr/local/lib/python3.11/dist-packages (from tiktoken->openai-whisper) (2024.11.6)\n",
      "Requirement already satisfied: filelock in /usr/local/lib/python3.11/dist-packages (from torch->openai-whisper) (3.18.0)\n",
      "Requirement already satisfied: typing-extensions>=4.10.0 in /usr/local/lib/python3.11/dist-packages (from torch->openai-whisper) (4.12.2)\n",
      "Requirement already satisfied: networkx in /usr/local/lib/python3.11/dist-packages (from torch->openai-whisper) (3.4.2)\n",
      "Requirement already satisfied: fsspec in /usr/local/lib/python3.11/dist-packages (from torch->openai-whisper) (2025.3.0)\n",
      "Requirement already satisfied: nvidia-cuda-nvrtc-cu12==12.4.127 in /usr/local/lib/python3.11/dist-packages (from torch->openai-whisper) (12.4.127)\n",
      "Requirement already satisfied: nvidia-cuda-runtime-cu12==12.4.127 in /usr/local/lib/python3.11/dist-packages (from torch->openai-whisper) (12.4.127)\n",
      "Requirement already satisfied: nvidia-cuda-cupti-cu12==12.4.127 in /usr/local/lib/python3.11/dist-packages (from torch->openai-whisper) (12.4.127)\n",
      "Requirement already satisfied: nvidia-cudnn-cu12==9.1.0.70 in /usr/local/lib/python3.11/dist-packages (from torch->openai-whisper) (9.1.0.70)\n",
      "Requirement already satisfied: nvidia-cublas-cu12==12.4.5.8 in /usr/local/lib/python3.11/dist-packages (from torch->openai-whisper) (12.4.5.8)\n",
      "Requirement already satisfied: nvidia-cufft-cu12==11.2.1.3 in /usr/local/lib/python3.11/dist-packages (from torch->openai-whisper) (11.2.1.3)\n",
      "Requirement already satisfied: nvidia-curand-cu12==10.3.5.147 in /usr/local/lib/python3.11/dist-packages (from torch->openai-whisper) (10.3.5.147)\n",
      "Requirement already satisfied: nvidia-cusolver-cu12==11.6.1.9 in /usr/local/lib/python3.11/dist-packages (from torch->openai-whisper) (11.6.1.9)\n",
      "Requirement already satisfied: nvidia-cusparse-cu12==12.3.1.170 in /usr/local/lib/python3.11/dist-packages (from torch->openai-whisper) (12.3.1.170)\n",
      "Requirement already satisfied: nvidia-cusparselt-cu12==0.6.2 in /usr/local/lib/python3.11/dist-packages (from torch->openai-whisper) (0.6.2)\n",
      "Requirement already satisfied: nvidia-nccl-cu12==2.21.5 in /usr/local/lib/python3.11/dist-packages (from torch->openai-whisper) (2.21.5)\n",
      "Requirement already satisfied: nvidia-nvtx-cu12==12.4.127 in /usr/local/lib/python3.11/dist-packages (from torch->openai-whisper) (12.4.127)\n",
      "Requirement already satisfied: nvidia-nvjitlink-cu12==12.4.127 in /usr/local/lib/python3.11/dist-packages (from torch->openai-whisper) (12.4.127)\n",
      "Requirement already satisfied: sympy==1.13.1 in /usr/local/lib/python3.11/dist-packages (from torch->openai-whisper) (1.13.1)\n",
      "Requirement already satisfied: mpmath<1.4,>=1.1.0 in /usr/local/lib/python3.11/dist-packages (from sympy==1.13.1->torch->openai-whisper) (1.3.0)\n"
     ]
    }
   ],
   "source": [
    "!pip install flask flask-ngrok openai-whisper\n"
   ]
  },
  {
   "cell_type": "code",
   "execution_count": null,
   "id": "5h-8F6fqIOsr",
   "metadata": {
    "executionInfo": {
     "elapsed": 1,
     "status": "aborted",
     "timestamp": 1743065648261,
     "user": {
      "displayName": "Sandeep D B",
      "userId": "10429814731141203484"
     },
     "user_tz": -330
    },
    "id": "5h-8F6fqIOsr"
   },
   "outputs": [],
   "source": []
  },
  {
   "cell_type": "code",
   "execution_count": 78,
   "id": "K_tSTg_9jjm0",
   "metadata": {
    "colab": {
     "base_uri": "https://localhost:8080/"
    },
    "executionInfo": {
     "elapsed": 950,
     "status": "ok",
     "timestamp": 1743065906385,
     "user": {
      "displayName": "Sandeep D B",
      "userId": "10429814731141203484"
     },
     "user_tz": -330
    },
    "id": "K_tSTg_9jjm0",
    "outputId": "ceaecc5f-19d8-4579-e214-8853877df308"
   },
   "outputs": [
    {
     "name": "stdout",
     "output_type": "stream",
     "text": [
      "Authtoken saved to configuration file: /root/.config/ngrok/ngrok.yml\n"
     ]
    }
   ],
   "source": [
    "!ngrok authtoken 2nHpZDDRVaLKVqrTOnzEV5J3ZWu_6iHfv1FGRgfi2Ni3m2mQy"
   ]
  },
  {
   "cell_type": "code",
   "execution_count": 79,
   "id": "k1oaszyTJBUS",
   "metadata": {
    "colab": {
     "base_uri": "https://localhost:8080/",
     "height": 1000
    },
    "executionInfo": {
     "elapsed": 8646,
     "status": "ok",
     "timestamp": 1743065917258,
     "user": {
      "displayName": "Sandeep D B",
      "userId": "10429814731141203484"
     },
     "user_tz": -330
    },
    "id": "k1oaszyTJBUS",
    "outputId": "ac49bb9a-b9b1-4c89-dd23-12e191049fc1"
   },
   "outputs": [
    {
     "name": "stdout",
     "output_type": "stream",
     "text": [
      "Requirement already satisfied: flask in /usr/local/lib/python3.11/dist-packages (3.1.0)\n",
      "Collecting flask-ngrok\n",
      "  Downloading flask_ngrok-0.0.25-py3-none-any.whl.metadata (1.8 kB)\n",
      "Requirement already satisfied: werkzeug in /usr/local/lib/python3.11/dist-packages (3.1.3)\n",
      "Collecting whisper\n",
      "  Downloading whisper-1.1.10.tar.gz (42 kB)\n",
      "\u001b[2K     \u001b[90m━━━━━━━━━━━━━━━━━━━━━━━━━━━━━━━━━━━━━━━━\u001b[0m \u001b[32m42.8/42.8 kB\u001b[0m \u001b[31m3.9 MB/s\u001b[0m eta \u001b[36m0:00:00\u001b[0m\n",
      "\u001b[?25h  Preparing metadata (setup.py) ... \u001b[?25l\u001b[?25hdone\n",
      "Requirement already satisfied: openai-whisper in /usr/local/lib/python3.11/dist-packages (20240930)\n",
      "Requirement already satisfied: Jinja2>=3.1.2 in /usr/local/lib/python3.11/dist-packages (from flask) (3.1.6)\n",
      "Requirement already satisfied: itsdangerous>=2.2 in /usr/local/lib/python3.11/dist-packages (from flask) (2.2.0)\n",
      "Requirement already satisfied: click>=8.1.3 in /usr/local/lib/python3.11/dist-packages (from flask) (8.1.8)\n",
      "Requirement already satisfied: blinker>=1.9 in /usr/local/lib/python3.11/dist-packages (from flask) (1.9.0)\n",
      "Requirement already satisfied: requests in /usr/local/lib/python3.11/dist-packages (from flask-ngrok) (2.32.3)\n",
      "Requirement already satisfied: MarkupSafe>=2.1.1 in /usr/local/lib/python3.11/dist-packages (from werkzeug) (3.0.2)\n",
      "Requirement already satisfied: six in /usr/local/lib/python3.11/dist-packages (from whisper) (1.17.0)\n",
      "Requirement already satisfied: numba in /usr/local/lib/python3.11/dist-packages (from openai-whisper) (0.60.0)\n",
      "Requirement already satisfied: numpy in /usr/local/lib/python3.11/dist-packages (from openai-whisper) (2.0.2)\n",
      "Requirement already satisfied: torch in /usr/local/lib/python3.11/dist-packages (from openai-whisper) (2.6.0+cu124)\n",
      "Requirement already satisfied: tqdm in /usr/local/lib/python3.11/dist-packages (from openai-whisper) (4.67.1)\n",
      "Requirement already satisfied: more-itertools in /usr/local/lib/python3.11/dist-packages (from openai-whisper) (10.6.0)\n",
      "Requirement already satisfied: tiktoken in /usr/local/lib/python3.11/dist-packages (from openai-whisper) (0.9.0)\n",
      "Requirement already satisfied: triton>=2.0.0 in /usr/local/lib/python3.11/dist-packages (from openai-whisper) (3.2.0)\n",
      "Requirement already satisfied: llvmlite<0.44,>=0.43.0dev0 in /usr/local/lib/python3.11/dist-packages (from numba->openai-whisper) (0.43.0)\n",
      "Requirement already satisfied: charset-normalizer<4,>=2 in /usr/local/lib/python3.11/dist-packages (from requests->flask-ngrok) (3.4.1)\n",
      "Requirement already satisfied: idna<4,>=2.5 in /usr/local/lib/python3.11/dist-packages (from requests->flask-ngrok) (3.10)\n",
      "Requirement already satisfied: urllib3<3,>=1.21.1 in /usr/local/lib/python3.11/dist-packages (from requests->flask-ngrok) (2.3.0)\n",
      "Requirement already satisfied: certifi>=2017.4.17 in /usr/local/lib/python3.11/dist-packages (from requests->flask-ngrok) (2025.1.31)\n",
      "Requirement already satisfied: regex>=2022.1.18 in /usr/local/lib/python3.11/dist-packages (from tiktoken->openai-whisper) (2024.11.6)\n",
      "Requirement already satisfied: filelock in /usr/local/lib/python3.11/dist-packages (from torch->openai-whisper) (3.18.0)\n",
      "Requirement already satisfied: typing-extensions>=4.10.0 in /usr/local/lib/python3.11/dist-packages (from torch->openai-whisper) (4.12.2)\n",
      "Requirement already satisfied: networkx in /usr/local/lib/python3.11/dist-packages (from torch->openai-whisper) (3.4.2)\n",
      "Requirement already satisfied: fsspec in /usr/local/lib/python3.11/dist-packages (from torch->openai-whisper) (2025.3.0)\n",
      "Requirement already satisfied: nvidia-cuda-nvrtc-cu12==12.4.127 in /usr/local/lib/python3.11/dist-packages (from torch->openai-whisper) (12.4.127)\n",
      "Requirement already satisfied: nvidia-cuda-runtime-cu12==12.4.127 in /usr/local/lib/python3.11/dist-packages (from torch->openai-whisper) (12.4.127)\n",
      "Requirement already satisfied: nvidia-cuda-cupti-cu12==12.4.127 in /usr/local/lib/python3.11/dist-packages (from torch->openai-whisper) (12.4.127)\n",
      "Requirement already satisfied: nvidia-cudnn-cu12==9.1.0.70 in /usr/local/lib/python3.11/dist-packages (from torch->openai-whisper) (9.1.0.70)\n",
      "Requirement already satisfied: nvidia-cublas-cu12==12.4.5.8 in /usr/local/lib/python3.11/dist-packages (from torch->openai-whisper) (12.4.5.8)\n",
      "Requirement already satisfied: nvidia-cufft-cu12==11.2.1.3 in /usr/local/lib/python3.11/dist-packages (from torch->openai-whisper) (11.2.1.3)\n",
      "Requirement already satisfied: nvidia-curand-cu12==10.3.5.147 in /usr/local/lib/python3.11/dist-packages (from torch->openai-whisper) (10.3.5.147)\n",
      "Requirement already satisfied: nvidia-cusolver-cu12==11.6.1.9 in /usr/local/lib/python3.11/dist-packages (from torch->openai-whisper) (11.6.1.9)\n",
      "Requirement already satisfied: nvidia-cusparse-cu12==12.3.1.170 in /usr/local/lib/python3.11/dist-packages (from torch->openai-whisper) (12.3.1.170)\n",
      "Requirement already satisfied: nvidia-cusparselt-cu12==0.6.2 in /usr/local/lib/python3.11/dist-packages (from torch->openai-whisper) (0.6.2)\n",
      "Requirement already satisfied: nvidia-nccl-cu12==2.21.5 in /usr/local/lib/python3.11/dist-packages (from torch->openai-whisper) (2.21.5)\n",
      "Requirement already satisfied: nvidia-nvtx-cu12==12.4.127 in /usr/local/lib/python3.11/dist-packages (from torch->openai-whisper) (12.4.127)\n",
      "Requirement already satisfied: nvidia-nvjitlink-cu12==12.4.127 in /usr/local/lib/python3.11/dist-packages (from torch->openai-whisper) (12.4.127)\n",
      "Requirement already satisfied: sympy==1.13.1 in /usr/local/lib/python3.11/dist-packages (from torch->openai-whisper) (1.13.1)\n",
      "Requirement already satisfied: mpmath<1.4,>=1.1.0 in /usr/local/lib/python3.11/dist-packages (from sympy==1.13.1->torch->openai-whisper) (1.3.0)\n",
      "Downloading flask_ngrok-0.0.25-py3-none-any.whl (3.1 kB)\n",
      "Building wheels for collected packages: whisper\n",
      "  Building wheel for whisper (setup.py) ... \u001b[?25l\u001b[?25hdone\n",
      "  Created wheel for whisper: filename=whisper-1.1.10-py3-none-any.whl size=41120 sha256=3a0fa7ef3ad2a81ab2cfe3a3267c648396a5fd218422f086e0a1eab9918d8c9f\n",
      "  Stored in directory: /root/.cache/pip/wheels/21/65/ee/4e6672aabfa486d3341a39a04f8f87c77e5156149299b5a7d0\n",
      "Successfully built whisper\n",
      "Installing collected packages: whisper, flask-ngrok\n",
      "Successfully installed flask-ngrok-0.0.25 whisper-1.1.10\n"
     ]
    },
    {
     "data": {
      "application/vnd.colab-display-data+json": {
       "id": "38c6710634884065b5ae96e0274326ee",
       "pip_warning": {
        "packages": [
         "whisper"
        ]
       }
      }
     },
     "metadata": {},
     "output_type": "display_data"
    }
   ],
   "source": [
    "!pip install flask flask-ngrok werkzeug whisper openai-whisper\n"
   ]
  },
  {
   "cell_type": "code",
   "execution_count": null,
   "id": "8xlxZa4GT5n-",
   "metadata": {
    "executionInfo": {
     "elapsed": 104592,
     "status": "aborted",
     "timestamp": 1743065648273,
     "user": {
      "displayName": "Sandeep D B",
      "userId": "10429814731141203484"
     },
     "user_tz": -330
    },
    "id": "8xlxZa4GT5n-"
   },
   "outputs": [],
   "source": []
  },
  {
   "cell_type": "code",
   "execution_count": null,
   "id": "mEY9cdYkT5qW",
   "metadata": {
    "executionInfo": {
     "elapsed": 103573,
     "status": "aborted",
     "timestamp": 1743065648275,
     "user": {
      "displayName": "Sandeep D B",
      "userId": "10429814731141203484"
     },
     "user_tz": -330
    },
    "id": "mEY9cdYkT5qW"
   },
   "outputs": [],
   "source": []
  },
  {
   "cell_type": "code",
   "execution_count": 85,
   "id": "KjmCrYYVF-2V",
   "metadata": {
    "colab": {
     "base_uri": "https://localhost:8080/"
    },
    "executionInfo": {
     "elapsed": 3164,
     "status": "ok",
     "timestamp": 1743065983922,
     "user": {
      "displayName": "Sandeep D B",
      "userId": "10429814731141203484"
     },
     "user_tz": -330
    },
    "id": "KjmCrYYVF-2V",
    "outputId": "88f4ebc2-8ee0-41e8-c717-0e19658cb285"
   },
   "outputs": [
    {
     "name": "stdout",
     "output_type": "stream",
     "text": [
      "Requirement already satisfied: pyngrok in /usr/local/lib/python3.11/dist-packages (7.2.3)\n",
      "Requirement already satisfied: PyYAML>=5.1 in /usr/local/lib/python3.11/dist-packages (from pyngrok) (6.0.2)\n"
     ]
    }
   ],
   "source": [
    "!pip install pyngrok\n"
   ]
  },
  {
   "cell_type": "code",
   "execution_count": 86,
   "id": "_jymmWUDICgx",
   "metadata": {
    "colab": {
     "base_uri": "https://localhost:8080/"
    },
    "executionInfo": {
     "elapsed": 3258,
     "status": "ok",
     "timestamp": 1743065987182,
     "user": {
      "displayName": "Sandeep D B",
      "userId": "10429814731141203484"
     },
     "user_tz": -330
    },
    "id": "_jymmWUDICgx",
    "outputId": "35942775-5af6-4051-9ed4-6d6aa54af8c2"
   },
   "outputs": [
    {
     "name": "stdout",
     "output_type": "stream",
     "text": [
      "Requirement already satisfied: flask in /usr/local/lib/python3.11/dist-packages (3.1.0)\n",
      "Requirement already satisfied: flask-cors in /usr/local/lib/python3.11/dist-packages (5.0.1)\n",
      "Collecting py\n",
      "  Downloading py-1.11.0-py2.py3-none-any.whl.metadata (2.8 kB)\n",
      "Requirement already satisfied: Werkzeug>=3.1 in /usr/local/lib/python3.11/dist-packages (from flask) (3.1.3)\n",
      "Requirement already satisfied: Jinja2>=3.1.2 in /usr/local/lib/python3.11/dist-packages (from flask) (3.1.6)\n",
      "Requirement already satisfied: itsdangerous>=2.2 in /usr/local/lib/python3.11/dist-packages (from flask) (2.2.0)\n",
      "Requirement already satisfied: click>=8.1.3 in /usr/local/lib/python3.11/dist-packages (from flask) (8.1.8)\n",
      "Requirement already satisfied: blinker>=1.9 in /usr/local/lib/python3.11/dist-packages (from flask) (1.9.0)\n",
      "Requirement already satisfied: MarkupSafe>=2.0 in /usr/local/lib/python3.11/dist-packages (from Jinja2>=3.1.2->flask) (3.0.2)\n",
      "Downloading py-1.11.0-py2.py3-none-any.whl (98 kB)\n",
      "\u001b[2K   \u001b[90m━━━━━━━━━━━━━━━━━━━━━━━━━━━━━━━━━━━━━━━━\u001b[0m \u001b[32m98.7/98.7 kB\u001b[0m \u001b[31m2.3 MB/s\u001b[0m eta \u001b[36m0:00:00\u001b[0m\n",
      "\u001b[?25hInstalling collected packages: py\n",
      "Successfully installed py-1.11.0\n"
     ]
    }
   ],
   "source": [
    "!pip install flask flask-cors py\n"
   ]
  },
  {
   "cell_type": "code",
   "execution_count": 102,
   "id": "IHqjkCy2PMfk",
   "metadata": {
    "executionInfo": {
     "elapsed": 126,
     "status": "ok",
     "timestamp": 1743066554694,
     "user": {
      "displayName": "Sandeep D B",
      "userId": "10429814731141203484"
     },
     "user_tz": -330
    },
    "id": "IHqjkCy2PMfk"
   },
   "outputs": [],
   "source": [
    "!pkill ngrok\n"
   ]
  },
  {
   "cell_type": "code",
   "execution_count": 88,
   "id": "4uBYuo7WO9jG",
   "metadata": {
    "colab": {
     "base_uri": "https://localhost:8080/"
    },
    "executionInfo": {
     "elapsed": 410,
     "status": "ok",
     "timestamp": 1743065987801,
     "user": {
      "displayName": "Sandeep D B",
      "userId": "10429814731141203484"
     },
     "user_tz": -330
    },
    "id": "4uBYuo7WO9jG",
    "outputId": "ebe104fe-bd46-4c71-f0b4-a23775d8d4b7"
   },
   "outputs": [
    {
     "name": "stdout",
     "output_type": "stream",
     "text": [
      "New ngrok URL: NgrokTunnel: \"https://1f5e-34-106-16-45.ngrok-free.app\" -> \"http://localhost:5000\"\n"
     ]
    }
   ],
   "source": [
    "from pyngrok import ngrok\n",
    "\n",
    "public_url = ngrok.connect(5000, \"http\")  # Connect to port 5000\n",
    "print(\"New ngrok URL:\", public_url)\n"
   ]
  },
  {
   "cell_type": "code",
   "execution_count": 101,
   "id": "7GBSfBmFVfM6",
   "metadata": {
    "colab": {
     "base_uri": "https://localhost:8080/"
    },
    "executionInfo": {
     "elapsed": 23,
     "status": "ok",
     "timestamp": 1743066548176,
     "user": {
      "displayName": "Sandeep D B",
      "userId": "10429814731141203484"
     },
     "user_tz": -330
    },
    "id": "7GBSfBmFVfM6",
    "outputId": "e190613d-25ea-40c7-9dc0-b25fc0194188"
   },
   "outputs": [
    {
     "name": "stdout",
     "output_type": "stream",
     "text": [
      "Writing index.html\n"
     ]
    }
   ],
   "source": [
    "%%writefile index.html\n",
    "<!DOCTYPE html>\n",
    "<html lang=\"en\">\n",
    "<head>\n",
    "    <meta charset=\"UTF-8\">\n",
    "    <meta name=\"viewport\" content=\"width=device-width, initial-scale=1.0\">\n",
    "    <title>Audio Scam Detection</title>\n",
    "    <link href=\"https://cdn.jsdelivr.net/npm/bootstrap@5.3.0/dist/css/bootstrap.min.css\" rel=\"stylesheet\">\n",
    "    <style>\n",
    "        body {\n",
    "            background-color: #f8f9fa;\n",
    "            font-family: Arial, sans-serif;\n",
    "        }\n",
    "        .container {\n",
    "            max-width: 600px;\n",
    "            margin-top: 50px;\n",
    "            background: white;\n",
    "            padding: 20px;\n",
    "            border-radius: 10px;\n",
    "            box-shadow: 0px 0px 10px rgba(0, 0, 0, 0.1);\n",
    "        }\n",
    "        .progress {\n",
    "            display: none;\n",
    "            margin-top: 10px;\n",
    "        }\n",
    "        .result-box {\n",
    "            margin-top: 20px;\n",
    "            padding: 15px;\n",
    "            border-radius: 5px;\n",
    "            background: #e3f2fd;\n",
    "        }\n",
    "        .btn-upload {\n",
    "            width: 100%;\n",
    "        }\n",
    "    </style>\n",
    "</head>\n",
    "<body>\n",
    "\n",
    "<div class=\"container text-center\">\n",
    "    <h2 class=\"mb-4\">🔍 Audio Scam Detection</h2>\n",
    "    <p class=\"text-muted\">Upload an audio file and check if it's a scam!</p>\n",
    "\n",
    "    <input type=\"file\" class=\"form-control\" id=\"audioFile\" accept=\"audio/*\">\n",
    "    <button class=\"btn btn-primary btn-upload mt-3\" onclick=\"uploadFile()\">🔄 Analyze Audio</button>\n",
    "\n",
    "    <div class=\"progress mt-3\">\n",
    "        <div class=\"progress-bar progress-bar-striped progress-bar-animated\" style=\"width: 100%;\">Processing...</div>\n",
    "    </div>\n",
    "\n",
    "    <div id=\"result\" class=\"result-box text-start d-none\">\n",
    "        <h4>📝 Transcription:</h4>\n",
    "        <p id=\"transcriptionText\" class=\"fw-bold\"></p>\n",
    "        <h4>🛑 Scam Detection:</h4>\n",
    "        <p id=\"scamType\" class=\"text-danger fw-bold\"></p>\n",
    "    </div>\n",
    "</div>\n",
    "\n",
    "<script>\n",
    "    async function uploadFile() {\n",
    "        const fileInput = document.getElementById(\"audioFile\");\n",
    "        const file = fileInput.files[0];\n",
    "\n",
    "        if (!file) {\n",
    "            alert(\"⚠️ Please select an audio file first!\");\n",
    "            return;\n",
    "        }\n",
    "\n",
    "        document.querySelector(\".progress\").style.display = \"block\";\n",
    "        document.getElementById(\"result\").classList.add(\"d-none\");\n",
    "\n",
    "        let formData = new FormData();\n",
    "        formData.append(\"file\", file);\n",
    "\n",
    "        try {\n",
    "            const response = await fetch(\"/predict\", {\n",
    "                method: \"POST\",\n",
    "                body: formData\n",
    "            });\n",
    "\n",
    "            const data = await response.json();\n",
    "\n",
    "            // Display results properly\n",
    "            document.getElementById(\"transcriptionText\").innerText = data.transcription || \"No transcription available.\";\n",
    "            document.getElementById(\"scamType\").innerText = (data.scam_type === 1) ? \"⚠️ Potential Scam Detected!\" : \"✅ No Scam Detected.\";\n",
    "\n",
    "            document.getElementById(\"result\").classList.remove(\"d-none\");\n",
    "        } catch (error) {\n",
    "            alert(\"❌ Error processing the file. Please try again.\");\n",
    "        } finally {\n",
    "            document.querySelector(\".progress\").style.display = \"none\";\n",
    "        }\n",
    "    }\n",
    "</script>\n",
    "\n",
    "</body>\n",
    "</html>\n",
    "\n"
   ]
  },
  {
   "cell_type": "code",
   "execution_count": 93,
   "id": "E8ry0lXUYVrI",
   "metadata": {
    "colab": {
     "base_uri": "https://localhost:8080/"
    },
    "executionInfo": {
     "elapsed": 31,
     "status": "ok",
     "timestamp": 1743066191789,
     "user": {
      "displayName": "Sandeep D B",
      "userId": "10429814731141203484"
     },
     "user_tz": -330
    },
    "id": "E8ry0lXUYVrI",
    "outputId": "4d1d62ec-35c2-4092-f703-82e064269a34"
   },
   "outputs": [
    {
     "name": "stdout",
     "output_type": "stream",
     "text": [
      "Overwriting app.py\n"
     ]
    }
   ],
   "source": [
    "%%writefile app.py\n",
    "from flask import Flask, request, jsonify, render_template\n",
    "import whisper\n",
    "import pickle\n",
    "import os\n",
    "from flask_cors import CORS\n",
    "from pyngrok import ngrok\n",
    "\n",
    "# Load Whisper Model\n",
    "whisper_model = whisper.load_model(\"tiny\")  # Use \"tiny\" for faster response\n",
    "\n",
    "# Load Scam Detection Model & Vectorizer\n",
    "with open(\"scam_detection_model.pkl\", \"rb\") as model_file:\n",
    "    scam_model = pickle.load(model_file)\n",
    "\n",
    "with open(\"tfidf_vectorizer.pkl\", \"rb\") as vectorizer_file:\n",
    "    vectorizer = pickle.load(vectorizer_file)\n",
    "\n",
    "# Initialize Flask App\n",
    "app = Flask(__name__, template_folder=\"templates\")\n",
    "CORS(app)\n",
    "\n",
    "@app.route(\"/\")\n",
    "def home():\n",
    "    return render_template(\"index.html\")  # Serve HTML file\n",
    "\n",
    "@app.route(\"/predict\", methods=[\"POST\"])\n",
    "def predict_scam():\n",
    "    if \"file\" not in request.files:\n",
    "        return jsonify({\"error\": \"No file uploaded. Ensure the form-data key is 'file'.\"}), 400\n",
    "\n",
    "    file = request.files[\"file\"]\n",
    "    if file.filename == \"\":\n",
    "        return jsonify({\"error\": \"Empty file name, please upload a valid file.\"}), 400\n",
    "\n",
    "    filepath = \"uploaded_audio.wav\"\n",
    "    file.save(filepath)\n",
    "\n",
    "    try:\n",
    "        # Transcribe audio using Whisper\n",
    "        result = whisper_model.transcribe(filepath)\n",
    "        transcribed_text = result[\"text\"]\n",
    "\n",
    "        # Predict Scam Type\n",
    "        text_features = vectorizer.transform([transcribed_text])\n",
    "        predicted_scam = scam_model.predict(text_features)\n",
    "\n",
    "        return jsonify({\"transcription\": transcribed_text, \"scam_type\": int(predicted_scam[0])})\n",
    "\n",
    "    except Exception as e:\n",
    "        return jsonify({\"error\": str(e)}), 500\n",
    "\n",
    "    finally:\n",
    "        if os.path.exists(filepath):\n",
    "            os.remove(filepath)\n",
    "\n",
    "if __name__ == \"__main__\":\n",
    "    public_url = ngrok.connect(5000).public_url\n",
    "    print(\"Ngrok tunnel URL:\", public_url)\n",
    "    app.run(host=\"0.0.0.0\", port=5000)\n"
   ]
  },
  {
   "cell_type": "code",
   "execution_count": 103,
   "id": "ikrEBBezYe_e",
   "metadata": {
    "colab": {
     "base_uri": "https://localhost:8080/"
    },
    "executionInfo": {
     "elapsed": 293613,
     "status": "ok",
     "timestamp": 1743066852584,
     "user": {
      "displayName": "Sandeep D B",
      "userId": "10429814731141203484"
     },
     "user_tz": -330
    },
    "id": "ikrEBBezYe_e",
    "outputId": "10d512dd-4381-4d01-b752-8b1b55c86e0d"
   },
   "outputs": [
    {
     "name": "stdout",
     "output_type": "stream",
     "text": [
      "Ngrok tunnel URL: https://104d-34-106-16-45.ngrok-free.app\n",
      " * Serving Flask app 'app'\n",
      " * Debug mode: off\n",
      "\u001b[31m\u001b[1mWARNING: This is a development server. Do not use it in a production deployment. Use a production WSGI server instead.\u001b[0m\n",
      " * Running on all addresses (0.0.0.0)\n",
      " * Running on http://127.0.0.1:5000\n",
      " * Running on http://172.28.0.12:5000\n",
      "\u001b[33mPress CTRL+C to quit\u001b[0m\n",
      "127.0.0.1 - - [27/Mar/2025 09:09:30] \"GET / HTTP/1.1\" 200 -\n",
      "127.0.0.1 - - [27/Mar/2025 09:09:31] \"\u001b[33mGET /favicon.ico HTTP/1.1\u001b[0m\" 404 -\n",
      "/usr/local/lib/python3.11/dist-packages/whisper/transcribe.py:126: UserWarning: FP16 is not supported on CPU; using FP32 instead\n",
      "  warnings.warn(\"FP16 is not supported on CPU; using FP32 instead\")\n",
      "127.0.0.1 - - [27/Mar/2025 09:09:44] \"POST /predict HTTP/1.1\" 200 -\n",
      "/usr/local/lib/python3.11/dist-packages/whisper/transcribe.py:126: UserWarning: FP16 is not supported on CPU; using FP32 instead\n",
      "  warnings.warn(\"FP16 is not supported on CPU; using FP32 instead\")\n",
      "127.0.0.1 - - [27/Mar/2025 09:09:57] \"POST /predict HTTP/1.1\" 200 -\n",
      "/usr/local/lib/python3.11/dist-packages/whisper/transcribe.py:126: UserWarning: FP16 is not supported on CPU; using FP32 instead\n",
      "  warnings.warn(\"FP16 is not supported on CPU; using FP32 instead\")\n",
      "127.0.0.1 - - [27/Mar/2025 09:10:10] \"POST /predict HTTP/1.1\" 200 -\n",
      "/usr/local/lib/python3.11/dist-packages/whisper/transcribe.py:126: UserWarning: FP16 is not supported on CPU; using FP32 instead\n",
      "  warnings.warn(\"FP16 is not supported on CPU; using FP32 instead\")\n",
      "127.0.0.1 - - [27/Mar/2025 09:10:23] \"POST /predict HTTP/1.1\" 200 -\n",
      "/usr/local/lib/python3.11/dist-packages/whisper/transcribe.py:126: UserWarning: FP16 is not supported on CPU; using FP32 instead\n",
      "  warnings.warn(\"FP16 is not supported on CPU; using FP32 instead\")\n",
      "127.0.0.1 - - [27/Mar/2025 09:10:29] \"POST /predict HTTP/1.1\" 200 -\n",
      "t=2025-03-27T09:14:09+0000 lvl=warn msg=\"Stopping forwarder\" name=http-5000-f82506d6-930a-412f-8574-f667e9f970a9 acceptErr=\"failed to accept connection: Listener closed\"\n",
      "t=2025-03-27T09:14:09+0000 lvl=warn msg=\"Error restarting forwarder\" name=http-5000-f82506d6-930a-412f-8574-f667e9f970a9 err=\"failed to start tunnel: session closed\"\n",
      "Exception ignored in atexit callback: <bound method finalize._exitfunc of <class 'weakref.finalize'>>\n",
      "Traceback (most recent call last):\n",
      "  File \"/usr/lib/python3.11/weakref.py\", line 656, in _exitfunc\n",
      "    pending = cls._select_for_exit()\n",
      "              ^^^^^^^^^^^^^^^^^^^^^^\n",
      "  File \"/usr/lib/python3.11/weakref.py\", line 637, in _select_for_exit\n",
      "    L = [(f,i) for (f,i) in cls._registry.items() if i.atexit]\n",
      "        ^^^^^^^^^^^^^^^^^^^^^^^^^^^^^^^^^^^^^^^^^^^^^^^^^^^^^^\n",
      "  File \"/usr/lib/python3.11/weakref.py\", line 637, in <listcomp>\n",
      "    L = [(f,i) for (f,i) in cls._registry.items() if i.atexit]\n",
      "        ^^^^^^^^^^^^^^^^^^^^^^^^^^^^^^^^^^^^^^^^^^^^^^^^^^^^^^\n",
      "KeyboardInterrupt: \n"
     ]
    }
   ],
   "source": [
    "!python app.py\n"
   ]
  },
  {
   "cell_type": "code",
   "execution_count": 99,
   "id": "ylvCyWzq1tdI",
   "metadata": {
    "executionInfo": {
     "elapsed": 42,
     "status": "ok",
     "timestamp": 1743066347041,
     "user": {
      "displayName": "Sandeep D B",
      "userId": "10429814731141203484"
     },
     "user_tz": -330
    },
    "id": "ylvCyWzq1tdI"
   },
   "outputs": [],
   "source": [
    "import os\n",
    "if not os.path.exists(\"templates\"):\n",
    "    os.mkdir(\"templates\")\n",
    "!mv index.html templates/\n"
   ]
  },
  {
   "cell_type": "code",
   "execution_count": 75,
   "id": "nND-fyyQ0ZNk",
   "metadata": {
    "colab": {
     "base_uri": "https://localhost:8080/"
    },
    "executionInfo": {
     "elapsed": 5338,
     "status": "ok",
     "timestamp": 1743065867465,
     "user": {
      "displayName": "Sandeep D B",
      "userId": "10429814731141203484"
     },
     "user_tz": -330
    },
    "id": "nND-fyyQ0ZNk",
    "outputId": "e8ae34ea-ee7b-42f7-b6c4-a1fd770d9910"
   },
   "outputs": [
    {
     "name": "stdout",
     "output_type": "stream",
     "text": [
      "Collecting flask_cors\n",
      "  Downloading flask_cors-5.0.1-py3-none-any.whl.metadata (961 bytes)\n",
      "Requirement already satisfied: flask>=0.9 in /usr/local/lib/python3.11/dist-packages (from flask_cors) (3.1.0)\n",
      "Requirement already satisfied: Werkzeug>=0.7 in /usr/local/lib/python3.11/dist-packages (from flask_cors) (3.1.3)\n",
      "Requirement already satisfied: Jinja2>=3.1.2 in /usr/local/lib/python3.11/dist-packages (from flask>=0.9->flask_cors) (3.1.6)\n",
      "Requirement already satisfied: itsdangerous>=2.2 in /usr/local/lib/python3.11/dist-packages (from flask>=0.9->flask_cors) (2.2.0)\n",
      "Requirement already satisfied: click>=8.1.3 in /usr/local/lib/python3.11/dist-packages (from flask>=0.9->flask_cors) (8.1.8)\n",
      "Requirement already satisfied: blinker>=1.9 in /usr/local/lib/python3.11/dist-packages (from flask>=0.9->flask_cors) (1.9.0)\n",
      "Requirement already satisfied: MarkupSafe>=2.1.1 in /usr/local/lib/python3.11/dist-packages (from Werkzeug>=0.7->flask_cors) (3.0.2)\n",
      "Downloading flask_cors-5.0.1-py3-none-any.whl (11 kB)\n",
      "Installing collected packages: flask_cors\n",
      "Successfully installed flask_cors-5.0.1\n"
     ]
    }
   ],
   "source": [
    "!pip install flask_cors\n"
   ]
  },
  {
   "cell_type": "code",
   "execution_count": 108,
   "id": "hlNlns7F0k6b",
   "metadata": {
    "executionInfo": {
     "elapsed": 1446,
     "status": "ok",
     "timestamp": 1743067195201,
     "user": {
      "displayName": "Sandeep D B",
      "userId": "10429814731141203484"
     },
     "user_tz": -330
    },
    "id": "hlNlns7F0k6b"
   },
   "outputs": [],
   "source": [
    "!pip freeze > requirements.txt\n"
   ]
  },
  {
   "cell_type": "code",
   "execution_count": 1,
   "id": "xkCGtqhS5_iL",
   "metadata": {
    "id": "xkCGtqhS5_iL"
   },
   "outputs": [
    {
     "ename": "SyntaxError",
     "evalue": "invalid syntax (3277417328.py, line 1)",
     "output_type": "error",
     "traceback": [
      "\u001b[1;36m  File \u001b[1;32m\"D:\\app data\\Temp\\ipykernel_10376\\3277417328.py\"\u001b[1;36m, line \u001b[1;32m1\u001b[0m\n\u001b[1;33m    git init\u001b[0m\n\u001b[1;37m           ^\u001b[0m\n\u001b[1;31mSyntaxError\u001b[0m\u001b[1;31m:\u001b[0m invalid syntax\n"
     ]
    }
   ],
   "source": [
    
   ]
  },
  {
   "cell_type": "code",
   "execution_count": null,
   "id": "ae7c41ca",
   "metadata": {},
   "outputs": [],
   "source": []
  }
 ],
 "metadata": {
  "colab": {
   "provenance": []
  },
  "kernelspec": {
   "display_name": "Python 3 (ipykernel)",
   "language": "python",
   "name": "python3"
  },
  "language_info": {
   "codemirror_mode": {
    "name": "ipython",
    "version": 3
   },
   "file_extension": ".py",
   "mimetype": "text/x-python",
   "name": "python",
   "nbconvert_exporter": "python",
   "pygments_lexer": "ipython3",
   "version": "3.7.9"
  }
 },
 "nbformat": 4,
 "nbformat_minor": 5
}
