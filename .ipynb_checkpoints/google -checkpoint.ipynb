{
 "cells": [
  {
   "cell_type": "code",
   "execution_count": 1,
   "id": "3f24efbc",
   "metadata": {},
   "outputs": [
    {
     "name": "stdout",
     "output_type": "stream",
     "text": [
      "Requirement already satisfied: pandas in e:\\python 3.7\\lib\\site-packages (1.3.5)\n",
      "Requirement already satisfied: numpy in e:\\python 3.7\\lib\\site-packages (1.21.6)\n",
      "Requirement already satisfied: scikit-learn in e:\\python 3.7\\lib\\site-packages (1.0.2)\n",
      "Requirement already satisfied: nltk in e:\\python 3.7\\lib\\site-packages (3.8.1)\n",
      "Requirement already satisfied: xgboost in e:\\python 3.7\\lib\\site-packages (1.6.2)\n",
      "Requirement already satisfied: tensorflow in e:\\python 3.7\\lib\\site-packages (2.11.0)\n",
      "Requirement already satisfied: flask in e:\\python 3.7\\lib\\site-packages (2.2.5)\n",
      "Requirement already satisfied: python-dateutil>=2.7.3 in e:\\python 3.7\\lib\\site-packages (from pandas) (2.9.0.post0)\n",
      "Requirement already satisfied: pytz>=2017.3 in e:\\python 3.7\\lib\\site-packages (from pandas) (2025.1)\n",
      "Requirement already satisfied: scipy>=1.1.0 in e:\\python 3.7\\lib\\site-packages (from scikit-learn) (1.7.3)\n",
      "Requirement already satisfied: joblib>=0.11 in e:\\python 3.7\\lib\\site-packages (from scikit-learn) (1.3.2)\n",
      "Requirement already satisfied: threadpoolctl>=2.0.0 in e:\\python 3.7\\lib\\site-packages (from scikit-learn) (3.1.0)\n",
      "Requirement already satisfied: click in e:\\python 3.7\\lib\\site-packages (from nltk) (8.1.8)\n",
      "Requirement already satisfied: regex>=2021.8.3 in e:\\python 3.7\\lib\\site-packages (from nltk) (2024.4.16)\n",
      "Requirement already satisfied: tqdm in e:\\python 3.7\\lib\\site-packages (from nltk) (4.67.1)\n",
      "Requirement already satisfied: tensorflow-intel==2.11.0 in e:\\python 3.7\\lib\\site-packages (from tensorflow) (2.11.0)\n",
      "Requirement already satisfied: absl-py>=1.0.0 in e:\\python 3.7\\lib\\site-packages (from tensorflow-intel==2.11.0->tensorflow) (2.1.0)\n",
      "Requirement already satisfied: astunparse>=1.6.0 in e:\\python 3.7\\lib\\site-packages (from tensorflow-intel==2.11.0->tensorflow) (1.6.3)\n",
      "Requirement already satisfied: flatbuffers>=2.0 in e:\\python 3.7\\lib\\site-packages (from tensorflow-intel==2.11.0->tensorflow) (25.2.10)\n",
      "Requirement already satisfied: gast<=0.4.0,>=0.2.1 in e:\\python 3.7\\lib\\site-packages (from tensorflow-intel==2.11.0->tensorflow) (0.4.0)\n",
      "Requirement already satisfied: google-pasta>=0.1.1 in e:\\python 3.7\\lib\\site-packages (from tensorflow-intel==2.11.0->tensorflow) (0.2.0)\n",
      "Requirement already satisfied: h5py>=2.9.0 in e:\\python 3.7\\lib\\site-packages (from tensorflow-intel==2.11.0->tensorflow) (3.8.0)\n",
      "Requirement already satisfied: libclang>=13.0.0 in e:\\python 3.7\\lib\\site-packages (from tensorflow-intel==2.11.0->tensorflow) (18.1.1)\n",
      "Requirement already satisfied: opt-einsum>=2.3.2 in e:\\python 3.7\\lib\\site-packages (from tensorflow-intel==2.11.0->tensorflow) (3.3.0)\n",
      "Requirement already satisfied: packaging in e:\\python 3.7\\lib\\site-packages (from tensorflow-intel==2.11.0->tensorflow) (24.0)\n",
      "Requirement already satisfied: protobuf<3.20,>=3.9.2 in e:\\python 3.7\\lib\\site-packages (from tensorflow-intel==2.11.0->tensorflow) (3.19.6)\n",
      "Requirement already satisfied: setuptools in e:\\python 3.7\\lib\\site-packages (from tensorflow-intel==2.11.0->tensorflow) (68.0.0)\n",
      "Requirement already satisfied: six>=1.12.0 in e:\\python 3.7\\lib\\site-packages (from tensorflow-intel==2.11.0->tensorflow) (1.17.0)\n",
      "Requirement already satisfied: termcolor>=1.1.0 in e:\\python 3.7\\lib\\site-packages (from tensorflow-intel==2.11.0->tensorflow) (2.3.0)\n",
      "Requirement already satisfied: typing-extensions>=3.6.6 in e:\\python 3.7\\lib\\site-packages (from tensorflow-intel==2.11.0->tensorflow) (4.7.1)\n",
      "Requirement already satisfied: wrapt>=1.11.0 in e:\\python 3.7\\lib\\site-packages (from tensorflow-intel==2.11.0->tensorflow) (1.16.0)\n",
      "Requirement already satisfied: grpcio<2.0,>=1.24.3 in e:\\python 3.7\\lib\\site-packages (from tensorflow-intel==2.11.0->tensorflow) (1.62.3)\n",
      "Requirement already satisfied: tensorboard<2.12,>=2.11 in e:\\python 3.7\\lib\\site-packages (from tensorflow-intel==2.11.0->tensorflow) (2.11.2)\n",
      "Requirement already satisfied: tensorflow-estimator<2.12,>=2.11.0 in e:\\python 3.7\\lib\\site-packages (from tensorflow-intel==2.11.0->tensorflow) (2.11.0)\n",
      "Requirement already satisfied: keras<2.12,>=2.11.0 in e:\\python 3.7\\lib\\site-packages (from tensorflow-intel==2.11.0->tensorflow) (2.11.0)\n",
      "Requirement already satisfied: tensorflow-io-gcs-filesystem>=0.23.1 in e:\\python 3.7\\lib\\site-packages (from tensorflow-intel==2.11.0->tensorflow) (0.31.0)\n",
      "Requirement already satisfied: Werkzeug>=2.2.2 in e:\\python 3.7\\lib\\site-packages (from flask) (2.2.3)\n",
      "Requirement already satisfied: Jinja2>=3.0 in e:\\python 3.7\\lib\\site-packages (from flask) (3.1.5)\n",
      "Requirement already satisfied: itsdangerous>=2.0 in e:\\python 3.7\\lib\\site-packages (from flask) (2.1.2)\n",
      "Requirement already satisfied: importlib-metadata>=3.6.0 in e:\\python 3.7\\lib\\site-packages (from flask) (6.7.0)\n",
      "Requirement already satisfied: colorama in e:\\python 3.7\\lib\\site-packages (from click->nltk) (0.4.6)\n",
      "Requirement already satisfied: zipp>=0.5 in e:\\python 3.7\\lib\\site-packages (from importlib-metadata>=3.6.0->flask) (3.15.0)\n",
      "Requirement already satisfied: MarkupSafe>=2.0 in e:\\python 3.7\\lib\\site-packages (from Jinja2>=3.0->flask) (2.1.5)\n",
      "Requirement already satisfied: wheel<1.0,>=0.23.0 in e:\\python 3.7\\lib\\site-packages (from astunparse>=1.6.0->tensorflow-intel==2.11.0->tensorflow) (0.42.0)\n",
      "Requirement already satisfied: google-auth<3,>=1.6.3 in e:\\python 3.7\\lib\\site-packages (from tensorboard<2.12,>=2.11->tensorflow-intel==2.11.0->tensorflow) (2.38.0)\n",
      "Requirement already satisfied: google-auth-oauthlib<0.5,>=0.4.1 in e:\\python 3.7\\lib\\site-packages (from tensorboard<2.12,>=2.11->tensorflow-intel==2.11.0->tensorflow) (0.4.6)\n",
      "Requirement already satisfied: markdown>=2.6.8 in e:\\python 3.7\\lib\\site-packages (from tensorboard<2.12,>=2.11->tensorflow-intel==2.11.0->tensorflow) (3.4.4)\n",
      "Requirement already satisfied: requests<3,>=2.21.0 in e:\\python 3.7\\lib\\site-packages (from tensorboard<2.12,>=2.11->tensorflow-intel==2.11.0->tensorflow) (2.31.0)\n",
      "Requirement already satisfied: tensorboard-data-server<0.7.0,>=0.6.0 in e:\\python 3.7\\lib\\site-packages (from tensorboard<2.12,>=2.11->tensorflow-intel==2.11.0->tensorflow) (0.6.1)\n",
      "Requirement already satisfied: tensorboard-plugin-wit>=1.6.0 in e:\\python 3.7\\lib\\site-packages (from tensorboard<2.12,>=2.11->tensorflow-intel==2.11.0->tensorflow) (1.8.1)\n",
      "Requirement already satisfied: cachetools<6.0,>=2.0.0 in e:\\python 3.7\\lib\\site-packages (from google-auth<3,>=1.6.3->tensorboard<2.12,>=2.11->tensorflow-intel==2.11.0->tensorflow) (5.5.2)\n",
      "Requirement already satisfied: pyasn1-modules>=0.2.1 in e:\\python 3.7\\lib\\site-packages (from google-auth<3,>=1.6.3->tensorboard<2.12,>=2.11->tensorflow-intel==2.11.0->tensorflow) (0.3.0)\n",
      "Requirement already satisfied: rsa<5,>=3.1.4 in e:\\python 3.7\\lib\\site-packages (from google-auth<3,>=1.6.3->tensorboard<2.12,>=2.11->tensorflow-intel==2.11.0->tensorflow) (4.9)\n",
      "Requirement already satisfied: requests-oauthlib>=0.7.0 in e:\\python 3.7\\lib\\site-packages (from google-auth-oauthlib<0.5,>=0.4.1->tensorboard<2.12,>=2.11->tensorflow-intel==2.11.0->tensorflow) (2.0.0)\n",
      "Requirement already satisfied: charset-normalizer<4,>=2 in e:\\python 3.7\\lib\\site-packages (from requests<3,>=2.21.0->tensorboard<2.12,>=2.11->tensorflow-intel==2.11.0->tensorflow) (3.4.1)\n",
      "Requirement already satisfied: idna<4,>=2.5 in e:\\python 3.7\\lib\\site-packages (from requests<3,>=2.21.0->tensorboard<2.12,>=2.11->tensorflow-intel==2.11.0->tensorflow) (3.10)\n",
      "Requirement already satisfied: urllib3<3,>=1.21.1 in e:\\python 3.7\\lib\\site-packages (from requests<3,>=2.21.0->tensorboard<2.12,>=2.11->tensorflow-intel==2.11.0->tensorflow) (2.0.7)\n",
      "Requirement already satisfied: certifi>=2017.4.17 in e:\\python 3.7\\lib\\site-packages (from requests<3,>=2.21.0->tensorboard<2.12,>=2.11->tensorflow-intel==2.11.0->tensorflow) (2025.1.31)\n",
      "Requirement already satisfied: pyasn1<0.6.0,>=0.4.6 in e:\\python 3.7\\lib\\site-packages (from pyasn1-modules>=0.2.1->google-auth<3,>=1.6.3->tensorboard<2.12,>=2.11->tensorflow-intel==2.11.0->tensorflow) (0.5.1)\n",
      "Requirement already satisfied: oauthlib>=3.0.0 in e:\\python 3.7\\lib\\site-packages (from requests-oauthlib>=0.7.0->google-auth-oauthlib<0.5,>=0.4.1->tensorboard<2.12,>=2.11->tensorflow-intel==2.11.0->tensorflow) (3.2.2)\n",
      "Note: you may need to restart the kernel to use updated packages.\n"
     ]
    },
    {
     "name": "stderr",
     "output_type": "stream",
     "text": [
      "WARNING: Ignoring invalid distribution -ip (e:\\python 3.7\\lib\\site-packages)\n",
      "WARNING: Ignoring invalid distribution -ip (e:\\python 3.7\\lib\\site-packages)\n"
     ]
    }
   ],
   "source": [
    "pip install pandas numpy scikit-learn nltk xgboost tensorflow flask\n"
   ]
  },
  {
   "cell_type": "code",
   "execution_count": 15,
   "id": "f3c6448a",
   "metadata": {},
   "outputs": [
    {
     "name": "stdout",
     "output_type": "stream",
     "text": [
      "<class 'pandas.core.frame.DataFrame'>\n",
      "RangeIndex: 1000 entries, 0 to 999\n",
      "Data columns (total 17 columns):\n",
      " #   Column                      Non-Null Count  Dtype \n",
      "---  ------                      --------------  ----- \n",
      " 0   Scam_Type                   1000 non-null   object\n",
      " 1   Scam_Description            1000 non-null   object\n",
      " 2   Medium_Used                 1000 non-null   object\n",
      " 3   Target_Actions              1000 non-null   object\n",
      " 4   Common_Phrases              1000 non-null   object\n",
      " 5   Threat_Emotional            1000 non-null   int64 \n",
      " 6   Threat_Financial            1000 non-null   int64 \n",
      " 7   Threat_Financial/Emotional  1000 non-null   int64 \n",
      " 8   Threat_Financial/Personal   1000 non-null   int64 \n",
      " 9   Threat_Legal                1000 non-null   int64 \n",
      " 10  Threat_Personal             1000 non-null   int64 \n",
      " 11  threat_type_encoded         1000 non-null   int64 \n",
      " 12  Threat_Type_1               1000 non-null   int64 \n",
      " 13  Threat_Type_2               1000 non-null   int64 \n",
      " 14  Threat_Type_3               1000 non-null   int64 \n",
      " 15  Threat_Type_4               1000 non-null   int64 \n",
      " 16  Threat_Type_5               1000 non-null   int64 \n",
      "dtypes: int64(12), object(5)\n",
      "memory usage: 132.9+ KB\n",
      "None\n"
     ]
    },
    {
     "data": {
      "text/html": [
       "<div>\n",
       "<style scoped>\n",
       "    .dataframe tbody tr th:only-of-type {\n",
       "        vertical-align: middle;\n",
       "    }\n",
       "\n",
       "    .dataframe tbody tr th {\n",
       "        vertical-align: top;\n",
       "    }\n",
       "\n",
       "    .dataframe thead th {\n",
       "        text-align: right;\n",
       "    }\n",
       "</style>\n",
       "<table border=\"1\" class=\"dataframe\">\n",
       "  <thead>\n",
       "    <tr style=\"text-align: right;\">\n",
       "      <th></th>\n",
       "      <th>Scam_Type</th>\n",
       "      <th>Scam_Description</th>\n",
       "      <th>Medium_Used</th>\n",
       "      <th>Target_Actions</th>\n",
       "      <th>Common_Phrases</th>\n",
       "      <th>Threat_Emotional</th>\n",
       "      <th>Threat_Financial</th>\n",
       "      <th>Threat_Financial/Emotional</th>\n",
       "      <th>Threat_Financial/Personal</th>\n",
       "      <th>Threat_Legal</th>\n",
       "      <th>Threat_Personal</th>\n",
       "      <th>threat_type_encoded</th>\n",
       "      <th>Threat_Type_1</th>\n",
       "      <th>Threat_Type_2</th>\n",
       "      <th>Threat_Type_3</th>\n",
       "      <th>Threat_Type_4</th>\n",
       "      <th>Threat_Type_5</th>\n",
       "    </tr>\n",
       "  </thead>\n",
       "  <tbody>\n",
       "    <tr>\n",
       "      <th>0</th>\n",
       "      <td>Lottery Scams</td>\n",
       "      <td>Asks for donations to fake causes or charities.</td>\n",
       "      <td>Dating Apps</td>\n",
       "      <td>Send money or gifts</td>\n",
       "      <td>device infected call us fix</td>\n",
       "      <td>1</td>\n",
       "      <td>0</td>\n",
       "      <td>0</td>\n",
       "      <td>0</td>\n",
       "      <td>0</td>\n",
       "      <td>0</td>\n",
       "      <td>0</td>\n",
       "      <td>0</td>\n",
       "      <td>0</td>\n",
       "      <td>0</td>\n",
       "      <td>0</td>\n",
       "      <td>0</td>\n",
       "    </tr>\n",
       "    <tr>\n",
       "      <th>1</th>\n",
       "      <td>Charity Scams</td>\n",
       "      <td>Asks for donations to fake causes or charities.</td>\n",
       "      <td>Pop-ups</td>\n",
       "      <td>Send money or gifts</td>\n",
       "      <td>charity drive donate</td>\n",
       "      <td>0</td>\n",
       "      <td>0</td>\n",
       "      <td>0</td>\n",
       "      <td>0</td>\n",
       "      <td>1</td>\n",
       "      <td>0</td>\n",
       "      <td>4</td>\n",
       "      <td>0</td>\n",
       "      <td>0</td>\n",
       "      <td>0</td>\n",
       "      <td>1</td>\n",
       "      <td>0</td>\n",
       "    </tr>\n",
       "    <tr>\n",
       "      <th>2</th>\n",
       "      <td>Tech Support Scams</td>\n",
       "      <td>Claims the victim's device is infected with ma...</td>\n",
       "      <td>Dating Apps</td>\n",
       "      <td>Donate to fake charity</td>\n",
       "      <td>youve claim prize paying fee</td>\n",
       "      <td>0</td>\n",
       "      <td>0</td>\n",
       "      <td>0</td>\n",
       "      <td>1</td>\n",
       "      <td>0</td>\n",
       "      <td>0</td>\n",
       "      <td>3</td>\n",
       "      <td>0</td>\n",
       "      <td>0</td>\n",
       "      <td>1</td>\n",
       "      <td>0</td>\n",
       "      <td>0</td>\n",
       "    </tr>\n",
       "    <tr>\n",
       "      <th>3</th>\n",
       "      <td>Phishing Scams</td>\n",
       "      <td>Claims the victim has won a prize and asks for...</td>\n",
       "      <td>Pop-ups</td>\n",
       "      <td>Donate to fake charity</td>\n",
       "      <td>charity drive donate</td>\n",
       "      <td>0</td>\n",
       "      <td>0</td>\n",
       "      <td>1</td>\n",
       "      <td>0</td>\n",
       "      <td>0</td>\n",
       "      <td>0</td>\n",
       "      <td>2</td>\n",
       "      <td>0</td>\n",
       "      <td>1</td>\n",
       "      <td>0</td>\n",
       "      <td>0</td>\n",
       "      <td>0</td>\n",
       "    </tr>\n",
       "    <tr>\n",
       "      <th>4</th>\n",
       "      <td>Fake Law Enforcement Scams</td>\n",
       "      <td>Claims the victim has won a prize and asks for...</td>\n",
       "      <td>Phone</td>\n",
       "      <td>Make payment to avoid legal trouble</td>\n",
       "      <td>youve claim prize paying fee</td>\n",
       "      <td>0</td>\n",
       "      <td>1</td>\n",
       "      <td>0</td>\n",
       "      <td>0</td>\n",
       "      <td>0</td>\n",
       "      <td>0</td>\n",
       "      <td>1</td>\n",
       "      <td>1</td>\n",
       "      <td>0</td>\n",
       "      <td>0</td>\n",
       "      <td>0</td>\n",
       "      <td>0</td>\n",
       "    </tr>\n",
       "  </tbody>\n",
       "</table>\n",
       "</div>"
      ],
      "text/plain": [
       "                    Scam_Type  \\\n",
       "0               Lottery Scams   \n",
       "1               Charity Scams   \n",
       "2          Tech Support Scams   \n",
       "3              Phishing Scams   \n",
       "4  Fake Law Enforcement Scams   \n",
       "\n",
       "                                    Scam_Description  Medium_Used  \\\n",
       "0    Asks for donations to fake causes or charities.  Dating Apps   \n",
       "1    Asks for donations to fake causes or charities.      Pop-ups   \n",
       "2  Claims the victim's device is infected with ma...  Dating Apps   \n",
       "3  Claims the victim has won a prize and asks for...      Pop-ups   \n",
       "4  Claims the victim has won a prize and asks for...        Phone   \n",
       "\n",
       "                        Target_Actions                Common_Phrases  \\\n",
       "0                  Send money or gifts   device infected call us fix   \n",
       "1                  Send money or gifts          charity drive donate   \n",
       "2               Donate to fake charity  youve claim prize paying fee   \n",
       "3               Donate to fake charity          charity drive donate   \n",
       "4  Make payment to avoid legal trouble  youve claim prize paying fee   \n",
       "\n",
       "   Threat_Emotional  Threat_Financial  Threat_Financial/Emotional  \\\n",
       "0                 1                 0                           0   \n",
       "1                 0                 0                           0   \n",
       "2                 0                 0                           0   \n",
       "3                 0                 0                           1   \n",
       "4                 0                 1                           0   \n",
       "\n",
       "   Threat_Financial/Personal  Threat_Legal  Threat_Personal  \\\n",
       "0                          0             0                0   \n",
       "1                          0             1                0   \n",
       "2                          1             0                0   \n",
       "3                          0             0                0   \n",
       "4                          0             0                0   \n",
       "\n",
       "   threat_type_encoded  Threat_Type_1  Threat_Type_2  Threat_Type_3  \\\n",
       "0                    0              0              0              0   \n",
       "1                    4              0              0              0   \n",
       "2                    3              0              0              1   \n",
       "3                    2              0              1              0   \n",
       "4                    1              1              0              0   \n",
       "\n",
       "   Threat_Type_4  Threat_Type_5  \n",
       "0              0              0  \n",
       "1              1              0  \n",
       "2              0              0  \n",
       "3              0              0  \n",
       "4              0              0  "
      ]
     },
     "execution_count": 15,
     "metadata": {},
     "output_type": "execute_result"
    }
   ],
   "source": [
    "import pandas as pd\n",
    "\n",
    "# Load the dataset\n",
    "df = pd.read_csv(\"preprocessed_data.csv\")\n",
    "\n",
    "# Display basic information and first few rows\n",
    "print(df.info())  # Check dataset structure\n",
    "df.head()  # Show first 5 rows\n"
   ]
  },
  {
   "cell_type": "code",
   "execution_count": 16,
   "id": "97839028",
   "metadata": {},
   "outputs": [
    {
     "name": "stdout",
     "output_type": "stream",
     "text": [
      "Training data size: (800, 27)\n",
      "Testing data size: (200, 27)\n"
     ]
    }
   ],
   "source": [
    "from sklearn.preprocessing import LabelEncoder, OneHotEncoder\n",
    "from tensorflow.keras.preprocessing.text import Tokenizer\n",
    "from tensorflow.keras.preprocessing.sequence import pad_sequences\n",
    "from sklearn.model_selection import train_test_split\n",
    "\n",
    "# Encode 'Scam_Type' (Target variable)\n",
    "label_encoder = LabelEncoder()\n",
    "df['Scam_Type_Encoded'] = label_encoder.fit_transform(df['Scam_Type'])\n",
    "\n",
    "# One-Hot Encoding for 'Medium_Used' and 'Target_Actions'\n",
    "df = pd.get_dummies(df, columns=['Medium_Used', 'Target_Actions'], drop_first=True)\n",
    "\n",
    "# Tokenization for NLP-based columns\n",
    "tokenizer = Tokenizer(num_words=5000, oov_token=\"<OOV>\")\n",
    "tokenizer.fit_on_texts(df['Scam_Description'] + df['Common_Phrases'])\n",
    "\n",
    "# Convert text to sequences and pad them\n",
    "df['Scam_Description_Seq'] = pad_sequences(tokenizer.texts_to_sequences(df['Scam_Description']), maxlen=50).tolist()\n",
    "df['Common_Phrases_Seq'] = pad_sequences(tokenizer.texts_to_sequences(df['Common_Phrases']), maxlen=50).tolist()\n",
    "\n",
    "# Train-Test Split\n",
    "X = df.drop(['Scam_Type', 'Scam_Description', 'Common_Phrases', 'Scam_Type_Encoded'], axis=1)\n",
    "y = df['Scam_Type_Encoded']\n",
    "\n",
    "X_train, X_test, y_train, y_test = train_test_split(X, y, test_size=0.2, random_state=42)\n",
    "\n",
    "print(f\"Training data size: {X_train.shape}\")\n",
    "print(f\"Testing data size: {X_test.shape}\")\n"
   ]
  },
  {
   "cell_type": "code",
   "execution_count": 4,
   "id": "97d248d2",
   "metadata": {},
   "outputs": [
    {
     "name": "stdout",
     "output_type": "stream",
     "text": [
      "Threat_Emotional                                       int64\n",
      "Threat_Financial                                       int64\n",
      "Threat_Financial/Emotional                             int64\n",
      "Threat_Financial/Personal                              int64\n",
      "Threat_Legal                                           int64\n",
      "Threat_Personal                                        int64\n",
      "threat_type_encoded                                    int64\n",
      "Threat_Type_1                                          int64\n",
      "Threat_Type_2                                          int64\n",
      "Threat_Type_3                                          int64\n",
      "Threat_Type_4                                          int64\n",
      "Threat_Type_5                                          int64\n",
      "Medium_Used_Email                                      uint8\n",
      "Medium_Used_Phone                                      uint8\n",
      "Medium_Used_Pop-ups                                    uint8\n",
      "Medium_Used_SMS                                        uint8\n",
      "Medium_Used_Social Media                               uint8\n",
      "Target_Actions_Donate to fake charity                  uint8\n",
      "Target_Actions_Invest in fake opportunity              uint8\n",
      "Target_Actions_Make payment to avoid legal trouble     uint8\n",
      "Target_Actions_Pay fine to avoid arrest                uint8\n",
      "Target_Actions_Pay for fake services                   uint8\n",
      "Target_Actions_Pay ransom                              uint8\n",
      "Target_Actions_Provide personal information            uint8\n",
      "Target_Actions_Send money or gifts                     uint8\n",
      "Scam_Description_Seq                                  object\n",
      "Common_Phrases_Seq                                    object\n",
      "dtype: object\n"
     ]
    }
   ],
   "source": [
    "print(X_train.dtypes)\n"
   ]
  },
  {
   "cell_type": "code",
   "execution_count": 17,
   "id": "fea092ec",
   "metadata": {},
   "outputs": [
    {
     "name": "stdout",
     "output_type": "stream",
     "text": [
      "                                  Scam_Description_Seq  \\\n",
      "29   [0, 0, 0, 0, 0, 0, 0, 0, 0, 0, 0, 0, 0, 0, 0, ...   \n",
      "535  [0, 0, 0, 0, 0, 0, 0, 0, 0, 0, 0, 0, 0, 0, 0, ...   \n",
      "695  [0, 0, 0, 0, 0, 0, 0, 0, 0, 0, 0, 0, 0, 0, 0, ...   \n",
      "557  [0, 0, 0, 0, 0, 0, 0, 0, 0, 0, 0, 0, 0, 0, 0, ...   \n",
      "836  [0, 0, 0, 0, 0, 0, 0, 0, 0, 0, 0, 0, 0, 0, 0, ...   \n",
      "596  [0, 0, 0, 0, 0, 0, 0, 0, 0, 0, 0, 0, 0, 0, 0, ...   \n",
      "165  [0, 0, 0, 0, 0, 0, 0, 0, 0, 0, 0, 0, 0, 0, 0, ...   \n",
      "918  [0, 0, 0, 0, 0, 0, 0, 0, 0, 0, 0, 0, 0, 0, 0, ...   \n",
      "495  [0, 0, 0, 0, 0, 0, 0, 0, 0, 0, 0, 0, 0, 0, 0, ...   \n",
      "824  [0, 0, 0, 0, 0, 0, 0, 0, 0, 0, 0, 0, 0, 0, 0, ...   \n",
      "\n",
      "                                    Common_Phrases_Seq  \n",
      "29   [0, 0, 0, 0, 0, 0, 0, 0, 0, 0, 0, 0, 0, 0, 0, ...  \n",
      "535  [0, 0, 0, 0, 0, 0, 0, 0, 0, 0, 0, 0, 0, 0, 0, ...  \n",
      "695  [0, 0, 0, 0, 0, 0, 0, 0, 0, 0, 0, 0, 0, 0, 0, ...  \n",
      "557  [0, 0, 0, 0, 0, 0, 0, 0, 0, 0, 0, 0, 0, 0, 0, ...  \n",
      "836  [0, 0, 0, 0, 0, 0, 0, 0, 0, 0, 0, 0, 0, 0, 0, ...  \n",
      "596  [0, 0, 0, 0, 0, 0, 0, 0, 0, 0, 0, 0, 0, 0, 0, ...  \n",
      "165  [0, 0, 0, 0, 0, 0, 0, 0, 0, 0, 0, 0, 0, 0, 0, ...  \n",
      "918  [0, 0, 0, 0, 0, 0, 0, 0, 0, 0, 0, 0, 0, 0, 0, ...  \n",
      "495  [0, 0, 0, 0, 0, 0, 0, 0, 0, 0, 0, 0, 0, 0, 0, ...  \n",
      "824  [0, 0, 0, 0, 0, 0, 0, 0, 0, 0, 0, 0, 0, 0, 0, ...  \n"
     ]
    }
   ],
   "source": [
    "print(X_train[['Scam_Description_Seq', 'Common_Phrases_Seq']].head(10))\n"
   ]
  },
  {
   "cell_type": "code",
   "execution_count": 18,
   "id": "11299353",
   "metadata": {},
   "outputs": [],
   "source": [
    "import numpy as np\n",
    "X_train['Scam_Description_Seq'] = X_train['Scam_Description_Seq'].apply(lambda x: np.mean(x))\n",
    "X_train['Common_Phrases_Seq'] = X_train['Common_Phrases_Seq'].apply(lambda x: np.mean(x))\n",
    "\n",
    "X_test['Scam_Description_Seq'] = X_test['Scam_Description_Seq'].apply(lambda x: np.mean(x))\n",
    "X_test['Common_Phrases_Seq'] = X_test['Common_Phrases_Seq'].apply(lambda x: np.mean(x))\n"
   ]
  },
  {
   "cell_type": "code",
   "execution_count": 19,
   "id": "f3c84729",
   "metadata": {},
   "outputs": [],
   "source": [
    "X_train['Scam_Description_Seq'] = X_train['Scam_Description_Seq'].apply(lambda x: np.sum(x))\n",
    "X_train['Common_Phrases_Seq'] = X_train['Common_Phrases_Seq'].apply(lambda x: np.sum(x))\n"
   ]
  },
  {
   "cell_type": "code",
   "execution_count": 20,
   "id": "c0087a51",
   "metadata": {},
   "outputs": [
    {
     "name": "stdout",
     "output_type": "stream",
     "text": [
      "Top 10 Important Features:\n",
      "Scam_Description_Seq: 0.2300\n",
      "Common_Phrases_Seq: 0.2281\n",
      "Medium_Used_Pop-ups: 0.0415\n",
      "Medium_Used_Email: 0.0388\n",
      "Medium_Used_SMS: 0.0386\n",
      "Medium_Used_Phone: 0.0365\n",
      "Medium_Used_Social Media: 0.0353\n",
      "Target_Actions_Pay ransom: 0.0318\n",
      "Target_Actions_Send money or gifts: 0.0317\n",
      "Target_Actions_Provide personal information: 0.0308\n"
     ]
    }
   ],
   "source": [
    "from sklearn.ensemble import RandomForestClassifier\n",
    "import numpy as np\n",
    "\n",
    "# Train a basic Random Forest model to check feature importance\n",
    "rf = RandomForestClassifier(n_estimators=100, random_state=42)\n",
    "rf.fit(X_train, y_train)\n",
    "\n",
    "# Get feature importances\n",
    "feature_importances = rf.feature_importances_\n",
    "\n",
    "# Convert to a dictionary\n",
    "feature_dict = {X_train.columns[i]: feature_importances[i] for i in range(len(feature_importances))}\n",
    "\n",
    "# Sort by importance\n",
    "sorted_features = sorted(feature_dict.items(), key=lambda x: x[1], reverse=True)\n",
    "\n",
    "# Display top 10 important features\n",
    "print(\"Top 10 Important Features:\")\n",
    "for feature, importance in sorted_features[:10]:\n",
    "    print(f\"{feature}: {importance:.4f}\")\n"
   ]
  },
  {
   "cell_type": "code",
   "execution_count": 9,
   "id": "47dc0c1c",
   "metadata": {},
   "outputs": [
    {
     "data": {
      "image/png": "[encoded data removed]",
      "text/plain": [
       "<Figure size 1000x600 with 2 Axes>"
      ]
     },
     "metadata": {},
     "output_type": "display_data"
    }
   ],
   "source": [
    "import pandas as pd\n",
    "import seaborn as sns\n",
    "import matplotlib.pyplot as plt\n",
    "\n",
    "# Assuming df is your dataset\n",
    "top_features = [\n",
    "    \"Scam_Description_Seq\", \"Common_Phrases_Seq\", \"Medium_Used_Pop-ups\",\n",
    "    \"Medium_Used_Email\", \"Medium_Used_SMS\", \"Medium_Used_Phone\",\n",
    "    \"Medium_Used_Social Media\", \"Target_Actions_Pay ransom\",\n",
    "    \"Target_Actions_Send money or gifts\", \"Target_Actions_Provide personal information\"\n",
    "]\n",
    "\n",
    "# Compute correlation matrix\n",
    "corr_matrix = df[top_features].corr()\n",
    "\n",
    "# Plot heatmap\n",
    "plt.figure(figsize=(10, 6))\n",
    "sns.heatmap(corr_matrix, annot=True, cmap=\"coolwarm\", fmt=\".2f\")\n",
    "plt.title(\"Feature Correlation Heatmap\")\n",
    "plt.show()\n"
   ]
  },
  {
   "cell_type": "code",
   "execution_count": 21,
   "id": "497f75d0",
   "metadata": {},
   "outputs": [],
   "source": [
    "from sklearn.preprocessing import LabelEncoder\n",
    "\n",
    "# Encode the target variable y\n",
    "label_encoder = LabelEncoder()\n",
    "y = label_encoder.fit_transform(y)  # Converts text labels to numerical labels\n"
   ]
  },
  {
   "cell_type": "code",
   "execution_count": 22,
   "id": "499d6dd7",
   "metadata": {},
   "outputs": [
    {
     "name": "stdout",
     "output_type": "stream",
     "text": [
      "Selected Features: Index(['Scam_Description', 'Medium_Used', 'Target_Actions', 'Common_Phrases',\n",
      "       'Threat_Emotional', 'Threat_Financial/Personal', 'threat_type_encoded',\n",
      "       'Threat_Type_1', 'Threat_Type_2', 'Threat_Type_4'],\n",
      "      dtype='object')\n",
      "RandomForest Accuracy: 0.14\n",
      "XGBoost Accuracy: 0.13\n",
      "Sample Predictions: ['Tech Support Scams' 'Fake Law Enforcement Scams' 'Tech Support Scams'\n",
      " 'Extortion Scams' 'Lottery Scams']\n"
     ]
    }
   ],
   "source": [
    "import pandas as pd\n",
    "import numpy as np\n",
    "from sklearn.model_selection import train_test_split\n",
    "from sklearn.ensemble import RandomForestClassifier\n",
    "from xgboost import XGBClassifier\n",
    "from sklearn.feature_selection import RFE\n",
    "from sklearn.preprocessing import LabelEncoder\n",
    "from sklearn.metrics import accuracy_score\n",
    "\n",
    "# Load dataset\n",
    "df = pd.read_csv('preprocessed_data.csv')\n",
    "\n",
    "# Set the correct target column name\n",
    "target = 'Scam_Type'  # Change to your actual target column\n",
    "X = df.drop(columns=[target])\n",
    "y = df[target]\n",
    "\n",
    "# Encode categorical features in X\n",
    "categorical_cols = X.select_dtypes(include=['object']).columns\n",
    "label_encoders = {}\n",
    "for col in categorical_cols:\n",
    "    le = LabelEncoder()\n",
    "    X[col] = le.fit_transform(X[col])  # Convert text columns to numbers\n",
    "    label_encoders[col] = le  # Store for inverse transformation later\n",
    "\n",
    "# Encode the target variable y\n",
    "label_encoder = LabelEncoder()\n",
    "y = label_encoder.fit_transform(y)  # Convert text labels to numbers\n",
    "\n",
    "# Split data into training and testing sets\n",
    "X_train, X_test, y_train, y_test = train_test_split(X, y, test_size=0.2, random_state=42)\n",
    "\n",
    "# Feature Selection using RFE with RandomForest\n",
    "rf = RandomForestClassifier(n_estimators=100, random_state=42)\n",
    "rfe = RFE(estimator=rf, n_features_to_select=10)\n",
    "rfe.fit(X_train, y_train)\n",
    "\n",
    "# Selecting the top features\n",
    "selected_features = X.columns[rfe.support_]\n",
    "print(\"Selected Features:\", selected_features)\n",
    "\n",
    "# Training models with selected features\n",
    "X_train_selected = X_train[selected_features]\n",
    "X_test_selected = X_test[selected_features]\n",
    "\n",
    "# Train RandomForest\n",
    "rf_model = RandomForestClassifier(n_estimators=100, random_state=42)\n",
    "rf_model.fit(X_train_selected, y_train)\n",
    "y_pred_rf = rf_model.predict(X_test_selected)\n",
    "rf_acc = accuracy_score(y_test, y_pred_rf)\n",
    "print(\"RandomForest Accuracy:\", rf_acc)\n",
    "\n",
    "# Train XGBoost\n",
    "xgb_model = XGBClassifier(use_label_encoder=False, eval_metric='logloss')\n",
    "xgb_model.fit(X_train_selected, y_train)\n",
    "y_pred_xgb = xgb_model.predict(X_test_selected)\n",
    "xgb_acc = accuracy_score(y_test, y_pred_xgb)\n",
    "print(\"XGBoost Accuracy:\", xgb_acc)\n",
    "\n",
    "# Decode Predictions if needed\n",
    "y_pred_labels = label_encoder.inverse_transform(y_pred_xgb)  # Convert back to text labels\n",
    "print(\"Sample Predictions:\", y_pred_labels[:5])\n"
   ]
  },
  {
   "cell_type": "code",
   "execution_count": 25,
   "id": "a1d69048",
   "metadata": {},
   "outputs": [
    {
     "name": "stdout",
     "output_type": "stream",
     "text": [
      "Index(['Scam_Type', 'Scam_Description', 'Medium_Used', 'Target_Actions',\n",
      "       'Common_Phrases', 'Threat_Emotional', 'Threat_Financial',\n",
      "       'Threat_Financial/Emotional', 'Threat_Financial/Personal',\n",
      "       'Threat_Legal', 'Threat_Personal', 'threat_type_encoded',\n",
      "       'Threat_Type_1', 'Threat_Type_2', 'Threat_Type_3', 'Threat_Type_4',\n",
      "       'Threat_Type_5'],\n",
      "      dtype='object')\n"
     ]
    }
   ],
   "source": [
    "print(df.columns)\n"
   ]
  },
  {
   "cell_type": "code",
   "execution_count": 24,
   "id": "3b1d40da",
   "metadata": {},
   "outputs": [],
   "source": [
    "target = 'Scam_Type'  # Replace with actual target column\n",
    "X = df.drop(columns=[target])\n",
    "y = df[target]\n"
   ]
  },
  {
   "cell_type": "code",
   "execution_count": 14,
   "id": "46e884f1",
   "metadata": {},
   "outputs": [
    {
     "name": "stdout",
     "output_type": "stream",
     "text": [
      "                                    Scam_Description  Medium_Used  \\\n",
      "0    Asks for donations to fake causes or charities.  Dating Apps   \n",
      "1    Asks for donations to fake causes or charities.      Pop-ups   \n",
      "2  Claims the victim's device is infected with ma...  Dating Apps   \n",
      "3  Claims the victim has won a prize and asks for...      Pop-ups   \n",
      "4  Claims the victim has won a prize and asks for...        Phone   \n",
      "\n",
      "                        Target_Actions                Common_Phrases  \\\n",
      "0                  Send money or gifts   device infected call us fix   \n",
      "1                  Send money or gifts          charity drive donate   \n",
      "2               Donate to fake charity  youve claim prize paying fee   \n",
      "3               Donate to fake charity          charity drive donate   \n",
      "4  Make payment to avoid legal trouble  youve claim prize paying fee   \n",
      "\n",
      "   Threat_Emotional  Threat_Financial  Threat_Financial/Emotional  \\\n",
      "0                 1                 0                           0   \n",
      "1                 0                 0                           0   \n",
      "2                 0                 0                           0   \n",
      "3                 0                 0                           1   \n",
      "4                 0                 1                           0   \n",
      "\n",
      "   Threat_Financial/Personal  Threat_Legal  Threat_Personal  \\\n",
      "0                          0             0                0   \n",
      "1                          0             1                0   \n",
      "2                          1             0                0   \n",
      "3                          0             0                0   \n",
      "4                          0             0                0   \n",
      "\n",
      "   threat_type_encoded  Threat_Type_1  Threat_Type_2  Threat_Type_3  \\\n",
      "0                    0              0              0              0   \n",
      "1                    4              0              0              0   \n",
      "2                    3              0              0              1   \n",
      "3                    2              0              1              0   \n",
      "4                    1              1              0              0   \n",
      "\n",
      "   Threat_Type_4  Threat_Type_5  \n",
      "0              0              0  \n",
      "1              1              0  \n",
      "2              0              0  \n",
      "3              0              0  \n",
      "4              0              0  \n",
      "0                 Lottery Scams\n",
      "1                 Charity Scams\n",
      "2            Tech Support Scams\n",
      "3                Phishing Scams\n",
      "4    Fake Law Enforcement Scams\n",
      "Name: Scam_Type, dtype: object\n"
     ]
    }
   ],
   "source": [
    "print(X.head())  # Verify independent variables\n",
    "print(y.head())  # Verify target variable\n"
   ]
  },
  {
   "cell_type": "code",
   "execution_count": 26,
   "id": "d3644973",
   "metadata": {},
   "outputs": [
    {
     "name": "stdout",
     "output_type": "stream",
     "text": [
      "Index(['Scam_Type', 'Scam_Description', 'Medium_Used', 'Target_Actions',\n",
      "       'Common_Phrases', 'Threat_Emotional', 'Threat_Financial',\n",
      "       'Threat_Financial/Emotional', 'Threat_Financial/Personal',\n",
      "       'Threat_Legal', 'Threat_Personal', 'threat_type_encoded',\n",
      "       'Threat_Type_1', 'Threat_Type_2', 'Threat_Type_3', 'Threat_Type_4',\n",
      "       'Threat_Type_5'],\n",
      "      dtype='object')\n"
     ]
    }
   ],
   "source": [
    "print(df.columns)\n"
   ]
  },
  {
   "cell_type": "code",
   "execution_count": 27,
   "id": "ce566c1e",
   "metadata": {},
   "outputs": [
    {
     "name": "stdout",
     "output_type": "stream",
     "text": [
      "                                    Scam_Description  Medium_Used  \\\n",
      "0    Asks for donations to fake causes or charities.  Dating Apps   \n",
      "1    Asks for donations to fake causes or charities.      Pop-ups   \n",
      "2  Claims the victim's device is infected with ma...  Dating Apps   \n",
      "3  Claims the victim has won a prize and asks for...      Pop-ups   \n",
      "4  Claims the victim has won a prize and asks for...        Phone   \n",
      "\n",
      "                        Target_Actions                Common_Phrases  \\\n",
      "0                  Send money or gifts   device infected call us fix   \n",
      "1                  Send money or gifts          charity drive donate   \n",
      "2               Donate to fake charity  youve claim prize paying fee   \n",
      "3               Donate to fake charity          charity drive donate   \n",
      "4  Make payment to avoid legal trouble  youve claim prize paying fee   \n",
      "\n",
      "   Threat_Emotional  Threat_Financial  Threat_Financial/Emotional  \\\n",
      "0                 1                 0                           0   \n",
      "1                 0                 0                           0   \n",
      "2                 0                 0                           0   \n",
      "3                 0                 0                           1   \n",
      "4                 0                 1                           0   \n",
      "\n",
      "   Threat_Financial/Personal  Threat_Legal  Threat_Personal  \\\n",
      "0                          0             0                0   \n",
      "1                          0             1                0   \n",
      "2                          1             0                0   \n",
      "3                          0             0                0   \n",
      "4                          0             0                0   \n",
      "\n",
      "   threat_type_encoded  Threat_Type_1  Threat_Type_2  Threat_Type_3  \\\n",
      "0                    0              0              0              0   \n",
      "1                    4              0              0              0   \n",
      "2                    3              0              0              1   \n",
      "3                    2              0              1              0   \n",
      "4                    1              1              0              0   \n",
      "\n",
      "   Threat_Type_4  Threat_Type_5  \n",
      "0              0              0  \n",
      "1              1              0  \n",
      "2              0              0  \n",
      "3              0              0  \n",
      "4              0              0  \n"
     ]
    }
   ],
   "source": [
    "X = df.drop(columns=['Scam_Type'])\n",
    "print(X.head())  # Verify if `Scam_Type` is removed\n"
   ]
  },
  {
   "cell_type": "code",
   "execution_count": 28,
   "id": "90db958d",
   "metadata": {},
   "outputs": [
    {
     "name": "stdout",
     "output_type": "stream",
     "text": [
      "0                 Lottery Scams\n",
      "1                 Charity Scams\n",
      "2            Tech Support Scams\n",
      "3                Phishing Scams\n",
      "4    Fake Law Enforcement Scams\n",
      "Name: Scam_Type, dtype: object\n"
     ]
    }
   ],
   "source": [
    "y = df['Scam_Type']\n",
    "print(y.head())  # Verif`"
   ]
  },
  {
   "cell_type": "code",
   "execution_count": 29,
   "id": "62215d43",
   "metadata": {},
   "outputs": [
    {
     "data": {
      "image/png": "[encoded data removed]",
      "text/plain": [
       "<Figure size 1000x600 with 1 Axes>"
      ]
     },
     "metadata": {},
     "output_type": "display_data"
    }
   ],
   "source": [
    "import matplotlib.pyplot as plt\n",
    "import seaborn as sns\n",
    "\n",
    "# Feature Importance (RandomForest)\n",
    "importances = rf_model.feature_importances_\n",
    "feature_names = X_train_selected.columns\n",
    "\n",
    "# Sort and plot\n",
    "sorted_idx = np.argsort(importances)\n",
    "plt.figure(figsize=(10, 6))\n",
    "sns.barplot(x=importances[sorted_idx], y=feature_names[sorted_idx], palette=\"viridis\")\n",
    "plt.xlabel(\"Feature Importance Score\")\n",
    "plt.ylabel(\"Features\")\n",
    "plt.title(\"RandomForest Feature Importance\")\n",
    "plt.show()\n"
   ]
  },
  {
   "cell_type": "code",
   "execution_count": 30,
   "id": "2223fe9e",
   "metadata": {},
   "outputs": [
    {
     "name": "stdout",
     "output_type": "stream",
     "text": [
      "Predicted Scam Type: [0]\n"
     ]
    }
   ],
   "source": [
    "from sklearn.preprocessing import LabelEncoder\n",
    "\n",
    "# Encode categorical variables (Assuming you already did this during training)\n",
    "label_encoders = {}  # Store label encoders if needed for future use\n",
    "categorical_columns = ['Scam_Description', 'Medium_Used', 'Target_Actions', 'Common_Phrases']\n",
    "\n",
    "for col in categorical_columns:\n",
    "    le = LabelEncoder()\n",
    "    sample_data[col] = le.fit_transform(sample_data[col])  # Use the same encoding as training\n",
    "    label_encoders[col] = le  # Store for future use\n",
    "\n",
    "# Predict\n",
    "predicted_scam = xgb_model.predict(sample_data)\n",
    "print(\"Predicted Scam Type:\", predicted_scam)\n"
   ]
  },
  {
   "cell_type": "code",
   "execution_count": 31,
   "id": "4ff75f96",
   "metadata": {},
   "outputs": [
    {
     "name": "stdout",
     "output_type": "stream",
     "text": [
      "Predicted Scam Type: [0]\n"
     ]
    }
   ],
   "source": [
    "# Convert categorical columns using one-hot encoding\n",
    "sample_data = pd.get_dummies(sample_data, columns=categorical_columns)\n",
    "\n",
    "# Align with training data (in case some columns are missing)\n",
    "sample_data = sample_data.reindex(columns=X_train_selected.columns, fill_value=0)\n",
    "\n",
    "# Predict\n",
    "predicted_scam = xgb_model.predict(sample_data)\n",
    "print(\"Predicted Scam Type:\", predicted_scam)\n"
   ]
  },
  {
   "cell_type": "code",
   "execution_count": 32,
   "id": "b18953cd",
   "metadata": {},
   "outputs": [
    {
     "name": "stdout",
     "output_type": "stream",
     "text": [
      "Predicted Scam Type: [0]\n"
     ]
    }
   ],
   "source": [
    "from sklearn.preprocessing import LabelEncoder\n",
    "\n",
    "# Initialize label encoders\n",
    "label_encoders = {}\n",
    "\n",
    "# Encode categorical columns\n",
    "for col in ['Scam_Description', 'Medium_Used', 'Target_Actions', 'Common_Phrases']:\n",
    "    label_encoders[col] = LabelEncoder()\n",
    "    sample_data[col] = label_encoders[col].fit_transform(sample_data[col])\n",
    "\n",
    "# Ensure feature alignment\n",
    "sample_data = sample_data[X_train_selected.columns]\n",
    "\n",
    "# Predict\n",
    "predicted_scam = xgb_model.predict(sample_data)\n",
    "print(\"Predicted Scam Type:\", predicted_scam)\n"
   ]
  },
  {
   "cell_type": "code",
   "execution_count": 33,
   "id": "a12f6ff5",
   "metadata": {},
   "outputs": [
    {
     "name": "stdout",
     "output_type": "stream",
     "text": [
      "Predicted Scam Type: [0]\n"
     ]
    }
   ],
   "source": [
    "from sklearn.preprocessing import LabelEncoder\n",
    "\n",
    "# Encode categorical features\n",
    "encoder = LabelEncoder()\n",
    "\n",
    "sample_data = pd.DataFrame({\n",
    "    'Scam_Description': ['hi i am sandeep'],\n",
    "    'Medium_Used': ['Chat'],\n",
    "    'Target_Actions': ['None'],\n",
    "    'Common_Phrases': ['Have a great day!'],\n",
    "    'Threat_Emotional': [0],\n",
    "    'Threat_Financial/Personal': [0],\n",
    "    'threat_type_encoded': [0],  # Placeholder\n",
    "    'Threat_Type_1': [0],\n",
    "    'Threat_Type_2': [0],\n",
    "    'Threat_Type_4': [0]\n",
    "})\n",
    "\n",
    "# Ensure categorical columns are transformed\n",
    "for col in ['Scam_Description', 'Medium_Used', 'Target_Actions', 'Common_Phrases']:\n",
    "    sample_data[col] = encoder.fit_transform(sample_data[col])\n",
    "\n",
    "# Ensure feature alignment with the model\n",
    "sample_data = sample_data[X_train_selected.columns]\n",
    "\n",
    "# Predict\n",
    "predicted_scam = xgb_model.predict(sample_data)\n",
    "print(\"Predicted Scam Type:\", predicted_scam)\n"
   ]
  },
  {
   "cell_type": "code",
   "execution_count": 34,
   "id": "9aa76187",
   "metadata": {},
   "outputs": [
    {
     "name": "stdout",
     "output_type": "stream",
     "text": [
      "Predicted Scam Type: [0]\n"
     ]
    }
   ],
   "source": [
    "import pandas as pd\n",
    "from sklearn.preprocessing import LabelEncoder\n",
    "\n",
    "# Define categorical columns that need encoding\n",
    "categorical_cols = ['Scam_Description', 'Medium_Used', 'Target_Actions', 'Common_Phrases']\n",
    "\n",
    "# Load the encoder if it was used during training\n",
    "encoder = LabelEncoder()\n",
    "\n",
    "# Create sample input data (Replace values with real test data)\n",
    "sample_data = pd.DataFrame({\n",
    "    'Scam_Description': ['Hello, how are you doing today?'],\n",
    "    'Medium_Used': ['Chat'],\n",
    "    'Target_Actions': ['None'],\n",
    "    'Common_Phrases': ['Have a great day!'],\n",
    "    'Threat_Emotional': [0],\n",
    "    'Threat_Financial/Personal': [0],\n",
    "    'threat_type_encoded': [0],  # Placeholder\n",
    "    'Threat_Type_1': [0],\n",
    "    'Threat_Type_2': [0],\n",
    "    'Threat_Type_4': [0]\n",
    "})\n",
    "\n",
    "# Encode categorical columns\n",
    "for col in categorical_cols:\n",
    "    if col in sample_data.columns:\n",
    "        sample_data[col] = encoder.fit_transform(sample_data[col])  # Convert to numbers\n",
    "\n",
    "# Ensure the feature set is the same as the trained model\n",
    "expected_features = list(X_train_selected.columns)  # Use the features used in training\n",
    "sample_data = sample_data.reindex(columns=expected_features, fill_value=0)\n",
    "\n",
    "# Predict using XGBoost model\n",
    "predicted_scam = xgb_model.predict(sample_data)\n",
    "\n",
    "print(\"Predicted Scam Type:\", predicted_scam)\n"
   ]
  },
  {
   "cell_type": "code",
   "execution_count": 35,
   "id": "05145d75",
   "metadata": {},
   "outputs": [],
   "source": [
    "test_cases = [\n",
    "    \"You are a loser, and no one likes you!\",  # Personal attack\n",
    "    \"If you don't pay now, something bad will happen to you!\",  # Threat-based\n",
    "    \"Your family is in danger unless you send me money.\",  # Extortion\n",
    "    \"This is an official notice! Pay $500 or get arrested.\",  # Fake law enforcement\n",
    "    \"I have access to your personal information. Obey or regret!\",  # Blackmail\n",
    "    \"I saw what you did. Send me money or I'll expose you.\",  # Sextortion\n",
    "    \"Your phone is hacked. Pay now to fix it!\",  # Tech support scam\n",
    "    \"This is your bank. Share your OTP now!\",  # Phishing\n",
    "    \"Congrats! You won $1 million! Send processing fees now.\",  # Lottery scam\n",
    "    \"Your loan is approved! Just pay the security deposit first.\",  # Financial fraud\n",
    "]\n"
   ]
  },
  {
   "cell_type": "code",
   "execution_count": 36,
   "id": "402d7b83",
   "metadata": {},
   "outputs": [
    {
     "name": "stdout",
     "output_type": "stream",
     "text": [
      "Input: You are a loser, and no one likes you!  --> Predicted Scam Type: [0]\n",
      "Input: If you don't pay now, something bad will happen to you!  --> Predicted Scam Type: [0]\n",
      "Input: Your family is in danger unless you send me money.  --> Predicted Scam Type: [0]\n",
      "Input: This is an official notice! Pay $500 or get arrested.  --> Predicted Scam Type: [0]\n",
      "Input: I have access to your personal information. Obey or regret!  --> Predicted Scam Type: [0]\n",
      "Input: I saw what you did. Send me money or I'll expose you.  --> Predicted Scam Type: [0]\n",
      "Input: Your phone is hacked. Pay now to fix it!  --> Predicted Scam Type: [0]\n",
      "Input: This is your bank. Share your OTP now!  --> Predicted Scam Type: [0]\n",
      "Input: Congrats! You won $1 million! Send processing fees now.  --> Predicted Scam Type: [0]\n",
      "Input: Your loan is approved! Just pay the security deposit first.  --> Predicted Scam Type: [0]\n"
     ]
    },
    {
     "name": "stderr",
     "output_type": "stream",
     "text": [
      "E:\\python 3.7\\lib\\site-packages\\ipykernel_launcher.py:18: FutureWarning: elementwise comparison failed; returning scalar instead, but in the future will perform elementwise comparison\n"
     ]
    }
   ],
   "source": [
    "for text in test_cases:\n",
    "    sample_data = pd.DataFrame({\n",
    "        'Scam_Description': [text],\n",
    "        'Medium_Used': ['Email'],  \n",
    "        'Target_Actions': ['Threat'],  \n",
    "        'Common_Phrases': [text],  \n",
    "        'Threat_Emotional': [1],\n",
    "        'Threat_Financial/Personal': [1],\n",
    "        'threat_type_encoded': [2],  \n",
    "        'Threat_Type_1': [1],\n",
    "        'Threat_Type_2': [0],\n",
    "        'Threat_Type_4': [0]\n",
    "    })\n",
    "    \n",
    "    # Encode categorical columns correctly\n",
    "    for col in ['Scam_Description', 'Medium_Used', 'Target_Actions', 'Common_Phrases']:\n",
    "        if col in label_encoders:\n",
    "            sample_data[col] = sample_data[col].apply(lambda x: label_encoders[col].transform([x])[0] if x in label_encoders[col].classes_ else -1)\n",
    "\n",
    "    # Ensure feature alignment\n",
    "    sample_data = sample_data[X_train_selected.columns]\n",
    "\n",
    "    # Predict\n",
    "    predicted_scam = xgb_model.predict(sample_data)\n",
    "    print(f\"Input: {text}  --> Predicted Scam Type: {predicted_scam}\")\n"
   ]
  },
  {
   "cell_type": "code",
   "execution_count": 37,
   "id": "b030730c",
   "metadata": {},
   "outputs": [
    {
     "name": "stdout",
     "output_type": "stream",
     "text": [
      "   Scam_Description  Medium_Used  Target_Actions  Common_Phrases  \\\n",
      "0                -1           -1              -1              -1   \n",
      "\n",
      "   Threat_Emotional  Threat_Financial/Personal  threat_type_encoded  \\\n",
      "0                 1                          1                    2   \n",
      "\n",
      "   Threat_Type_1  Threat_Type_2  Threat_Type_4  \n",
      "0              1              0              0  \n"
     ]
    }
   ],
   "source": [
    "print(sample_data)  # Check if text columns are properly transformed\n"
   ]
  },
  {
   "cell_type": "code",
   "execution_count": 38,
   "id": "e47c2e03",
   "metadata": {},
   "outputs": [],
   "source": [
    "for col in ['Scam_Description', 'Medium_Used', 'Target_Actions', 'Common_Phrases']:\n",
    "    if col in label_encoders:\n",
    "        sample_data[col] = sample_data[col].apply(\n",
    "            lambda x: label_encoders[col].transform([x])[0] if x in label_encoders[col].classes_ else -1\n",
    "        )\n"
   ]
  },
  {
   "cell_type": "code",
   "execution_count": 39,
   "id": "6f8f7442",
   "metadata": {},
   "outputs": [
    {
     "name": "stdout",
     "output_type": "stream",
     "text": [
      "{0: 77, 1: 75, 2: 83, 3: 75, 4: 92, 5: 75, 6: 82, 7: 88, 8: 77, 9: 76}\n"
     ]
    }
   ],
   "source": [
    "import numpy as np\n",
    "unique, counts = np.unique(y_train, return_counts=True)\n",
    "print(dict(zip(unique, counts)))  # Check class distribution\n"
   ]
  },
  {
   "cell_type": "code",
   "execution_count": 40,
   "id": "d0170111",
   "metadata": {},
   "outputs": [
    {
     "name": "stdout",
     "output_type": "stream",
     "text": [
      "{0: 77, 1: 75, 2: 83, 3: 75, 4: 92, 5: 75, 6: 82, 7: 88, 8: 77, 9: 76}\n"
     ]
    }
   ],
   "source": [
    "import numpy as np\n",
    "unique, counts = np.unique(y_train, return_counts=True)\n",
    "print(dict(zip(unique, counts)))  # Check class distribution\n"
   ]
  },
  {
   "cell_type": "code",
   "execution_count": 41,
   "id": "9c5c4da6",
   "metadata": {},
   "outputs": [
    {
     "name": "stdout",
     "output_type": "stream",
     "text": [
      "                                     Scam_Description  threat_type_encoded\n",
      "0     Asks for donations to fake causes or charities.                    0\n",
      "1     Asks for donations to fake causes or charities.                    4\n",
      "2   Claims the victim's device is infected with ma...                    3\n",
      "3   Claims the victim has won a prize and asks for...                    2\n",
      "4   Claims the victim has won a prize and asks for...                    1\n",
      "..                                                ...                  ...\n",
      "95  Pretends to be someone else to steal personal ...                    0\n",
      "96  Claims the victim has won a prize and asks for...                    1\n",
      "97  Impersonates police or government to claim unp...                    5\n",
      "98  Claims the victim has won a prize and asks for...                    4\n",
      "99  Tricks victims into providing sensitive inform...                    4\n",
      "\n",
      "[100 rows x 2 columns]\n"
     ]
    }
   ],
   "source": [
    "print(df[['Scam_Description', 'threat_type_encoded']].head(100))  # Show first 20 rows\n"
   ]
  },
  {
   "cell_type": "code",
   "execution_count": 42,
   "id": "abdcafa0",
   "metadata": {},
   "outputs": [],
   "source": [
    "test_scams = [\n",
    "    \"Congratulations! You won $1,000,000! Click here to claim your prize.\",  # Lottery scam\n",
    "    \"Your bank account has been compromised. Please enter your password to secure it.\",  # Phishing\n",
    "    \"Tech support alert: Your computer has a virus! Call now to fix it.\",  # Tech support scam\n",
    "    \"Donate now to help orphaned children. Every dollar helps!\",  # Fake charity\n",
    "    \"This is the IRS. You have unpaid taxes. Pay now to avoid arrest.\",  # Fake government scam\n",
    "    \"You have been selected for a high-paying job. Pay a small fee to start.\",  # Job scam\n",
    "    \"This is PayPal. We noticed suspicious activity. Verify your account now.\",  # Impersonation scam\n",
    "    \"Your social security number has been suspended. Call now to reactivate.\",  # Fake law enforcement\n",
    "    \"Your Netflix subscription is expiring! Update your payment details immediately.\",  # Subscription scam\n",
    "    \"Urgent: Your electricity bill is overdue. Pay now to avoid disconnection.\"  # Utility scam\n",
    "]\n"
   ]
  },
  {
   "cell_type": "code",
   "execution_count": 43,
   "id": "12013e36",
   "metadata": {},
   "outputs": [
    {
     "name": "stdout",
     "output_type": "stream",
     "text": [
      "Input: Congratulations! You won $1,000,000! Click here to claim your prize.  --> Predicted Scam Type: [4]\n",
      "Input: Your bank account has been compromised. Please enter your password to secure it.  --> Predicted Scam Type: [4]\n",
      "Input: Tech support alert: Your computer has a virus! Call now to fix it.  --> Predicted Scam Type: [4]\n",
      "Input: Donate now to help orphaned children. Every dollar helps!  --> Predicted Scam Type: [4]\n",
      "Input: This is the IRS. You have unpaid taxes. Pay now to avoid arrest.  --> Predicted Scam Type: [4]\n",
      "Input: You have been selected for a high-paying job. Pay a small fee to start.  --> Predicted Scam Type: [4]\n",
      "Input: This is PayPal. We noticed suspicious activity. Verify your account now.  --> Predicted Scam Type: [4]\n",
      "Input: Your social security number has been suspended. Call now to reactivate.  --> Predicted Scam Type: [4]\n",
      "Input: Your Netflix subscription is expiring! Update your payment details immediately.  --> Predicted Scam Type: [4]\n",
      "Input: Urgent: Your electricity bill is overdue. Pay now to avoid disconnection.  --> Predicted Scam Type: [4]\n"
     ]
    },
    {
     "name": "stderr",
     "output_type": "stream",
     "text": [
      "E:\\python 3.7\\lib\\site-packages\\ipykernel_launcher.py:19: FutureWarning: elementwise comparison failed; returning scalar instead, but in the future will perform elementwise comparison\n"
     ]
    }
   ],
   "source": [
    "for text in test_scams:\n",
    "    sample_data = pd.DataFrame({\n",
    "        'Scam_Description': [text],\n",
    "        'Medium_Used': ['Email'],  \n",
    "        'Target_Actions': ['Unknown'],  \n",
    "        'Common_Phrases': [text],  \n",
    "        'Threat_Emotional': [0],\n",
    "        'Threat_Financial/Personal': [1],\n",
    "        'threat_type_encoded': [2],  \n",
    "        'Threat_Type_1': [1],\n",
    "        'Threat_Type_2': [0],\n",
    "        'Threat_Type_4': [0]\n",
    "    })\n",
    "    \n",
    "    # Encode categorical columns correctly\n",
    "    for col in ['Scam_Description', 'Medium_Used', 'Target_Actions', 'Common_Phrases']:\n",
    "        if col in label_encoders:\n",
    "            sample_data[col] = sample_data[col].apply(\n",
    "                lambda x: label_encoders[col].transform([x])[0] if x in label_encoders[col].classes_ else -1\n",
    "            )\n",
    "\n",
    "    # Ensure feature alignment\n",
    "    sample_data = sample_data[X_train_selected.columns]\n",
    "\n",
    "    # Predict\n",
    "    predicted_scam = xgb_model.predict(sample_data)\n",
    "    print(f\"Input: {text}  --> Predicted Scam Type: {predicted_scam}\")\n"
   ]
  },
  {
   "cell_type": "code",
   "execution_count": 44,
   "id": "eff2679f",
   "metadata": {},
   "outputs": [
    {
     "name": "stdout",
     "output_type": "stream",
     "text": [
      "{0: 77, 1: 75, 2: 83, 3: 75, 4: 92, 5: 75, 6: 82, 7: 88, 8: 77, 9: 76}\n"
     ]
    }
   ],
   "source": [
    "unique, counts = np.unique(y_train, return_counts=True)\n",
    "print(dict(zip(unique, counts)))\n"
   ]
  },
  {
   "cell_type": "code",
   "execution_count": 45,
   "id": "ddbef85e",
   "metadata": {},
   "outputs": [
    {
     "name": "stdout",
     "output_type": "stream",
     "text": [
      "Missing values: 0\n"
     ]
    }
   ],
   "source": [
    "print(\"Missing values:\", X_train['Scam_Description'].isna().sum())\n"
   ]
  },
  {
   "cell_type": "code",
   "execution_count": 55,
   "id": "fccd0b64",
   "metadata": {},
   "outputs": [
    {
     "name": "stdout",
     "output_type": "stream",
     "text": [
      "Empty values: 0\n"
     ]
    }
   ],
   "source": [
    "print(\"Empty values:\", (X_train['Scam_Description'].str.strip() == \"\").sum())\n"
   ]
  },
  {
   "cell_type": "code",
   "execution_count": 56,
   "id": "6d51ca09",
   "metadata": {},
   "outputs": [
    {
     "name": "stdout",
     "output_type": "stream",
     "text": [
      "29     Tricks victims into providing sensitive inform...\n",
      "535      Asks for donations to fake causes or charities.\n",
      "695    Tricks victims into providing sensitive inform...\n",
      "557    Impersonates police or government to claim unp...\n",
      "836    Threatens to release personal data unless rans...\n",
      "596    Claims the victim's device is infected with ma...\n",
      "165    Exploits online relationships to demand money ...\n",
      "918    Claims the victim has won a prize and asks for...\n",
      "495    Promotes fake investment opportunities to stea...\n",
      "824      Asks for donations to fake causes or charities.\n",
      "Name: Scam_Description, dtype: object\n"
     ]
    }
   ],
   "source": [
    "print(X_train['Scam_Description'].head(10))\n"
   ]
  },
  {
   "cell_type": "code",
   "execution_count": 57,
   "id": "83fc8161",
   "metadata": {},
   "outputs": [
    {
     "name": "stdout",
     "output_type": "stream",
     "text": [
      "                                    Scam_Description\n",
      "0    Asks for donations to fake causes or charities.\n",
      "1    Asks for donations to fake causes or charities.\n",
      "2  Claims the victim's device is infected with ma...\n",
      "3  Claims the victim has won a prize and asks for...\n",
      "4  Claims the victim has won a prize and asks for...\n",
      "5  Impersonates police or government to claim unp...\n",
      "6    Asks for donations to fake causes or charities.\n",
      "7  Tricks victims into providing sensitive inform...\n",
      "8  Promotes fake investment opportunities to stea...\n",
      "9  Threatens to release personal data unless rans...\n"
     ]
    }
   ],
   "source": [
    "print(df[['Scam_Description']].head(10))\n"
   ]
  },
  {
   "cell_type": "code",
   "execution_count": 58,
   "id": "c93ece0f",
   "metadata": {},
   "outputs": [],
   "source": [
    "X_train['Scam_Description'] = df['Scam_Description']\n",
    "X_test['Scam_Description'] = df['Scam_Description']\n"
   ]
  },
  {
   "cell_type": "code",
   "execution_count": 59,
   "id": "063160fc",
   "metadata": {},
   "outputs": [
    {
     "name": "stdout",
     "output_type": "stream",
     "text": [
      "29     Tricks victims into providing sensitive inform...\n",
      "535      Asks for donations to fake causes or charities.\n",
      "695    Tricks victims into providing sensitive inform...\n",
      "557    Impersonates police or government to claim unp...\n",
      "836    Threatens to release personal data unless rans...\n",
      "596    Claims the victim's device is infected with ma...\n",
      "165    Exploits online relationships to demand money ...\n",
      "918    Claims the victim has won a prize and asks for...\n",
      "495    Promotes fake investment opportunities to stea...\n",
      "824      Asks for donations to fake causes or charities.\n",
      "Name: Scam_Description, dtype: object\n"
     ]
    }
   ],
   "source": [
    "print(X_train['Scam_Description'].head(10))\n"
   ]
  },
  {
   "cell_type": "code",
   "execution_count": 60,
   "id": "6f0987d4",
   "metadata": {},
   "outputs": [
    {
     "name": "stdout",
     "output_type": "stream",
     "text": [
      "TF-IDF Transformation Successful!\n"
     ]
    }
   ],
   "source": [
    "from sklearn.feature_extraction.text import TfidfVectorizer\n",
    "\n",
    "vectorizer = TfidfVectorizer()\n",
    "X_train_tfidf = vectorizer.fit_transform(X_train['Scam_Description'])\n",
    "X_test_tfidf = vectorizer.transform(X_test['Scam_Description'])\n",
    "\n",
    "print(\"TF-IDF Transformation Successful!\")\n"
   ]
  },
  {
   "cell_type": "code",
   "execution_count": 61,
   "id": "4ac9c510",
   "metadata": {},
   "outputs": [
    {
     "name": "stdout",
     "output_type": "stream",
     "text": [
      "Model Training Successful!\n"
     ]
    }
   ],
   "source": [
    "from sklearn.ensemble import RandomForestClassifier\n",
    "\n",
    "# Train Random Forest with TF-IDF features\n",
    "rf_model = RandomForestClassifier(n_estimators=100, random_state=42)\n",
    "rf_model.fit(X_train_tfidf, y_train)\n",
    "\n",
    "print(\"Model Training Successful!\")\n"
   ]
  },
  {
   "cell_type": "code",
   "execution_count": 62,
   "id": "677de99f",
   "metadata": {},
   "outputs": [
    {
     "name": "stdout",
     "output_type": "stream",
     "text": [
      "Input: Congratulations! You won $1,000,000! Click here to claim your prize.  --> Predicted Scam Type: 4\n",
      "Input: Your bank account has been compromised. Please enter your password to secure it.  --> Predicted Scam Type: 4\n",
      "Input: Tech support alert: Your computer has a virus! Call now to fix it.  --> Predicted Scam Type: 4\n",
      "Input: Donate now to help orphaned children. Every dollar helps!  --> Predicted Scam Type: 5\n",
      "Input: This is the IRS. You have unpaid taxes. Pay now to avoid arrest.  --> Predicted Scam Type: 5\n"
     ]
    }
   ],
   "source": [
    "# Sample scam messages for testing\n",
    "test_scams = [\n",
    "    \"Congratulations! You won $1,000,000! Click here to claim your prize.\",  # Lottery scam\n",
    "    \"Your bank account has been compromised. Please enter your password to secure it.\",  # Phishing\n",
    "    \"Tech support alert: Your computer has a virus! Call now to fix it.\",  # Tech support scam\n",
    "    \"Donate now to help orphaned children. Every dollar helps!\",  # Fake charity\n",
    "    \"This is the IRS. You have unpaid taxes. Pay now to avoid arrest.\",  # Fake law enforcement\n",
    "]\n",
    "\n",
    "# Convert test data to TF-IDF features\n",
    "test_data_tfidf = vectorizer.transform(test_scams)\n",
    "\n",
    "# Predict scam type\n",
    "predicted_scam = rf_model.predict(test_data_tfidf)\n",
    "\n",
    "# Print results\n",
    "for text, prediction in zip(test_scams, predicted_scam):\n",
    "    print(f\"Input: {text}  --> Predicted Scam Type: {prediction}\")\n"
   ]
  },
  {
   "cell_type": "code",
   "execution_count": 63,
   "id": "d5d0057d",
   "metadata": {},
   "outputs": [
    {
     "name": "stdout",
     "output_type": "stream",
     "text": [
      "TF-IDF with bigrams applied successfully!\n"
     ]
    }
   ],
   "source": [
    "from sklearn.feature_extraction.text import TfidfVectorizer\n",
    "\n",
    "vectorizer = TfidfVectorizer(ngram_range=(1,2))  # Use bigrams\n",
    "X_train_tfidf = vectorizer.fit_transform(X_train['Scam_Description'])\n",
    "X_test_tfidf = vectorizer.transform(X_test['Scam_Description'])\n",
    "\n",
    "print(\"TF-IDF with bigrams applied successfully!\")\n"
   ]
  },
  {
   "cell_type": "code",
   "execution_count": 64,
   "id": "f811790a",
   "metadata": {},
   "outputs": [
    {
     "name": "stdout",
     "output_type": "stream",
     "text": [
      "Model Retrained with Bigrams!\n"
     ]
    }
   ],
   "source": [
    "rf_model = RandomForestClassifier(n_estimators=100, random_state=42)\n",
    "rf_model.fit(X_train_tfidf, y_train)\n",
    "\n",
    "print(\"Model Retrained with Bigrams!\")\n"
   ]
  },
  {
   "cell_type": "code",
   "execution_count": 65,
   "id": "6322ad4a",
   "metadata": {},
   "outputs": [
    {
     "name": "stdout",
     "output_type": "stream",
     "text": [
      "Input: Congratulations! You won $1,000,000! Click here to claim your prize.  --> Predicted Scam Type: 4\n",
      "Input: Your bank account has been compromised. Please enter your password to secure it.  --> Predicted Scam Type: 7\n",
      "Input: Tech support alert: Your computer has a virus! Call now to fix it.  --> Predicted Scam Type: 7\n",
      "Input: Donate now to help orphaned children. Every dollar helps!  --> Predicted Scam Type: 7\n",
      "Input: This is the IRS. You have unpaid taxes. Pay now to avoid arrest.  --> Predicted Scam Type: 5\n"
     ]
    }
   ],
   "source": [
    "test_data_tfidf = vectorizer.transform(test_scams)\n",
    "predicted_scam = rf_model.predict(test_data_tfidf)\n",
    "\n",
    "for text, prediction in zip(test_scams, predicted_scam):\n",
    "    print(f\"Input: {text}  --> Predicted Scam Type: {prediction}\")\n"
   ]
  },
  {
   "cell_type": "code",
   "execution_count": 66,
   "id": "9f2f8ef8",
   "metadata": {},
   "outputs": [
    {
     "name": "stdout",
     "output_type": "stream",
     "text": [
      "4    92\n",
      "7    88\n",
      "2    83\n",
      "6    82\n",
      "8    77\n",
      "0    77\n",
      "9    76\n",
      "5    75\n",
      "1    75\n",
      "3    75\n",
      "dtype: int64\n"
     ]
    }
   ],
   "source": [
    "import pandas as pd\n",
    "y_train_series = pd.Series(y_train)  # Convert NumPy array to Pandas Series\n",
    "print(y_train_series.value_counts())  # Check class distribution\n",
    "\n"
   ]
  },
  {
   "cell_type": "code",
   "execution_count": 67,
   "id": "79182ba2",
   "metadata": {},
   "outputs": [
    {
     "name": "stdout",
     "output_type": "stream",
     "text": [
      "Model and Vectorizer Saved Successfully!\n"
     ]
    }
   ],
   "source": [
    "import pickle\n",
    "\n",
    "# Save the model\n",
    "with open(\"scam_detection_model.pkl\", \"wb\") as model_file:\n",
    "    pickle.dump(rf_model, model_file)\n",
    "\n",
    "# Save the TF-IDF vectorizer\n",
    "with open(\"tfidf_vectorizer.pkl\", \"wb\") as vectorizer_file:\n",
    "    pickle.dump(vectorizer, vectorizer_file)\n",
    "\n",
    "print(\"Model and Vectorizer Saved Successfully!\")\n"
   ]
  },
  {
   "cell_type": "code",
   "execution_count": 71,
   "id": "940fec24",
   "metadata": {
    "scrolled": true
   },
   "outputs": [
    {
     "name": "stdout",
     "output_type": "stream",
     "text": [
      "Collecting openai-whisper\n",
      "  Using cached openai-whisper-20230306.tar.gz (1.2 MB)\n",
      "  Installing build dependencies: started\n",
      "  Installing build dependencies: finished with status 'done'\n",
      "  Getting requirements to build wheel: started\n",
      "  Getting requirements to build wheel: finished with status 'done'\n",
      "  Installing backend dependencies: started\n",
      "  Installing backend dependencies: finished with status 'done'\n",
      "  Preparing metadata (pyproject.toml): started\n",
      "  Preparing metadata (pyproject.toml): finished with status 'done'\n",
      "Collecting numba (from openai-whisper)\n",
      "  Using cached numba-0.56.4-cp37-cp37m-win_amd64.whl.metadata (2.8 kB)\n",
      "Requirement already satisfied: numpy in e:\\python 3.7\\lib\\site-packages (from openai-whisper) (1.21.6)\n",
      "Collecting torch (from openai-whisper)\n",
      "  Using cached torch-1.13.1-cp37-cp37m-win_amd64.whl.metadata (23 kB)\n",
      "Requirement already satisfied: tqdm in e:\\python 3.7\\lib\\site-packages (from openai-whisper) (4.67.1)\n",
      "Collecting more-itertools (from openai-whisper)\n",
      "  Using cached more_itertools-9.1.0-py3-none-any.whl.metadata (32 kB)\n",
      "Collecting transformers>=4.19.0 (from openai-whisper)\n",
      "  Using cached transformers-4.30.2-py3-none-any.whl.metadata (113 kB)\n",
      "Collecting ffmpeg-python==0.2.0 (from openai-whisper)\n",
      "  Using cached ffmpeg_python-0.2.0-py3-none-any.whl.metadata (1.7 kB)\n",
      "Collecting future (from ffmpeg-python==0.2.0->openai-whisper)\n",
      "  Using cached future-1.0.0-py3-none-any.whl.metadata (4.0 kB)\n",
      "Collecting filelock (from transformers>=4.19.0->openai-whisper)\n",
      "  Using cached filelock-3.12.2-py3-none-any.whl.metadata (2.7 kB)\n",
      "Collecting huggingface-hub<1.0,>=0.14.1 (from transformers>=4.19.0->openai-whisper)\n",
      "  Using cached huggingface_hub-0.16.4-py3-none-any.whl.metadata (12 kB)\n",
      "Requirement already satisfied: packaging>=20.0 in e:\\python 3.7\\lib\\site-packages (from transformers>=4.19.0->openai-whisper) (24.0)\n",
      "Requirement already satisfied: pyyaml>=5.1 in e:\\python 3.7\\lib\\site-packages (from transformers>=4.19.0->openai-whisper) (6.0.1)\n",
      "Requirement already satisfied: regex!=2019.12.17 in e:\\python 3.7\\lib\\site-packages (from transformers>=4.19.0->openai-whisper) (2024.4.16)\n",
      "Requirement already satisfied: requests in e:\\python 3.7\\lib\\site-packages (from transformers>=4.19.0->openai-whisper) (2.31.0)\n",
      "Collecting tokenizers!=0.11.3,<0.14,>=0.11.1 (from transformers>=4.19.0->openai-whisper)\n",
      "  Using cached tokenizers-0.13.3-cp37-cp37m-win_amd64.whl.metadata (6.9 kB)\n",
      "Collecting safetensors>=0.3.1 (from transformers>=4.19.0->openai-whisper)\n",
      "  Using cached safetensors-0.5.3.tar.gz (67 kB)\n",
      "  Installing build dependencies: started\n",
      "  Installing build dependencies: finished with status 'done'\n",
      "  Getting requirements to build wheel: started\n",
      "  Getting requirements to build wheel: finished with status 'done'\n",
      "  Preparing metadata (pyproject.toml): started\n",
      "  Preparing metadata (pyproject.toml): finished with status 'error'\n",
      "Note: you may need to restart the kernel to use updated packages.\n"
     ]
    },
    {
     "name": "stderr",
     "output_type": "stream",
     "text": [
      "WARNING: Ignoring invalid distribution -ip (e:\\python 3.7\\lib\\site-packages)\n",
      "  error: subprocess-exited-with-error\n",
      "  \n",
      "  Preparing metadata (pyproject.toml) did not run successfully.\n",
      "  exit code: 1\n",
      "  \n",
      "  [6 lines of output]\n",
      "  \n",
      "  Cargo, the Rust package manager, is not installed or is not on PATH.\n",
      "  This package requires Rust and Cargo to compile extensions. Install it through\n",
      "  the system's package manager or via https://rustup.rs/\n",
      "  \n",
      "  Checking for Rust toolchain....\n",
      "  [end of output]\n",
      "  \n",
      "  note: This error originates from a subprocess, and is likely not a problem with pip.\n",
      "error: metadata-generation-failed\n",
      "\n",
      "Encountered error while generating package metadata.\n",
      "\n",
      "See above for output.\n",
      "\n",
      "note: This is an issue with the package mentioned above, not pip.\n",
      "hint: See above for details.\n"
     ]
    }
   ],
   "source": [
    "pip install openai-whisper\n"
   ]
  },
  {
   "cell_type": "code",
   "execution_count": 10,
   "id": "14ce79a9",
   "metadata": {},
   "outputs": [
    {
     "ename": "ModuleNotFoundError",
     "evalue": "No module named 'whisper'",
     "output_type": "error",
     "traceback": [
      "\u001b[1;31m---------------------------------------------------------------------------\u001b[0m",
      "\u001b[1;31mModuleNotFoundError\u001b[0m                       Traceback (most recent call last)",
      "\u001b[1;32mD:\\app data\\Temp\\ipykernel_9724\\1834687531.py\u001b[0m in \u001b[0;36m<module>\u001b[1;34m\u001b[0m\n\u001b[1;32m----> 1\u001b[1;33m \u001b[1;32mimport\u001b[0m \u001b[0mwhisper\u001b[0m\u001b[1;33m\u001b[0m\u001b[1;33m\u001b[0m\u001b[0m\n\u001b[0m\u001b[0;32m      2\u001b[0m \u001b[1;33m\u001b[0m\u001b[0m\n\u001b[0;32m      3\u001b[0m \u001b[1;31m# Load Whisper model\u001b[0m\u001b[1;33m\u001b[0m\u001b[1;33m\u001b[0m\u001b[1;33m\u001b[0m\u001b[0m\n\u001b[0;32m      4\u001b[0m \u001b[0mmodel\u001b[0m \u001b[1;33m=\u001b[0m \u001b[0mwhisper\u001b[0m\u001b[1;33m.\u001b[0m\u001b[0mload_model\u001b[0m\u001b[1;33m(\u001b[0m\u001b[1;34m\"base\"\u001b[0m\u001b[1;33m)\u001b[0m  \u001b[1;31m# You can use \"small\" or \"medium\" for better accuracy\u001b[0m\u001b[1;33m\u001b[0m\u001b[1;33m\u001b[0m\u001b[0m\n\u001b[0;32m      5\u001b[0m \u001b[1;33m\u001b[0m\u001b[0m\n",
      "\u001b[1;31mModuleNotFoundError\u001b[0m: No module named 'whisper'"
     ]
    }
   ],
   "source": [
    "import whisper\n",
    "\n",
    "# Load Whisper model\n",
    "model = whisper.load_model(\"base\")  # You can use \"small\" or \"medium\" for better accuracy\n",
    "\n",
    "# Transcribe the renamed audio file\n",
    "result = model.transcribe(\"audio.mp3\")  # Make sure this file exists\n",
    "\n",
    "# Print the transcription\n",
    "print(\"Transcription:\", result[\"text\"])\n"
   ]
  },
  {
   "cell_type": "code",
   "execution_count": 9,
   "id": "04e1e094",
   "metadata": {},
   "outputs": [
    {
     "name": "stdout",
     "output_type": "stream",
     "text": [
      "Collecting openai-whisper\n",
      "  Using cached openai-whisper-20230306.tar.gz (1.2 MB)\n",
      "  Installing build dependencies: started\n",
      "  Installing build dependencies: finished with status 'done'\n",
      "  Getting requirements to build wheel: started\n",
      "  Getting requirements to build wheel: finished with status 'done'\n",
      "  Installing backend dependencies: started\n",
      "  Installing backend dependencies: finished with status 'done'\n",
      "  Preparing metadata (pyproject.toml): started\n",
      "  Preparing metadata (pyproject.toml): finished with status 'done'\n",
      "Collecting numba (from openai-whisper)\n",
      "  Using cached numba-0.56.4-cp37-cp37m-win_amd64.whl.metadata (2.8 kB)\n",
      "Requirement already satisfied: numpy in e:\\python 3.7\\lib\\site-packages (from openai-whisper) (1.21.6)\n",
      "Collecting torch (from openai-whisper)\n",
      "  Using cached torch-1.13.1-cp37-cp37m-win_amd64.whl.metadata (23 kB)\n",
      "Requirement already satisfied: tqdm in e:\\python 3.7\\lib\\site-packages (from openai-whisper) (4.67.1)\n",
      "Collecting more-itertools (from openai-whisper)\n",
      "  Using cached more_itertools-9.1.0-py3-none-any.whl.metadata (32 kB)\n",
      "Collecting transformers>=4.19.0 (from openai-whisper)\n",
      "  Using cached transformers-4.30.2-py3-none-any.whl.metadata (113 kB)\n",
      "Collecting ffmpeg-python==0.2.0 (from openai-whisper)\n",
      "  Using cached ffmpeg_python-0.2.0-py3-none-any.whl.metadata (1.7 kB)\n",
      "Collecting future (from ffmpeg-python==0.2.0->openai-whisper)\n",
      "  Using cached future-1.0.0-py3-none-any.whl.metadata (4.0 kB)\n",
      "Collecting filelock (from transformers>=4.19.0->openai-whisper)\n",
      "  Using cached filelock-3.12.2-py3-none-any.whl.metadata (2.7 kB)\n",
      "Collecting huggingface-hub<1.0,>=0.14.1 (from transformers>=4.19.0->openai-whisper)\n",
      "  Using cached huggingface_hub-0.16.4-py3-none-any.whl.metadata (12 kB)\n",
      "Requirement already satisfied: packaging>=20.0 in e:\\python 3.7\\lib\\site-packages (from transformers>=4.19.0->openai-whisper) (24.0)\n",
      "Requirement already satisfied: pyyaml>=5.1 in e:\\python 3.7\\lib\\site-packages (from transformers>=4.19.0->openai-whisper) (6.0.1)\n",
      "Requirement already satisfied: regex!=2019.12.17 in e:\\python 3.7\\lib\\site-packages (from transformers>=4.19.0->openai-whisper) (2024.4.16)\n",
      "Requirement already satisfied: requests in e:\\python 3.7\\lib\\site-packages (from transformers>=4.19.0->openai-whisper) (2.31.0)\n",
      "Collecting tokenizers!=0.11.3,<0.14,>=0.11.1 (from transformers>=4.19.0->openai-whisper)\n",
      "  Using cached tokenizers-0.13.3-cp37-cp37m-win_amd64.whl.metadata (6.9 kB)\n",
      "Collecting safetensors>=0.3.1 (from transformers>=4.19.0->openai-whisper)\n",
      "  Using cached safetensors-0.5.3.tar.gz (67 kB)\n",
      "  Installing build dependencies: started\n",
      "  Installing build dependencies: finished with status 'done'\n",
      "  Getting requirements to build wheel: started\n",
      "  Getting requirements to build wheel: finished with status 'done'\n",
      "  Preparing metadata (pyproject.toml): started\n",
      "  Preparing metadata (pyproject.toml): finished with status 'error'\n",
      "Note: you may need to restart the kernel to use updated packages.\n"
     ]
    },
    {
     "name": "stderr",
     "output_type": "stream",
     "text": [
      "WARNING: Ignoring invalid distribution -ip (e:\\python 3.7\\lib\\site-packages)\n",
      "  error: subprocess-exited-with-error\n",
      "  \n",
      "  Preparing metadata (pyproject.toml) did not run successfully.\n",
      "  exit code: 1\n",
      "  \n",
      "  [6 lines of output]\n",
      "  \n",
      "  Cargo, the Rust package manager, is not installed or is not on PATH.\n",
      "  This package requires Rust and Cargo to compile extensions. Install it through\n",
      "  the system's package manager or via https://rustup.rs/\n",
      "  \n",
      "  Checking for Rust toolchain....\n",
      "  [end of output]\n",
      "  \n",
      "  note: This error originates from a subprocess, and is likely not a problem with pip.\n",
      "error: metadata-generation-failed\n",
      "\n",
      "Encountered error while generating package metadata.\n",
      "\n",
      "See above for output.\n",
      "\n",
      "note: This is an issue with the package mentioned above, not pip.\n",
      "hint: See above for details.\n"
     ]
    }
   ],
   "source": [
    "pip install openai-whisper\n"
   ]
  },
  {
   "cell_type": "code",
   "execution_count": null,
   "id": "729555af",
   "metadata": {},
   "outputs": [],
   "source": []
  }
 ],
 "metadata": {
  "kernelspec": {
   "display_name": "Python 3 (ipykernel)",
   "language": "python",
   "name": "python3"
  },
  "language_info": {
   "codemirror_mode": {
    "name": "ipython",
    "version": 3
   },
   "file_extension": ".py",
   "mimetype": "text/x-python",
   "name": "python",
   "nbconvert_exporter": "python",
   "pygments_lexer": "ipython3",
   "version": "3.7.9"
  }
 },
 "nbformat": 4,
 "nbformat_minor": 5
}
